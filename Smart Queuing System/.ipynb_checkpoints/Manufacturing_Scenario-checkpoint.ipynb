{
 "cells": [
  {
   "cell_type": "markdown",
   "metadata": {},
   "source": [
    "# Smart Queue Monitoring System - Manufacturing Scenario\n",
    "\n",
    "## Overview\n",
    "Now that you have your Python script and job submission script, you're ready to request an **IEI Tank-870** edge node and run inference on the different hardware types (CPU, GPU, VPU, FPGA).\n",
    "\n",
    "After the inference is completed, the output video and stats files need to be retrieved and stored in the workspace, which can then be viewed within the Jupyter Notebook.\n",
    "\n",
    "## Objectives\n",
    "* Submit inference jobs to Intel's DevCloud using the `qsub` command.\n",
    "* Retrieve and review the results.\n",
    "* After testing, go back to the proposal doc and update your original proposed hardware device."
   ]
  },
  {
   "cell_type": "markdown",
   "metadata": {},
   "source": [
    "## Step 0: Set Up\n",
    "\n",
    "#### IMPORTANT: Set up paths so we can run Dev Cloud utilities\n",
    "You *must* run this every time you enter a Workspace session.\n",
    "(Tip: select the cell and use **Shift+Enter** to run the cell.)"
   ]
  },
  {
   "cell_type": "code",
   "execution_count": 1,
   "metadata": {},
   "outputs": [
    {
     "name": "stdout",
     "output_type": "stream",
     "text": [
      "env: PATH=/opt/conda/bin:/opt/spark-2.4.3-bin-hadoop2.7/bin:/opt/conda/bin:/usr/local/sbin:/usr/local/bin:/usr/sbin:/usr/bin:/sbin:/bin:/opt/intel_devcloud_support\n"
     ]
    }
   ],
   "source": [
    "%env PATH=/opt/conda/bin:/opt/spark-2.4.3-bin-hadoop2.7/bin:/opt/conda/bin:/usr/local/sbin:/usr/local/bin:/usr/sbin:/usr/bin:/sbin:/bin:/opt/intel_devcloud_support\n",
    "import os\n",
    "import sys\n",
    "sys.path.insert(0, os.path.abspath('/opt/intel_devcloud_support'))\n",
    "sys.path.insert(0, os.path.abspath('/opt/intel'))"
   ]
  },
  {
   "cell_type": "markdown",
   "metadata": {},
   "source": [
    "### Step 0.1:  (Optional-step): Original Video\n",
    "\n",
    "If you are curious to see the input video, run the following cell to view the original video stream we'll be using for inference."
   ]
  },
  {
   "cell_type": "code",
   "execution_count": 20,
   "metadata": {},
   "outputs": [
    {
     "data": {
      "text/html": [
       "<h5>Manufacturing</h5>\n",
       "        <video alt=\"\" controls autoplay muted height=\"480\"><source src=\"original_videos/Manufacturing.mp4\" type=\"video/mp4\" /></video>\n",
       "        "
      ],
      "text/plain": [
       "<IPython.core.display.HTML object>"
      ]
     },
     "execution_count": 20,
     "metadata": {},
     "output_type": "execute_result"
    }
   ],
   "source": [
    "import videoHtml\n",
    "videoHtml.videoHTML('Manufacturing', ['original_videos/Manufacturing.mp4'])"
   ]
  },
  {
   "cell_type": "markdown",
   "metadata": {},
   "source": [
    "## Step 1 : Inference on a Video\n",
    "\n",
    "In the next few cells, You'll submit your job using the `qsub` command and retrieve the results for each job. Each of the cells below should submit a job to different edge compute nodes.\n",
    "\n",
    "The output of the cell is the `JobID` of your job, which you can use to track progress of a job with `liveQStat`.\n",
    "\n",
    "You will need to submit a job for each of the following hardware types:\n",
    "* **CPU**\n",
    "* **GPU**\n",
    "* **VPU**\n",
    "* **FPGA**\n",
    "\n",
    "**Note:** You will have to submit each job one at a time and retrieve their results. \n",
    "\n",
    "After submission, they will go into a queue and run as soon as the requested compute resources become available. \n",
    "(Tip: **shift+enter** will run the cell and automatically move you to the next cell.)\n",
    "\n",
    "If your job successfully runs and completes, once you retrieve your results, it should output a video and a stats text file in the `results/manufacturing/<DEVICE>` directory.\n",
    "\n",
    "For example, your **CPU** job should output its files in this directory:\n",
    "> **results/manufacturing/cpu**\n",
    "\n",
    "**Note**: To get the queue labels for the different hardware devices, you can go to [this link](https://devcloud.intel.com/edge/get_started/devcloud/).\n",
    "\n",
    "The following arguments should be passed to the job submission script after the `-F` flag:\n",
    "* Model path - `/data/models/intel/person-detection-retail-0013/<MODEL PRECISION>/`. You will need to adjust this path based on the model precision being using on the hardware.\n",
    "* Device - `CPU`, `GPU`, `MYRIAD`, `HETERO:FPGA,CPU`.\n",
    "* Manufacturing video path - `/data/resources/manufacturing.mp4`.\n",
    "* Manufacturing queue_param file path - `/data/queue_param/manufacturing.npy`.\n",
    "* Output path - `/output/results/manufacturing/<DEVICE>` This should be adjusted based on the device used in the job.\n",
    "* Max num of people - This is the max number of people in queue before the system would redirect them to another queue."
   ]
  },
  {
   "cell_type": "markdown",
   "metadata": {},
   "source": [
    "## Step 1.1: Submit to an Edge Compute Node with an Intel CPU\n",
    "In the cell below, write a script to submit a job to an <a \n",
    "    href=\"https://software.intel.com/en-us/iot/hardware/iei-tank-dev-kit-core\">IEI \n",
    "    Tank* 870-Q170</a> edge node with an <a \n",
    "    href=\"https://ark.intel.com/products/88186/Intel-Core-i5-6500TE-Processor-6M-Cache-up-to-3-30-GHz-\">Intel Core™ i5-6500TE processor</a>. The inference workload should run on the CPU."
   ]
  },
  {
   "cell_type": "code",
   "execution_count": 31,
   "metadata": {},
   "outputs": [
    {
     "name": "stdout",
     "output_type": "stream",
     "text": [
      "/bin/sh: 1: cd: can't cd to /data/queue_param/manufacturing.npy\r\n"
     ]
    }
   ],
   "source": [
    "!cp /data/queue_param/manufacturing.npy output"
   ]
  },
  {
   "cell_type": "code",
   "execution_count": 2,
   "metadata": {},
   "outputs": [
    {
     "name": "stdout",
     "output_type": "stream",
     "text": [
      "vcVLTFQfuy2ksuCBiol9lHpdyrEsJMpy\n"
     ]
    }
   ],
   "source": [
    "#Submit job to the queue\n",
    "cpu_job_id = !qsub queue_job.sh -d . -l nodes=1:tank-870:i5-6500te -F \"/data/models/intel/person-detection-retail-0013/FP16/person-detection-retail-0013 CPU /data/resources/manufacturing.mp4 /data/queue_param/manufacturing.npy /output/results/manufacturing/cpu 3\" -N \"manufacturing_cpu\"\n",
    "\n",
    "print(cpu_job_id[0])"
   ]
  },
  {
   "cell_type": "markdown",
   "metadata": {},
   "source": [
    "#### Check Job Status\n",
    "\n",
    "To check on the job that was submitted, use `liveQStat` to check the status of the job.\n",
    "\n",
    "Column `S` shows the state of your running jobs.\n",
    "\n",
    "For example:\n",
    "- If `JOB ID`is in Q state, it is in the queue waiting for available resources.\n",
    "- If `JOB ID` is in R state, it is running."
   ]
  },
  {
   "cell_type": "code",
   "execution_count": 25,
   "metadata": {},
   "outputs": [],
   "source": [
    "import liveQStat\n",
    "liveQStat.liveQStat()"
   ]
  },
  {
   "cell_type": "markdown",
   "metadata": {},
   "source": [
    "#### Get Results\n",
    "\n",
    "Run the next cell to retrieve your job's results."
   ]
  },
  {
   "cell_type": "code",
   "execution_count": 26,
   "metadata": {},
   "outputs": [
    {
     "name": "stdout",
     "output_type": "stream",
     "text": [
      "getResults() is blocking until results of the job (id:nrIw5ucXtcRHgut6OAmORdNfObpiVuuA) are ready.\n",
      "Please wait............................Success!\n",
      "output.tgz was downloaded in the same folder as this notebook.\n"
     ]
    }
   ],
   "source": [
    "import get_results\n",
    "get_results.getResults(cpu_job_id[0], filename='output.tgz', blocking=True)"
   ]
  },
  {
   "cell_type": "markdown",
   "metadata": {},
   "source": [
    "#### Unpack your output files and view stdout.log"
   ]
  },
  {
   "cell_type": "code",
   "execution_count": 27,
   "metadata": {},
   "outputs": [],
   "source": [
    "!tar zxf output.tgz"
   ]
  },
  {
   "cell_type": "code",
   "execution_count": 28,
   "metadata": {},
   "outputs": [
    {
     "name": "stdout",
     "output_type": "stream",
     "text": [
      "Total People in frame = 9\r\n",
      "Total People in frame = [array([0.30920094, 0.24686155, 0.45105308, 0.8626193 ], dtype=float32), array([0.05024902, 0.25755763, 0.2217266 , 0.9615357 ], dtype=float32), array([0.5066336 , 0.22166798, 0.6672401 , 0.8188484 ], dtype=float32), array([0.6668362 , 0.24429694, 0.7773439 , 0.7642745 ], dtype=float32), array([0.7957586 , 0.24990061, 0.92173696, 0.6733209 ], dtype=float32), array([0.74506855, 0.2289038 , 0.8126857 , 0.59144306], dtype=float32), array([0.9196685 , 0.24930646, 0.99085206, 0.55948925], dtype=float32), array([0.89991516, 0.24643096, 0.96287805, 0.53891385], dtype=float32), array([0.63017   , 0.23407748, 0.64560616, 0.29750708], dtype=float32)]\r\n",
      "Number of people in queue = {1: 0, 2: 0}\r\n",
      "Total People in frame = 9\r\n",
      "Total People in frame = [array([0.3090747 , 0.2461502 , 0.45084506, 0.8631558 ], dtype=float32), array([0.04993629, 0.25845182, 0.22191185, 0.9607986 ], dtype=float32), array([0.5036799 , 0.21886629, 0.66676533, 0.81883293], dtype=float32), array([0.6666671 , 0.24326864, 0.7779267 , 0.76539123], dtype=float32), array([0.7946249 , 0.2501347 , 0.92153037, 0.6711431 ], dtype=float32), array([0.7461077 , 0.22929132, 0.8134142 , 0.5902581 ], dtype=float32), array([0.920209  , 0.24889086, 0.99131924, 0.55996394], dtype=float32), array([0.89975345, 0.24433741, 0.9629663 , 0.53828764], dtype=float32), array([0.630238  , 0.23373832, 0.6458568 , 0.29769605], dtype=float32)]\r\n",
      "Number of people in queue = {1: 0, 2: 0}\r\n",
      "Total People in frame = 9\r\n",
      "Total People in frame = [array([0.30897382, 0.24634796, 0.45084885, 0.86289304], dtype=float32), array([0.05008475, 0.26000747, 0.22185521, 0.96073055], dtype=float32), array([0.5015845 , 0.2186163 , 0.66809386, 0.81901187], dtype=float32), array([0.6662938 , 0.24160445, 0.77822214, 0.76590276], dtype=float32), array([0.7463449 , 0.22931987, 0.8136432 , 0.5904029 ], dtype=float32), array([0.7939156 , 0.25043106, 0.9216312 , 0.67109483], dtype=float32), array([0.92109376, 0.24904725, 0.9920108 , 0.560568  ], dtype=float32), array([0.8999246 , 0.24498716, 0.9627866 , 0.5377718 ], dtype=float32), array([0.6301565 , 0.23371387, 0.6460297 , 0.2980371 ], dtype=float32)]\r\n",
      "Number of people in queue = {1: 0, 2: 0}\r\n",
      "Total People in frame = 9\r\n",
      "Total People in frame = [array([0.308943  , 0.24620152, 0.45048085, 0.86396825], dtype=float32), array([0.05037741, 0.26036134, 0.22164255, 0.9589344 ], dtype=float32), array([0.5043143 , 0.21992117, 0.6702604 , 0.8154529 ], dtype=float32), array([0.6660057 , 0.24056247, 0.7791868 , 0.7661011 ], dtype=float32), array([0.7463935 , 0.22941189, 0.8142962 , 0.5904194 ], dtype=float32), array([0.7933406 , 0.25085324, 0.92162377, 0.67170084], dtype=float32), array([0.92198634, 0.24779746, 0.9926444 , 0.5604191 ], dtype=float32), array([0.89963126, 0.2448754 , 0.9624214 , 0.53745985], dtype=float32), array([0.6301394 , 0.23387954, 0.64608234, 0.29847255], dtype=float32)]\r\n",
      "Number of people in queue = {1: 0, 2: 0}\r\n",
      "Total People in frame = 9\r\n",
      "Total People in frame = [array([0.3087798 , 0.2459892 , 0.45053712, 0.86431324], dtype=float32), array([0.04993451, 0.2598108 , 0.22156578, 0.9590293 ], dtype=float32), array([0.50564754, 0.21915194, 0.6706686 , 0.811646  ], dtype=float32), array([0.66543907, 0.2391839 , 0.77968353, 0.7664987 ], dtype=float32), array([0.74697256, 0.2288298 , 0.8140836 , 0.59075266], dtype=float32), array([0.79266495, 0.25116873, 0.9211957 , 0.6742577 ], dtype=float32), array([0.9218864 , 0.24806862, 0.9923338 , 0.5617557 ], dtype=float32), array([0.89968956, 0.24437481, 0.96248066, 0.53824526], dtype=float32), array([0.6302649 , 0.23353696, 0.6465744 , 0.29893166], dtype=float32)]\r\n",
      "Number of people in queue = {1: 0, 2: 0}\r\n",
      "Total People in frame = 9\r\n",
      "Total People in frame = [array([0.30882826, 0.24550888, 0.45060453, 0.861807  ], dtype=float32), array([0.04950691, 0.26053992, 0.22161016, 0.96221757], dtype=float32), array([0.50406873, 0.21858558, 0.67084587, 0.812938  ], dtype=float32), array([0.66574085, 0.23936218, 0.7799616 , 0.7660652 ], dtype=float32), array([0.74683326, 0.2279869 , 0.81421024, 0.5902847 ], dtype=float32), array([0.7926494 , 0.25130165, 0.92108893, 0.674524  ], dtype=float32), array([0.9231781 , 0.24645872, 0.9933114 , 0.56144714], dtype=float32), array([0.8993905 , 0.24374305, 0.9620426 , 0.53651506], dtype=float32), array([0.6302358 , 0.2332587 , 0.64652693, 0.29847255], dtype=float32)]\r\n",
      "Number of people in queue = {1: 0, 2: 0}\r\n",
      "Total People in frame = 9\r\n",
      "Total People in frame = [array([0.30866054, 0.24573743, 0.4506583 , 0.8611162 ], dtype=float32), array([0.04955144, 0.2602166 , 0.22154318, 0.9620414 ], dtype=float32), array([0.5065321 , 0.21666354, 0.67154837, 0.8112419 ], dtype=float32), array([0.6663485 , 0.23901805, 0.7807198 , 0.7674489 ], dtype=float32), array([0.7467395 , 0.22962342, 0.81449986, 0.59105086], dtype=float32), array([0.7924171 , 0.25194007, 0.92096835, 0.674326  ], dtype=float32), array([0.924219  , 0.24574794, 0.9943105 , 0.56195337], dtype=float32), array([0.89892966, 0.24491288, 0.96147376, 0.5370182 ], dtype=float32), array([0.630171  , 0.23326948, 0.64655656, 0.29835418], dtype=float32)]\r\n",
      "Number of people in queue = {1: 0, 2: 0}\r\n",
      "Total People in frame = 9\r\n",
      "Total People in frame = [array([0.30852646, 0.24702522, 0.45139164, 0.86337924], dtype=float32), array([0.04952358, 0.2608027 , 0.22141099, 0.9627033 ], dtype=float32), array([0.50964814, 0.21713623, 0.6716468 , 0.81018245], dtype=float32), array([0.66617113, 0.23894271, 0.78095776, 0.767779  ], dtype=float32), array([0.7465709 , 0.23125625, 0.8134026 , 0.5897653 ], dtype=float32), array([0.793046  , 0.25183615, 0.92051625, 0.6739869 ], dtype=float32), array([0.9241938 , 0.24591461, 0.99448997, 0.5615573 ], dtype=float32), array([0.89872694, 0.24473497, 0.96160233, 0.5370791 ], dtype=float32), array([0.63008773, 0.23296171, 0.6465857 , 0.29881835], dtype=float32)]\r\n",
      "Number of people in queue = {1: 0, 2: 0}\r\n",
      "Total People in frame = 9\r\n",
      "Total People in frame = [array([0.30852205, 0.247902  , 0.45199418, 0.86297977], dtype=float32), array([0.04938059, 0.26071072, 0.22145642, 0.9628202 ], dtype=float32), array([0.50643295, 0.21662024, 0.67055255, 0.8111962 ], dtype=float32), array([0.66632056, 0.23864156, 0.78066885, 0.7687331 ], dtype=float32), array([0.79577833, 0.25211084, 0.9200756 , 0.67267394], dtype=float32), array([0.7477443 , 0.23169632, 0.813143  , 0.5912711 ], dtype=float32), array([0.8983108 , 0.24510862, 0.96125996, 0.5364095 ], dtype=float32), array([0.924915  , 0.24670027, 0.99459845, 0.5611484 ], dtype=float32), array([0.6299124 , 0.23250696, 0.6466478 , 0.29912254], dtype=float32)]\r\n",
      "Number of people in queue = {1: 0, 2: 0}\r\n",
      "Total People in frame = 9\r\n",
      "Total People in frame = [array([0.30923295, 0.2465916 , 0.45131373, 0.86236954], dtype=float32), array([0.04963283, 0.26100552, 0.2212788 , 0.9667753 ], dtype=float32), array([0.50310624, 0.2169193 , 0.66992843, 0.8126801 ], dtype=float32), array([0.6663252 , 0.2389245 , 0.7810191 , 0.76904464], dtype=float32), array([0.796435  , 0.25218296, 0.91998494, 0.6737479 ], dtype=float32), array([0.7484979 , 0.23427512, 0.812926  , 0.5924206 ], dtype=float32), array([0.9258829 , 0.24603052, 0.99555   , 0.5604821 ], dtype=float32), array([0.898193  , 0.2457629 , 0.96100235, 0.5358819 ], dtype=float32), array([0.6297782 , 0.23255278, 0.6466463 , 0.29964608], dtype=float32)]\r\n",
      "Number of people in queue = {1: 0, 2: 0}\r\n",
      "Total People in frame = 9\r\n",
      "Total People in frame = [array([0.3089675 , 0.24531779, 0.45120147, 0.86282885], dtype=float32), array([0.04961405, 0.26113164, 0.22122589, 0.96756446], dtype=float32), array([0.50151896, 0.21755758, 0.66864157, 0.813674  ], dtype=float32), array([0.6657096 , 0.23914605, 0.7813941 , 0.76978785], dtype=float32), array([0.79648   , 0.25302356, 0.9198341 , 0.6751724 ], dtype=float32), array([0.7493842 , 0.23659253, 0.81057316, 0.5904846 ], dtype=float32), array([0.9264156 , 0.24460794, 0.9960161 , 0.5604655 ], dtype=float32), array([0.89748764, 0.2448207 , 0.9608917 , 0.537021  ], dtype=float32), array([0.62977636, 0.23236433, 0.64657414, 0.29963598], dtype=float32)]\r\n",
      "Number of people in queue = {1: 0, 2: 0}\r\n",
      "Total People in frame = 9\r\n",
      "Total People in frame = [array([0.30954146, 0.24393126, 0.45066053, 0.8634771 ], dtype=float32), array([0.04942138, 0.2612176 , 0.22125101, 0.9678016 ], dtype=float32), array([0.4991781 , 0.21854058, 0.6684794 , 0.8140608 ], dtype=float32), array([0.6658053 , 0.23908588, 0.78186315, 0.7700021 ], dtype=float32), array([0.79661953, 0.2534307 , 0.9195833 , 0.6758646 ], dtype=float32), array([0.74986374, 0.23452124, 0.8141556 , 0.59487677], dtype=float32), array([0.9270173, 0.2434787, 0.9964741, 0.5603077], dtype=float32), array([0.89696366, 0.24445045, 0.9607244 , 0.53752464], dtype=float32), array([0.62977844, 0.23213562, 0.64640564, 0.29921243], dtype=float32)]\r\n",
      "Number of people in queue = {1: 0, 2: 0}\r\n",
      "Total People in frame = 9\r\n",
      "Total People in frame = [array([0.31011868, 0.24377897, 0.45008916, 0.8643582 ], dtype=float32), array([0.04985485, 0.2613121 , 0.22131252, 0.9662832 ], dtype=float32), array([0.49981463, 0.21891907, 0.6693044 , 0.81287146], dtype=float32), array([0.6655217 , 0.2378428 , 0.78141445, 0.7709278 ], dtype=float32), array([0.79657066, 0.2528804 , 0.91989446, 0.6736416 ], dtype=float32), array([0.749041  , 0.23614173, 0.81284994, 0.5936587 ], dtype=float32), array([0.89642787, 0.24464725, 0.96023715, 0.53753173], dtype=float32), array([0.92824596, 0.24221227, 0.9972519 , 0.56012714], dtype=float32), array([0.630054  , 0.23220173, 0.6466284 , 0.29951867], dtype=float32)]\r\n",
      "Number of people in queue = {1: 0, 2: 0}\r\n",
      "Total People in frame = 9\r\n",
      "Total People in frame = [array([0.31249654, 0.24239993, 0.44828033, 0.8674543 ], dtype=float32), array([0.04986858, 0.26103598, 0.22118756, 0.9647835 ], dtype=float32), array([0.49971965, 0.21875393, 0.6685982 , 0.81275785], dtype=float32), array([0.6657436 , 0.23851255, 0.7817768 , 0.7714683 ], dtype=float32), array([0.796842  , 0.25512898, 0.9206377 , 0.6713915 ], dtype=float32), array([0.8959607 , 0.24448094, 0.95977616, 0.53920305], dtype=float32), array([0.9291298, 0.2403697, 0.997529 , 0.5595894], dtype=float32), array([0.7472969 , 0.2384482 , 0.81158507, 0.589672  ], dtype=float32), array([0.6301161 , 0.2323452 , 0.6467004 , 0.29942277], dtype=float32)]\r\n",
      "Number of people in queue = {1: 0, 2: 0}\r\n",
      "Total People in frame = 9\r\n",
      "Total People in frame = [array([0.31389937, 0.24254194, 0.44676396, 0.8683841 ], dtype=float32), array([0.05001609, 0.2609744 , 0.22113134, 0.96494937], dtype=float32), array([0.49891013, 0.21936607, 0.6687656 , 0.81374776], dtype=float32), array([0.66457415, 0.23819268, 0.7819165 , 0.7718488 ], dtype=float32), array([0.7966034, 0.2547926, 0.9204933, 0.6712016], dtype=float32), array([0.8959056 , 0.24476735, 0.9593338 , 0.5389713 ], dtype=float32), array([0.92867047, 0.2403166 , 0.99737006, 0.5593052 ], dtype=float32), array([0.7468439 , 0.23988335, 0.8108447 , 0.5887211 ], dtype=float32), array([0.62997377, 0.23230891, 0.64680207, 0.2996241 ], dtype=float32)]\r\n",
      "Number of people in queue = {1: 0, 2: 0}\r\n",
      "Total People in frame = 9\r\n",
      "Total People in frame = [array([0.04994877, 0.26140606, 0.22126304, 0.9651309 ], dtype=float32), array([0.32008937, 0.2534562 , 0.4461333 , 0.86716604], dtype=float32), array([0.49846685, 0.21983919, 0.66760135, 0.8146994 ], dtype=float32), array([0.6650887 , 0.23814926, 0.78234226, 0.7713214 ], dtype=float32), array([0.7978049 , 0.25530967, 0.92031974, 0.67108405], dtype=float32), array([0.92888904, 0.23971994, 0.997499  , 0.55965173], dtype=float32), array([0.89648503, 0.2458153 , 0.95901805, 0.5384271 ], dtype=float32), array([0.74622834, 0.24126711, 0.809986  , 0.5887039 ], dtype=float32), array([0.62978274, 0.2326066 , 0.64661974, 0.299847  ], dtype=float32)]\r\n",
      "Number of people in queue = {1: 0, 2: 0}\r\n",
      "Total People in frame = 9\r\n",
      "Total People in frame = [array([0.32048106, 0.25347885, 0.44607115, 0.8683375 ], dtype=float32), array([0.04994141, 0.26156628, 0.22129801, 0.9615923 ], dtype=float32), array([0.49873522, 0.21830606, 0.6657444 , 0.8201548 ], dtype=float32), array([0.66505367, 0.23860723, 0.78258413, 0.77217144], dtype=float32), array([0.79704857, 0.25593814, 0.9204259 , 0.67091334], dtype=float32), array([0.89719784, 0.2463124 , 0.9599644 , 0.540249  ], dtype=float32), array([0.92766064, 0.24199556, 0.9964146 , 0.5615676 ], dtype=float32), array([0.62971157, 0.2318204 , 0.64673275, 0.3003661 ], dtype=float32), array([0.7452415 , 0.24328174, 0.80943966, 0.58839405], dtype=float32)]\r\n",
      "Number of people in queue = {1: 0, 2: 0}\r\n",
      "Total People in frame = 9\r\n",
      "Total People in frame = [array([0.05017083, 0.26188245, 0.22126064, 0.96018493], dtype=float32), array([0.3209433 , 0.25306502, 0.4455182 , 0.8692033 ], dtype=float32), array([0.5007239 , 0.21748799, 0.66614276, 0.820674  ], dtype=float32), array([0.663876  , 0.23864254, 0.78258544, 0.77228224], dtype=float32), array([0.796413  , 0.25752693, 0.9206299 , 0.67408985], dtype=float32), array([0.8973481 , 0.24550022, 0.960432  , 0.5402563 ], dtype=float32), array([0.9275173 , 0.24360046, 0.99572897, 0.5611541 ], dtype=float32), array([0.74894524, 0.2501065 , 0.80816543, 0.5811566 ], dtype=float32), array([0.6295201 , 0.23252545, 0.6460692 , 0.29923403], dtype=float32)]\r\n",
      "Number of people in queue = {1: 0, 2: 0}\r\n",
      "Total People in frame = 8\r\n",
      "Total People in frame = [array([0.50146747, 0.21671635, 0.6651795 , 0.8208123 ], dtype=float32), array([0.3205769 , 0.25205296, 0.4458915 , 0.869296  ], dtype=float32), array([0.0498082 , 0.26281855, 0.22124484, 0.96296334], dtype=float32), array([0.6635407 , 0.23955262, 0.78243244, 0.77178943], dtype=float32), array([0.796551  , 0.25693047, 0.9204029 , 0.6727718 ], dtype=float32), array([0.8974316 , 0.24666631, 0.9603474 , 0.53874975], dtype=float32), array([0.92701054, 0.24070163, 0.9957601 , 0.5603625 ], dtype=float32), array([0.6297604 , 0.23171546, 0.646785  , 0.30027986], dtype=float32)]\r\n",
      "Number of people in queue = {1: 0, 2: 0}\r\n",
      "Total People in frame = 8\r\n",
      "Total People in frame = [array([0.49766263, 0.21753821, 0.6638932 , 0.8213568 ], dtype=float32), array([0.320886  , 0.25317833, 0.4448876 , 0.8708037 ], dtype=float32), array([0.04980136, 0.2618723 , 0.22108082, 0.9634453 ], dtype=float32), array([0.6638352 , 0.23493773, 0.7845784 , 0.77311414], dtype=float32), array([0.7972439 , 0.2571628 , 0.921143  , 0.67215824], dtype=float32), array([0.92594373, 0.24079895, 0.9950954 , 0.55777776], dtype=float32), array([0.89718807, 0.24393521, 0.96075714, 0.53787714], dtype=float32), array([0.6299578 , 0.23186806, 0.64681387, 0.2983984 ], dtype=float32)]\r\n",
      "Number of people in queue = {1: 0, 2: 0}\r\n",
      "Total People in frame = 8\r\n",
      "Total People in frame = [array([0.49820092, 0.21684027, 0.6634942 , 0.8237088 ], dtype=float32), array([0.32056314, 0.25399736, 0.44416392, 0.8670813 ], dtype=float32), array([0.0500356 , 0.26188383, 0.22099346, 0.96266603], dtype=float32), array([0.6639768 , 0.23482975, 0.78507304, 0.77301824], dtype=float32), array([0.7959647 , 0.25732887, 0.92071617, 0.67423147], dtype=float32), array([0.92697275, 0.2374626 , 0.99545205, 0.5597465 ], dtype=float32), array([0.8973031 , 0.24353349, 0.96042717, 0.53759956], dtype=float32), array([0.63008916, 0.23179567, 0.64693034, 0.29805452], dtype=float32)]\r\n",
      "Number of people in queue = {1: 0, 2: 0}\r\n",
      "Total People in frame = 8\r\n",
      "Total People in frame = [array([0.49727613, 0.21889335, 0.66256267, 0.822676  ], dtype=float32), array([0.04959781, 0.2609994 , 0.2212877 , 0.96352327], dtype=float32), array([0.32050866, 0.25395203, 0.44406217, 0.8665277 ], dtype=float32), array([0.66287553, 0.23507437, 0.7851137 , 0.773191  ], dtype=float32), array([0.7963382 , 0.25642294, 0.920612  , 0.6740962 ], dtype=float32), array([0.926767  , 0.2372345 , 0.994359  , 0.55902314], dtype=float32), array([0.89773726, 0.24281578, 0.95982456, 0.5375303 ], dtype=float32), array([0.6299423 , 0.23258841, 0.6466788 , 0.2992701 ], dtype=float32)]\r\n",
      "Number of people in queue = {1: 0, 2: 0}\r\n",
      "Total People in frame = 8\r\n",
      "Total People in frame = [array([0.5059242 , 0.21792379, 0.6632246 , 0.82224476], dtype=float32), array([0.04977281, 0.26152077, 0.22130169, 0.96070564], dtype=float32), array([0.32052213, 0.25302345, 0.44386578, 0.867866  ], dtype=float32), array([0.6620176 , 0.23809066, 0.7842016 , 0.7697791 ], dtype=float32), array([0.79567385, 0.25598508, 0.92078316, 0.6742242 ], dtype=float32), array([0.89850557, 0.24276792, 0.9605247 , 0.5380349 ], dtype=float32), array([0.9247191 , 0.23847717, 0.9924084 , 0.5584686 ], dtype=float32), array([0.63000333, 0.23270187, 0.6465641 , 0.29947945], dtype=float32)]\r\n",
      "Number of people in queue = {1: 0, 2: 0}\r\n",
      "Total People in frame = 8\r\n",
      "Total People in frame = [array([0.5084167 , 0.21936965, 0.6630054 , 0.82400393], dtype=float32), array([0.04980185, 0.26144585, 0.22122845, 0.9621383 ], dtype=float32), array([0.32048753, 0.25277144, 0.44461468, 0.86732155], dtype=float32), array([0.6619736 , 0.23779911, 0.7842597 , 0.7698888 ], dtype=float32), array([0.7951854 , 0.25606048, 0.9212211 , 0.6748634 ], dtype=float32), array([0.89847004, 0.2432126 , 0.9606254 , 0.53923213], dtype=float32), array([0.9249554 , 0.24207509, 0.9925048 , 0.5600416 ], dtype=float32), array([0.6296855 , 0.2336564 , 0.64612174, 0.30014735], dtype=float32)]\r\n",
      "Number of people in queue = {1: 0, 2: 0}\r\n",
      "Total People in frame = 8\r\n",
      "Total People in frame = [array([0.50949794, 0.21838   , 0.66498715, 0.8250238 ], dtype=float32), array([0.04986399, 0.2610631 , 0.22144952, 0.96073437], dtype=float32), array([0.3206501 , 0.25350222, 0.44478893, 0.8643707 ], dtype=float32), array([0.66336584, 0.2347481 , 0.7855923 , 0.77395535], dtype=float32), array([0.7947676 , 0.25667506, 0.9207256 , 0.6747712 ], dtype=float32), array([0.8987588 , 0.24410085, 0.9607714 , 0.53891194], dtype=float32), array([0.9235099 , 0.2443318 , 0.991769  , 0.55982804], dtype=float32), array([0.6299151 , 0.23327678, 0.6464424 , 0.30035967], dtype=float32)]\r\n",
      "Number of people in queue = {1: 0, 2: 0}\r\n",
      "Total People in frame = 9\r\n",
      "Total People in frame = [array([0.04971138, 0.26165152, 0.22114679, 0.96040225], dtype=float32), array([0.321555  , 0.2503973 , 0.44497648, 0.86492586], dtype=float32), array([0.51185554, 0.2170156 , 0.66784054, 0.8269149 ], dtype=float32), array([0.6630152 , 0.2352038 , 0.78575474, 0.77307373], dtype=float32), array([0.79451525, 0.2556088 , 0.92073953, 0.67264426], dtype=float32), array([0.8985436 , 0.24448402, 0.9599848 , 0.5398637 ], dtype=float32), array([0.92695737, 0.24387297, 0.9938297 , 0.5617573 ], dtype=float32), array([0.74792576, 0.24913298, 0.80664265, 0.5745847 ], dtype=float32), array([0.62927586, 0.23301041, 0.64639825, 0.30192977], dtype=float32)]\r\n",
      "Number of people in queue = {1: 0, 2: 0}\r\n",
      "Total People in frame = 9\r\n",
      "Total People in frame = [array([0.32347685, 0.25373685, 0.44678777, 0.85660136], dtype=float32), array([0.04992073, 0.2622697 , 0.22113788, 0.9603832 ], dtype=float32), array([0.5218917 , 0.22152877, 0.6695305 , 0.81733537], dtype=float32), array([0.6626121 , 0.23556328, 0.7858604 , 0.77288926], dtype=float32), array([0.7943785 , 0.2562074 , 0.92103946, 0.67293304], dtype=float32), array([0.8981396 , 0.24305655, 0.9592595 , 0.5379455 ], dtype=float32), array([0.9283061 , 0.24067989, 0.9949657 , 0.5620066 ], dtype=float32), array([0.7480376 , 0.25161278, 0.80649173, 0.5760983 ], dtype=float32), array([0.62918407, 0.23268646, 0.6462961 , 0.30209124], dtype=float32)]\r\n",
      "Number of people in queue = {1: 0, 2: 0}\r\n",
      "Total People in frame = 9\r\n",
      "Total People in frame = [array([0.3221524 , 0.25187466, 0.45231983, 0.8556793 ], dtype=float32), array([0.04987083, 0.26207653, 0.22122316, 0.96065664], dtype=float32), array([0.5245366 , 0.22026041, 0.6686505 , 0.8163723 ], dtype=float32), array([0.6633509 , 0.23522288, 0.78576726, 0.7733223 ], dtype=float32), array([0.79488516, 0.25534633, 0.92043376, 0.6727536 ], dtype=float32), array([0.8991496, 0.2446447, 0.9594802, 0.5396253], dtype=float32), array([0.74849534, 0.24928744, 0.8078098 , 0.5796238 ], dtype=float32), array([0.92698073, 0.24225345, 0.9934603 , 0.5625782 ], dtype=float32), array([0.62925386, 0.23250067, 0.6464275 , 0.30248255], dtype=float32)]\r\n",
      "Number of people in queue = {1: 0, 2: 0}\r\n",
      "Total People in frame = 9\r\n",
      "Total People in frame = [array([0.32067493, 0.2462213 , 0.45872483, 0.8561959 ], dtype=float32), array([0.04963987, 0.26268244, 0.22123665, 0.96179485], dtype=float32), array([0.5275686 , 0.21904272, 0.6688694 , 0.8166713 ], dtype=float32), array([0.66350275, 0.23550418, 0.78552705, 0.7734506 ], dtype=float32), array([0.79542404, 0.25678968, 0.9204678 , 0.67352086], dtype=float32), array([0.89867145, 0.24171534, 0.95940524, 0.53781223], dtype=float32), array([0.74874395, 0.25053278, 0.8079619 , 0.58002913], dtype=float32), array([0.9263272 , 0.23973724, 0.9932052 , 0.5617384 ], dtype=float32), array([0.6294097 , 0.23247175, 0.6464448 , 0.30252784], dtype=float32)]\r\n",
      "Number of people in queue = {1: 0, 2: 0}\r\n",
      "Total People in frame = 9\r\n",
      "Total People in frame = [array([0.04950678, 0.26235813, 0.2211999 , 0.95866746], dtype=float32), array([0.3190908 , 0.24560648, 0.47123727, 0.86619586], dtype=float32), array([0.5287156 , 0.2189188 , 0.66946626, 0.8145176 ], dtype=float32), array([0.66350055, 0.23558223, 0.78515947, 0.7739265 ], dtype=float32), array([0.79571515, 0.25649476, 0.9206353 , 0.6734823 ], dtype=float32), array([0.89890474, 0.24328402, 0.9600225 , 0.5405556 ], dtype=float32), array([0.74882966, 0.24714527, 0.8078169 , 0.5794722 ], dtype=float32), array([0.6290534 , 0.23197857, 0.6460889 , 0.3030075 ], dtype=float32), array([0.92369044, 0.24248211, 0.9907489 , 0.56231445], dtype=float32)]\r\n",
      "Number of people in queue = {1: 0, 2: 0}\r\n",
      "Total People in frame = 9\r\n",
      "Total People in frame = [array([0.04938068, 0.26290244, 0.2214756 , 0.9588322 ], dtype=float32), array([0.31922063, 0.24536562, 0.47693655, 0.86497045], dtype=float32), array([0.5302119 , 0.21871063, 0.6694405 , 0.8130114 ], dtype=float32), array([0.6637501 , 0.23648396, 0.78447515, 0.7736043 ], dtype=float32), array([0.7962973 , 0.2579121 , 0.9204459 , 0.67231643], dtype=float32), array([0.89908665, 0.24217768, 0.9604495 , 0.5399417 ], dtype=float32), array([0.75071245, 0.24859092, 0.81027883, 0.58240294], dtype=float32), array([0.6291913 , 0.23243287, 0.64602697, 0.3020971 ], dtype=float32), array([0.92230546, 0.24317485, 0.98995817, 0.56112856], dtype=float32)]\r\n",
      "Number of people in queue = {1: 0, 2: 0}\r\n",
      "Total People in frame = 9\r\n",
      "Total People in frame = [array([0.04949054, 0.26481912, 0.22154978, 0.9585134 ], dtype=float32), array([0.31959397, 0.24518088, 0.48372948, 0.8638152 ], dtype=float32), array([0.5294895 , 0.21883538, 0.66995895, 0.81196916], dtype=float32), array([0.6637991 , 0.23686802, 0.7840498 , 0.77315855], dtype=float32), array([0.79709864, 0.25722528, 0.92042994, 0.6726022 ], dtype=float32), array([0.89915466, 0.24228938, 0.96036613, 0.54119897], dtype=float32), array([0.7504437 , 0.24584137, 0.810416  , 0.58355236], dtype=float32), array([0.9223623 , 0.2444767 , 0.98926747, 0.5617982 ], dtype=float32), array([0.6292304 , 0.23224066, 0.6460699 , 0.30192366], dtype=float32)]\r\n",
      "Number of people in queue = {1: 0, 2: 0}\r\n",
      "Total People in frame = 9\r\n",
      "Total People in frame = [array([0.04824124, 0.2670972 , 0.22608677, 0.9720926 ], dtype=float32), array([0.31868988, 0.24593753, 0.48162317, 0.8645434 ], dtype=float32), array([0.5286028, 0.2180866, 0.6694798, 0.8114613], dtype=float32), array([0.66422486, 0.23657933, 0.784197  , 0.7734649 ], dtype=float32), array([0.7970928 , 0.25803798, 0.9205692 , 0.6731507 ], dtype=float32), array([0.8976381 , 0.24172148, 0.9591049 , 0.5396862 ], dtype=float32), array([0.74968565, 0.24778415, 0.80901587, 0.5826367 ], dtype=float32), array([0.9240278 , 0.24465364, 0.99217045, 0.56261367], dtype=float32), array([0.6294625 , 0.23277336, 0.64601064, 0.3013469 ], dtype=float32)]\r\n",
      "Number of people in queue = {1: 0, 2: 0}\r\n",
      "Total People in frame = 9\r\n",
      "Total People in frame = [array([0.04740506, 0.26786914, 0.22673228, 0.969216  ], dtype=float32), array([0.3186303 , 0.24763668, 0.47635815, 0.86397743], dtype=float32), array([0.5301938 , 0.2169494 , 0.66936696, 0.8098344 ], dtype=float32), array([0.66433805, 0.24320427, 0.7822494 , 0.7680541 ], dtype=float32), array([0.79682076, 0.2577994 , 0.9211612 , 0.6719772 ], dtype=float32), array([0.8985331 , 0.24235398, 0.96059406, 0.54107296], dtype=float32), array([0.75002015, 0.24797694, 0.80927205, 0.5829391 ], dtype=float32), array([0.92148626, 0.25176013, 0.99052715, 0.56170994], dtype=float32), array([0.6292015 , 0.23294346, 0.64582175, 0.30169442], dtype=float32)]\r\n",
      "Number of people in queue = {1: 0, 2: 0}\r\n",
      "Total People in frame = 9\r\n",
      "Total People in frame = [array([0.04770307, 0.26950774, 0.22693078, 0.9693537 ], dtype=float32), array([0.31714588, 0.24771866, 0.4760738 , 0.86395466], dtype=float32), array([0.5298534 , 0.21715227, 0.66983086, 0.8119992 ], dtype=float32), array([0.66435635, 0.2438632 , 0.7823951 , 0.768443  ], dtype=float32), array([0.7960845 , 0.25853354, 0.92178905, 0.6720701 ], dtype=float32), array([0.8982575 , 0.24312426, 0.96106577, 0.5402602 ], dtype=float32), array([0.9212291 , 0.25180173, 0.9910518 , 0.56117547], dtype=float32), array([0.74818796, 0.25055963, 0.80764955, 0.584014  ], dtype=float32), array([0.6294039 , 0.23302665, 0.6460369 , 0.3012217 ], dtype=float32)]\r\n",
      "Number of people in queue = {1: 0, 2: 0}\r\n",
      "Total People in frame = 8\r\n",
      "Total People in frame = [array([0.31564134, 0.2480154 , 0.46935785, 0.86557317], dtype=float32), array([0.04779344, 0.26887152, 0.2272796 , 0.9687494 ], dtype=float32), array([0.5293586 , 0.21675956, 0.6711502 , 0.8118005 ], dtype=float32), array([0.66759366, 0.23932984, 0.7818921 , 0.7755995 ], dtype=float32), array([0.7963192 , 0.2576658 , 0.92173535, 0.67235786], dtype=float32), array([0.7482218 , 0.24787351, 0.8074096 , 0.5836235 ], dtype=float32), array([0.89950883, 0.2450343 , 0.96160626, 0.54159236], dtype=float32), array([0.6293832 , 0.2322237 , 0.6461686 , 0.30113178], dtype=float32)]\r\n",
      "Number of people in queue = {1: 0, 2: 0}\r\n",
      "Total People in frame = 9\r\n",
      "Total People in frame = [array([0.52665037, 0.21767625, 0.6713483 , 0.8135195 ], dtype=float32), array([0.31332666, 0.24774817, 0.4718753 , 0.8635186 ], dtype=float32), array([0.04928287, 0.26830927, 0.22693935, 0.96996677], dtype=float32), array([0.66840404, 0.23969042, 0.7810212 , 0.77431166], dtype=float32), array([0.7954837 , 0.25875854, 0.9217473 , 0.67167354], dtype=float32), array([0.89948386, 0.24447921, 0.9613945 , 0.5425234 ], dtype=float32), array([0.9209036 , 0.25371525, 0.9899177 , 0.564885  ], dtype=float32), array([0.7482042 , 0.24990882, 0.80656344, 0.58165544], dtype=float32), array([0.6294827 , 0.23278835, 0.64608485, 0.3010901 ], dtype=float32)]\r\n",
      "Number of people in queue = {1: 0, 2: 0}\r\n",
      "Total People in frame = 8\r\n",
      "Total People in frame = [array([0.5247345 , 0.21806645, 0.6711657 , 0.81235385], dtype=float32), array([0.31018642, 0.24736586, 0.4710739 , 0.8626139 ], dtype=float32), array([0.0501531 , 0.26774558, 0.22250715, 0.95536184], dtype=float32), array([0.66860235, 0.240699  , 0.7806175 , 0.7733068 ], dtype=float32), array([0.7946463, 0.2580716, 0.9218932, 0.6721588], dtype=float32), array([0.74843305, 0.24842332, 0.80722874, 0.5813319 ], dtype=float32), array([0.9002867 , 0.24437813, 0.9632727 , 0.54360026], dtype=float32), array([0.6291619 , 0.23203722, 0.645698  , 0.3011146 ], dtype=float32)]\r\n",
      "Number of people in queue = {1: 0, 2: 0}\r\n",
      "Total People in frame = 8\r\n",
      "Total People in frame = [array([0.05094332, 0.26630077, 0.22266746, 0.95609   ], dtype=float32), array([0.5249098 , 0.21860114, 0.67125136, 0.8123106 ], dtype=float32), array([0.30911398, 0.24762493, 0.4708227 , 0.8621469 ], dtype=float32), array([0.666709  , 0.241835  , 0.78011984, 0.7725847 ], dtype=float32), array([0.7952987 , 0.2581845 , 0.92151165, 0.6718896 ], dtype=float32), array([0.74780583, 0.24772961, 0.8066051 , 0.5817845 ], dtype=float32), array([0.8999558 , 0.24581538, 0.9634082 , 0.54302084], dtype=float32), array([0.6296832 , 0.23229487, 0.64638025, 0.3009127 ], dtype=float32)]\r\n",
      "Number of people in queue = {1: 0, 2: 0}\r\n",
      "Total People in frame = 8\r\n",
      "Total People in frame = [array([0.52457553, 0.21951109, 0.6710368 , 0.81323713], dtype=float32), array([0.05157432, 0.2645749 , 0.222348  , 0.95612395], dtype=float32), array([0.30936226, 0.24886   , 0.47320166, 0.8630785 ], dtype=float32), array([0.66776574, 0.24147394, 0.7802081 , 0.77184355], dtype=float32), array([0.79501045, 0.2567536 , 0.92130816, 0.67216086], dtype=float32), array([0.9007643 , 0.24705271, 0.9640438 , 0.5422711 ], dtype=float32), array([0.7470952 , 0.24711831, 0.80606616, 0.580758  ], dtype=float32), array([0.6291148 , 0.23196456, 0.64559716, 0.30076948], dtype=float32)]\r\n",
      "Number of people in queue = {1: 0, 2: 0}\r\n",
      "Total People in frame = 8\r\n",
      "Total People in frame = [array([0.05390974, 0.2648292 , 0.22204301, 0.9567052 ], dtype=float32), array([0.30955407, 0.24905467, 0.4721907 , 0.8646226 ], dtype=float32), array([0.5251005 , 0.21956071, 0.6702022 , 0.81363773], dtype=float32), array([0.6679021 , 0.24244884, 0.7801573 , 0.7718185 ], dtype=float32), array([0.79482627, 0.25634536, 0.92133653, 0.67256784], dtype=float32), array([0.9008564 , 0.24561651, 0.96411824, 0.54418   ], dtype=float32), array([0.74595743, 0.2442792 , 0.8054797 , 0.5813037 ], dtype=float32), array([0.62959987, 0.23246875, 0.6460462 , 0.3004503 ], dtype=float32)]\r\n",
      "Number of people in queue = {1: 0, 2: 0}\r\n",
      "Total People in frame = 9\r\n",
      "Total People in frame = [array([0.05549783, 0.26617983, 0.2224825 , 0.957132  ], dtype=float32), array([0.30960232, 0.24796703, 0.47397125, 0.86268413], dtype=float32), array([0.52535176, 0.2194243 , 0.6706053 , 0.811315  ], dtype=float32), array([0.66819215, 0.24161547, 0.7794832 , 0.7724355 ], dtype=float32), array([0.7942694 , 0.25558874, 0.92100304, 0.6734021 ], dtype=float32), array([0.9015625 , 0.24511279, 0.9634678 , 0.5434025 ], dtype=float32), array([0.74616563, 0.2441702 , 0.805743  , 0.58175546], dtype=float32), array([0.6294466 , 0.23289074, 0.6457093 , 0.30012777], dtype=float32), array([0.9568071 , 0.25378633, 1.0000081 , 0.57396805], dtype=float32)]\r\n",
      "Number of people in queue = {1: 0, 2: 0}\r\n",
      "Total People in frame = 9\r\n",
      "Total People in frame = [array([0.05598214, 0.265782  , 0.22199067, 0.95796216], dtype=float32), array([0.3094695 , 0.24703136, 0.4721004 , 0.8630043 ], dtype=float32), array([0.52345484, 0.22048768, 0.6711007 , 0.8135792 ], dtype=float32), array([0.6678036 , 0.24140927, 0.7792674 , 0.77174735], dtype=float32), array([0.7949329 , 0.25617993, 0.9208829 , 0.6743307 ], dtype=float32), array([0.9000597 , 0.2450854 , 0.961995  , 0.54212683], dtype=float32), array([0.7455703 , 0.24677153, 0.80565846, 0.58372474], dtype=float32), array([0.9553049 , 0.24857758, 0.9998099 , 0.57220083], dtype=float32), array([0.6298121 , 0.23265995, 0.6461904 , 0.29989675], dtype=float32)]\r\n",
      "Number of people in queue = {1: 0, 2: 0}\r\n",
      "Total People in frame = 9\r\n",
      "Total People in frame = [array([0.05694418, 0.26611632, 0.22103728, 0.95866627], dtype=float32), array([0.3101039 , 0.24809656, 0.4728248 , 0.8625704 ], dtype=float32), array([0.5225547 , 0.22068578, 0.6708999 , 0.8124344 ], dtype=float32), array([0.66852343, 0.24178898, 0.7782483 , 0.77010214], dtype=float32), array([0.7943324 , 0.25606853, 0.9207926 , 0.6734152 ], dtype=float32), array([0.9005677 , 0.24384047, 0.9621667 , 0.5419515 ], dtype=float32), array([0.7470371 , 0.24692108, 0.8060319 , 0.5814831 ], dtype=float32), array([0.9551953, 0.2458371, 0.9996526, 0.5729835], dtype=float32), array([0.62954926, 0.23218878, 0.6460042 , 0.3004966 ], dtype=float32)]\r\n",
      "Number of people in queue = {1: 0, 2: 0}\r\n",
      "Total People in frame = 9\r\n",
      "Total People in frame = [array([0.05678137, 0.26595193, 0.22078331, 0.9579814 ], dtype=float32), array([0.31005704, 0.24674499, 0.4702866 , 0.86272025], dtype=float32), array([0.5221752 , 0.22063741, 0.67100346, 0.8126155 ], dtype=float32), array([0.6688902 , 0.24275956, 0.77736646, 0.7684014 ], dtype=float32), array([0.79451644, 0.25664905, 0.92061305, 0.67312324], dtype=float32), array([0.90046746, 0.24486658, 0.96118873, 0.5403607 ], dtype=float32), array([0.746625  , 0.24544978, 0.806156  , 0.5806491 ], dtype=float32), array([0.95535785, 0.24778092, 0.9996682 , 0.5729428 ], dtype=float32), array([0.62991136, 0.2328539 , 0.646208  , 0.30002442], dtype=float32)]\r\n",
      "Number of people in queue = {1: 0, 2: 0}\r\n",
      "Total People in frame = 9\r\n",
      "Total People in frame = [array([0.05690223, 0.26763663, 0.22133794, 0.95956206], dtype=float32), array([0.5213674 , 0.22062424, 0.6705554 , 0.8116919 ], dtype=float32), array([0.309863  , 0.2471838 , 0.47641608, 0.86197627], dtype=float32), array([0.6694185 , 0.24388099, 0.7767593 , 0.76827276], dtype=float32), array([0.7937459 , 0.2568997 , 0.9215201 , 0.67295855], dtype=float32), array([0.7468771 , 0.24420007, 0.80632305, 0.5840472 ], dtype=float32), array([0.9210942 , 0.24111539, 0.9890114 , 0.5542804 ], dtype=float32), array([0.8999135 , 0.24347761, 0.96194476, 0.54006255], dtype=float32), array([0.6296065 , 0.23251276, 0.6461501 , 0.30121973], dtype=float32)]\r\n",
      "Number of people in queue = {1: 0, 2: 0}\r\n",
      "Total People in frame = 9\r\n",
      "Total People in frame = [array([0.05683898, 0.2676806 , 0.22131151, 0.9590376 ], dtype=float32), array([0.52155656, 0.22070336, 0.6706398 , 0.8129574 ], dtype=float32), array([0.30989662, 0.24708515, 0.47233132, 0.86270744], dtype=float32), array([0.66846365, 0.24347335, 0.7764961 , 0.76876694], dtype=float32), array([0.79463845, 0.25693965, 0.92168075, 0.6738156 ], dtype=float32), array([0.7465465 , 0.2468494 , 0.80566454, 0.5852214 ], dtype=float32), array([0.91866624, 0.24201462, 0.9867966 , 0.5542375 ], dtype=float32), array([0.62980574, 0.23220916, 0.64630944, 0.30069494], dtype=float32), array([0.95589656, 0.24766095, 0.99969655, 0.5702411 ], dtype=float32)]\r\n",
      "Number of people in queue = {1: 0, 2: 0}\r\n",
      "Total People in frame = 9\r\n",
      "Total People in frame = [array([0.05633327, 0.26652962, 0.22123104, 0.9581601 ], dtype=float32), array([0.3112626 , 0.24880949, 0.46747303, 0.86219394], dtype=float32), array([0.52090544, 0.22039372, 0.6706597 , 0.81241626], dtype=float32), array([0.6687258, 0.2436091, 0.7763491, 0.7688261], dtype=float32), array([0.7945742 , 0.25672156, 0.92134637, 0.67306334], dtype=float32), array([0.74720263, 0.24694878, 0.80650425, 0.58638614], dtype=float32), array([0.90227854, 0.2477284 , 0.96156335, 0.5385576 ], dtype=float32), array([0.95638883, 0.25172573, 0.99951017, 0.56973064], dtype=float32), array([0.6295932 , 0.23175815, 0.64616734, 0.3007845 ], dtype=float32)]\r\n",
      "Number of people in queue = {1: 0, 2: 0}\r\n",
      "Total People in frame = 9\r\n",
      "Total People in frame = [array([0.05628861, 0.26715317, 0.2216654 , 0.95669055], dtype=float32), array([0.31286275, 0.24958205, 0.4634953 , 0.85977674], dtype=float32), array([0.5204229 , 0.22050366, 0.6704146 , 0.8131634 ], dtype=float32), array([0.66817355, 0.24349901, 0.77644813, 0.7696451 ], dtype=float32), array([0.79476136, 0.25794744, 0.9213919 , 0.6735946 ], dtype=float32), array([0.7470867 , 0.24690714, 0.8065837 , 0.5878376 ], dtype=float32), array([0.901409  , 0.24743716, 0.96218807, 0.5425633 ], dtype=float32), array([0.957156  , 0.24627618, 0.99986106, 0.5698586 ], dtype=float32), array([0.62990266, 0.23256184, 0.64628357, 0.30013263], dtype=float32)]\r\n",
      "Number of people in queue = {1: 0, 2: 0}\r\n",
      "Total People in frame = 9\r\n",
      "Total People in frame = [array([0.31336385, 0.24781719, 0.46195525, 0.85925615], dtype=float32), array([0.05574546, 0.26723057, 0.22133744, 0.95493037], dtype=float32), array([0.52229744, 0.21998411, 0.6711549 , 0.8140572 ], dtype=float32), array([0.6685898 , 0.24416307, 0.7762496 , 0.76788497], dtype=float32), array([0.79387945, 0.25672078, 0.9214241 , 0.6747489 ], dtype=float32), array([0.7474126 , 0.2470245 , 0.80634755, 0.588205  ], dtype=float32), array([0.9178917 , 0.24664198, 0.98504263, 0.5558176 ], dtype=float32), array([0.9566736 , 0.25197297, 0.999951  , 0.5701219 ], dtype=float32), array([0.6296291 , 0.23237273, 0.64598197, 0.30056855], dtype=float32)]\r\n",
      "Number of people in queue = {1: 0, 2: 0}\r\n",
      "Total People in frame = 9\r\n",
      "Total People in frame = [array([0.31304288, 0.24749303, 0.46197158, 0.85825336], dtype=float32), array([0.05481704, 0.26771897, 0.22023669, 0.9543906 ], dtype=float32), array([0.5228247 , 0.22042322, 0.6713206 , 0.8138008 ], dtype=float32), array([0.66813666, 0.24360183, 0.77636427, 0.7685405 ], dtype=float32), array([0.794485  , 0.25707412, 0.92123973, 0.67293143], dtype=float32), array([0.74706894, 0.24654448, 0.8060096 , 0.5892058 ], dtype=float32), array([0.91831326, 0.25050735, 0.98784494, 0.55367696], dtype=float32), array([0.6301153 , 0.23241538, 0.6463599 , 0.30008346], dtype=float32), array([0.8999587 , 0.25231963, 0.95975864, 0.5344134 ], dtype=float32)]\r\n",
      "Number of people in queue = {1: 0, 2: 0}\r\n",
      "Total People in frame = 8\r\n",
      "Total People in frame = [array([0.31264836, 0.24835008, 0.4630766 , 0.858723  ], dtype=float32), array([0.52540994, 0.2197732 , 0.6711459 , 0.8148296 ], dtype=float32), array([0.05407696, 0.26855356, 0.22109038, 0.9548964 ], dtype=float32), array([0.6684271 , 0.24469578, 0.7762327 , 0.7682035 ], dtype=float32), array([0.79365677, 0.25764322, 0.921104  , 0.67510635], dtype=float32), array([0.7471225 , 0.2454998 , 0.80593944, 0.5869809 ], dtype=float32), array([0.9179109 , 0.25904343, 0.9858299 , 0.551021  ], dtype=float32), array([0.6297372 , 0.2317902 , 0.64605623, 0.30060878], dtype=float32)]\r\n",
      "Number of people in queue = {1: 0, 2: 0}\r\n",
      "Total People in frame = 7\r\n",
      "Total People in frame = [array([0.31287166, 0.2501584 , 0.45981494, 0.8596581 ], dtype=float32), array([0.05318392, 0.2684316 , 0.2212399 , 0.9532439 ], dtype=float32), array([0.5247732 , 0.22030553, 0.67075616, 0.8134626 ], dtype=float32), array([0.66804016, 0.24481136, 0.7763947 , 0.76853687], dtype=float32), array([0.7938147 , 0.25869513, 0.92101043, 0.67445433], dtype=float32), array([0.74631727, 0.24704705, 0.80489683, 0.5866844 ], dtype=float32), array([0.9179735, 0.2608172, 0.986241 , 0.5507995], dtype=float32)]\r\n",
      "Number of people in queue = {1: 0, 2: 0}\r\n",
      "Total People in frame = 9\r\n",
      "Total People in frame = [array([0.31400782, 0.25168264, 0.45649463, 0.85944533], dtype=float32), array([0.52699316, 0.22009927, 0.6702038 , 0.8123811 ], dtype=float32), array([0.05302726, 0.2693649 , 0.2212414 , 0.952367  ], dtype=float32), array([0.66831994, 0.24516094, 0.7763127 , 0.76792014], dtype=float32), array([0.79275906, 0.25846082, 0.92045665, 0.6747623 ], dtype=float32), array([0.7469376 , 0.24590783, 0.8050515 , 0.58404654], dtype=float32), array([0.9194202 , 0.25874782, 0.98757356, 0.55422825], dtype=float32), array([0.6296228 , 0.2320365 , 0.64590394, 0.30069068], dtype=float32), array([0.9540179 , 0.2615114 , 0.99863195, 0.56760854], dtype=float32)]\r\n",
      "Number of people in queue = {1: 0, 2: 0}\r\n",
      "Total People in frame = 10\r\n",
      "Total People in frame = [array([0.31336588, 0.25000045, 0.4565577 , 0.86089754], dtype=float32), array([0.52934754, 0.21936637, 0.67075384, 0.8114913 ], dtype=float32), array([0.0527393 , 0.26941347, 0.22132033, 0.95439744], dtype=float32), array([0.66838205, 0.24532264, 0.7766913 , 0.7677557 ], dtype=float32), array([0.79379684, 0.25947988, 0.92112535, 0.6733122 ], dtype=float32), array([0.7463027 , 0.2467878 , 0.80467904, 0.58517975], dtype=float32), array([0.9193101 , 0.2602334 , 0.98638415, 0.5543291 ], dtype=float32), array([0.9545229 , 0.25978154, 0.9985743 , 0.5694613 ], dtype=float32), array([0.90094787, 0.259408  , 0.95781606, 0.5349109 ], dtype=float32), array([0.62976044, 0.23332854, 0.64574915, 0.30000734], dtype=float32)]\r\n",
      "Number of people in queue = {1: 0, 2: 0}\r\n",
      "Total People in frame = 9\r\n",
      "Total People in frame = [array([0.31520134, 0.2510659 , 0.45225936, 0.8615989 ], dtype=float32), array([0.53122985, 0.21954313, 0.6713904 , 0.8131679 ], dtype=float32), array([0.05271044, 0.2706864 , 0.22188875, 0.9547099 ], dtype=float32), array([0.66882426, 0.2461491 , 0.7766902 , 0.7664603 ], dtype=float32), array([0.79400766, 0.25851756, 0.9208542 , 0.67487115], dtype=float32), array([0.74683106, 0.24673843, 0.80489576, 0.5841715 ], dtype=float32), array([0.95506823, 0.26215678, 0.99859405, 0.5697529 ], dtype=float32), array([0.919227  , 0.26490936, 0.98527944, 0.55465865], dtype=float32), array([0.6296062 , 0.23283699, 0.645675  , 0.30001947], dtype=float32)]\r\n",
      "Number of people in queue = {1: 0, 2: 0}\r\n",
      "Total People in frame = 8\r\n",
      "Total People in frame = [array([0.3141985 , 0.25098923, 0.45224136, 0.8620715 ], dtype=float32), array([0.05327938, 0.26882654, 0.22188918, 0.9568055 ], dtype=float32), array([0.5312068 , 0.21978757, 0.670569  , 0.81126   ], dtype=float32), array([0.6687755 , 0.2454012 , 0.77677184, 0.7672861 ], dtype=float32), array([0.7944553 , 0.26077366, 0.9209534 , 0.6742304 ], dtype=float32), array([0.7468573 , 0.24780293, 0.8047701 , 0.5844243 ], dtype=float32), array([0.9544953 , 0.26708698, 0.99865556, 0.56911594], dtype=float32), array([0.9205508, 0.2706573, 0.9871582, 0.5547324], dtype=float32)]\r\n",
      "Number of people in queue = {1: 0, 2: 0}\r\n",
      "Total People in frame = 7\r\n",
      "Total People in frame = [array([0.3112291 , 0.24019277, 0.45166343, 0.86250603], dtype=float32), array([0.05368054, 0.26850367, 0.2217409 , 0.95483506], dtype=float32), array([0.5319495 , 0.22089061, 0.67104816, 0.8081455 ], dtype=float32), array([0.6688588 , 0.24527696, 0.7769119 , 0.767262  ], dtype=float32), array([0.79436654, 0.26019835, 0.9209102 , 0.6735557 ], dtype=float32), array([0.7475942 , 0.24764171, 0.8047208 , 0.5832287 ], dtype=float32), array([0.955822  , 0.26436716, 0.9987657 , 0.56900364], dtype=float32)]\r\n",
      "Number of people in queue = {1: 0, 2: 0}\r\n",
      "Total People in frame = 7\r\n",
      "Total People in frame = [array([0.31113714, 0.23977816, 0.45094657, 0.8630936 ], dtype=float32), array([0.53105164, 0.22256115, 0.6714401 , 0.80851424], dtype=float32), array([0.05294917, 0.26727983, 0.2216759 , 0.95989776], dtype=float32), array([0.66787773, 0.24493513, 0.7767251 , 0.7664834 ], dtype=float32), array([0.79488564, 0.2606966 , 0.92095184, 0.67371047], dtype=float32), array([0.7469311 , 0.24852341, 0.8045089 , 0.5841436 ], dtype=float32), array([0.9564769 , 0.2630228 , 0.99920094, 0.56919134], dtype=float32)]\r\n",
      "Number of people in queue = {1: 0, 2: 0}\r\n",
      "Total People in frame = 8\r\n",
      "Total People in frame = [array([0.31121033, 0.24090695, 0.45115894, 0.8608421 ], dtype=float32), array([0.5264751 , 0.2238211 , 0.67215824, 0.81055075], dtype=float32), array([0.05268618, 0.26810342, 0.22201103, 0.9560397 ], dtype=float32), array([0.6676477 , 0.24529189, 0.7766429 , 0.7661409 ], dtype=float32), array([0.7952145, 0.2601272, 0.9208241, 0.6734956], dtype=float32), array([0.74759275, 0.24811094, 0.8053872 , 0.58434474], dtype=float32), array([0.95663047, 0.2627418 , 0.9990959 , 0.5685939 ], dtype=float32), array([0.6299365 , 0.23513857, 0.64555246, 0.29861704], dtype=float32)]\r\n",
      "Number of people in queue = {1: 0, 2: 0}\r\n",
      "Total People in frame = 7\r\n",
      "Total People in frame = [array([0.31115735, 0.24017006, 0.45160526, 0.8611904 ], dtype=float32), array([0.52827984, 0.22359505, 0.6713981 , 0.8085296 ], dtype=float32), array([0.05043489, 0.26731017, 0.22224522, 0.95741916], dtype=float32), array([0.6672647, 0.2451056, 0.7767544, 0.7662643], dtype=float32), array([0.79545426, 0.26036957, 0.9209851 , 0.6730552 ], dtype=float32), array([0.7467676 , 0.24674407, 0.8051602 , 0.58458734], dtype=float32), array([0.9555126 , 0.26720035, 0.9986885 , 0.56848824], dtype=float32)]\r\n",
      "Number of people in queue = {1: 0, 2: 0}\r\n",
      "Total People in frame = 8\r\n",
      "Total People in frame = [array([0.31124508, 0.24001908, 0.45165592, 0.8613428 ], dtype=float32), array([0.04801073, 0.2689777 , 0.22692928, 0.9661202 ], dtype=float32), array([0.5283702 , 0.22631326, 0.6715397 , 0.8079611 ], dtype=float32), array([0.6677648 , 0.24444291, 0.77625155, 0.7662891 ], dtype=float32), array([0.7948785 , 0.2591137 , 0.92112327, 0.6731713 ], dtype=float32), array([0.7479193 , 0.24635604, 0.80632615, 0.58457637], dtype=float32), array([0.9554981 , 0.26037365, 0.99879396, 0.570116  ], dtype=float32), array([0.63018584, 0.2338005 , 0.6456809 , 0.29756758], dtype=float32)]\r\n",
      "Number of people in queue = {1: 0, 2: 0}\r\n",
      "Total People in frame = 7\r\n",
      "Total People in frame = [array([0.31154048, 0.23872691, 0.45164967, 0.86035436], dtype=float32), array([0.04628778, 0.27033976, 0.22714776, 0.96714985], dtype=float32), array([0.53054637, 0.22502536, 0.67135483, 0.80678207], dtype=float32), array([0.6674506 , 0.24478993, 0.77660745, 0.76689863], dtype=float32), array([0.79559743, 0.25942674, 0.9209049 , 0.67402494], dtype=float32), array([0.74718094, 0.24971087, 0.80631137, 0.58774185], dtype=float32), array([0.95622504, 0.2576952 , 0.99904585, 0.57062864], dtype=float32)]\r\n",
      "Number of people in queue = {1: 0, 2: 0}\r\n",
      "Total People in frame = 7\r\n",
      "Total People in frame = [array([0.311728  , 0.23779255, 0.45181507, 0.8606767 ], dtype=float32), array([0.04467901, 0.27147347, 0.22716519, 0.9650641 ], dtype=float32), array([0.5278303, 0.2251868, 0.6719205, 0.8097012], dtype=float32), array([0.66791064, 0.24523601, 0.7764347 , 0.7672863 ], dtype=float32), array([0.79597974, 0.2598843 , 0.9213315 , 0.67302805], dtype=float32), array([0.7460446 , 0.24805176, 0.80547625, 0.5852033 ], dtype=float32), array([0.956488  , 0.26010472, 0.9990438 , 0.5709695 ], dtype=float32)]\r\n",
      "Number of people in queue = {1: 0, 2: 0}\r\n",
      "Total People in frame = 7\r\n",
      "Total People in frame = [array([0.3122452 , 0.23715734, 0.45116967, 0.8614031 ], dtype=float32), array([0.04390375, 0.27181157, 0.22691749, 0.967371  ], dtype=float32), array([0.51703894, 0.22823006, 0.66957307, 0.8122335 ], dtype=float32), array([0.6678709 , 0.24516234, 0.776644  , 0.7665597 ], dtype=float32), array([0.7965798 , 0.26054442, 0.92072517, 0.6734172 ], dtype=float32), array([0.95660317, 0.25480074, 0.9989284 , 0.57022375], dtype=float32), array([0.74530077, 0.24916495, 0.80600595, 0.5891912 ], dtype=float32)]\r\n",
      "Number of people in queue = {1: 0, 2: 0}\r\n",
      "Total People in frame = 7\r\n",
      "Total People in frame = [array([0.31293523, 0.2465353 , 0.45074666, 0.8629663 ], dtype=float32), array([0.04405874, 0.27085215, 0.22687337, 0.96537405], dtype=float32), array([0.5134534 , 0.22429779, 0.6680129 , 0.819278  ], dtype=float32), array([0.667852  , 0.24490577, 0.7763457 , 0.76512855], dtype=float32), array([0.7956934 , 0.25992215, 0.9212893 , 0.6738866 ], dtype=float32), array([0.74753   , 0.24548058, 0.80696166, 0.5887905 ], dtype=float32), array([0.9560859, 0.2604506, 0.9988167, 0.5723261], dtype=float32)]\r\n",
      "Number of people in queue = {1: 0, 2: 0}\r\n",
      "Total People in frame = 7\r\n",
      "Total People in frame = [array([0.31414986, 0.24647173, 0.45008135, 0.86452293], dtype=float32), array([0.04421894, 0.27093133, 0.22687641, 0.9676658 ], dtype=float32), array([0.5105938 , 0.22845021, 0.6669023 , 0.8207185 ], dtype=float32), array([0.6665974 , 0.24454933, 0.7770367 , 0.7666808 ], dtype=float32), array([0.7966467 , 0.26051205, 0.92101514, 0.6740162 ], dtype=float32), array([0.74345034, 0.24378435, 0.80788   , 0.595861  ], dtype=float32), array([0.95611286, 0.26669678, 0.9991138 , 0.57021475], dtype=float32)]\r\n",
      "Number of people in queue = {1: 0, 2: 0}\r\n",
      "Total People in frame = 8\r\n",
      "Total People in frame = [array([0.31439418, 0.24693352, 0.45000345, 0.8649437 ], dtype=float32), array([0.04396675, 0.271228  , 0.22700286, 0.9664167 ], dtype=float32), array([0.50816506, 0.2275326 , 0.66649586, 0.8241466 ], dtype=float32), array([0.66687465, 0.2453883 , 0.776541  , 0.76542485], dtype=float32), array([0.7959647, 0.2608726, 0.9211043, 0.6749208], dtype=float32), array([0.74605685, 0.23912767, 0.81031746, 0.59237885], dtype=float32), array([0.9561582 , 0.26055482, 0.99904805, 0.57077754], dtype=float32), array([0.6306047 , 0.2331855 , 0.64651865, 0.29796526], dtype=float32)]\r\n",
      "Number of people in queue = {1: 0, 2: 0}\r\n",
      "Total People in frame = 8\r\n",
      "Total People in frame = [array([0.31474465, 0.24597222, 0.44961745, 0.86477214], dtype=float32), array([0.04433323, 0.27077112, 0.22645922, 0.96789944], dtype=float32), array([0.50652176, 0.22620413, 0.66652924, 0.82318985], dtype=float32), array([0.66650885, 0.24473178, 0.7773599 , 0.76602054], dtype=float32), array([0.7963985 , 0.26152217, 0.92098975, 0.6741917 ], dtype=float32), array([0.7464226 , 0.24484602, 0.80795795, 0.5889182 ], dtype=float32), array([0.95618075, 0.2511654 , 0.99903005, 0.57018614], dtype=float32), array([0.92101383, 0.26396328, 0.98287404, 0.5520221 ], dtype=float32)]\r\n",
      "Number of people in queue = {1: 0, 2: 0}\r\n",
      "Total People in frame = 7\r\n",
      "Total People in frame = [array([0.315248  , 0.24667254, 0.44951653, 0.86375046], dtype=float32), array([0.04433046, 0.2699586 , 0.2265513 , 0.9681102 ], dtype=float32), array([0.50458753, 0.22350079, 0.66511154, 0.82269365], dtype=float32), array([0.66590965, 0.24570397, 0.7760608 , 0.7627342 ], dtype=float32), array([0.79664093, 0.26077205, 0.92142826, 0.6740964 ], dtype=float32), array([0.7449273 , 0.24478076, 0.8099967 , 0.5931133 ], dtype=float32), array([0.95669657, 0.25549972, 0.9991887 , 0.5693528 ], dtype=float32)]\r\n",
      "Number of people in queue = {1: 0, 2: 0}\r\n",
      "Total People in frame = 8\r\n",
      "Total People in frame = [array([0.31544572, 0.24654838, 0.44935626, 0.8648    ], dtype=float32), array([0.04477578, 0.27011687, 0.22679162, 0.9685294 ], dtype=float32), array([0.50580513, 0.2208932 , 0.66501105, 0.81868666], dtype=float32), array([0.665242  , 0.24435708, 0.7766122 , 0.7641827 ], dtype=float32), array([0.79661167, 0.26240146, 0.9212458 , 0.67511004], dtype=float32), array([0.7459993 , 0.24624328, 0.80785936, 0.5870311 ], dtype=float32), array([0.9566366 , 0.2546069 , 0.9998136 , 0.56943095], dtype=float32), array([0.9214656 , 0.26548237, 0.98437446, 0.55167454], dtype=float32)]\r\n",
      "Number of people in queue = {1: 0, 2: 0}\r\n",
      "Total People in frame = 8\r\n",
      "Total People in frame = [array([0.31597966, 0.24692374, 0.44896102, 0.86474556], dtype=float32), array([0.04455723, 0.27063647, 0.22701894, 0.9687871 ], dtype=float32), array([0.50803655, 0.2195481 , 0.665531  , 0.81492877], dtype=float32), array([0.6664134 , 0.24425808, 0.77727044, 0.7642325 ], dtype=float32), array([0.7963652 , 0.26207852, 0.9211102 , 0.6744555 ], dtype=float32), array([0.74435204, 0.2464748 , 0.8088829 , 0.5915456 ], dtype=float32), array([0.95677346, 0.25285727, 0.9997836 , 0.56985307], dtype=float32), array([0.9207824 , 0.2661165 , 0.98291415, 0.55284226], dtype=float32)]\r\n",
      "Number of people in queue = {1: 0, 2: 0}\r\n",
      "Total People in frame = 7\r\n",
      "Total People in frame = [array([0.31575707, 0.24707979, 0.4498711 , 0.86505514], dtype=float32), array([0.04433343, 0.27033043, 0.22713193, 0.96921086], dtype=float32), array([0.5079683, 0.2184762, 0.6655779, 0.8168857], dtype=float32), array([0.6660483 , 0.24339381, 0.776988  , 0.76368034], dtype=float32), array([0.7959529 , 0.26096663, 0.92124   , 0.67227864], dtype=float32), array([0.7440319, 0.2493   , 0.8085896, 0.5925945], dtype=float32), array([0.95686245, 0.24944492, 0.99980485, 0.569754  ], dtype=float32)]\r\n",
      "Number of people in queue = {1: 0, 2: 0}\r\n",
      "Total People in frame = 7\r\n",
      "Total People in frame = [array([0.31586844, 0.24776307, 0.45033622, 0.8648286 ], dtype=float32), array([0.04435432, 0.2695869 , 0.22737125, 0.9677253 ], dtype=float32), array([0.5016886 , 0.22108406, 0.66481245, 0.81675416], dtype=float32), array([0.6661338 , 0.243628  , 0.77683383, 0.7630739 ], dtype=float32), array([0.79588115, 0.26046258, 0.9207525 , 0.6716923 ], dtype=float32), array([0.95684826, 0.24881384, 0.9994643 , 0.569612  ], dtype=float32), array([0.74414957, 0.25076392, 0.8090608 , 0.59216166], dtype=float32)]\r\n",
      "Number of people in queue = {1: 0, 2: 0}\r\n",
      "Total People in frame = 7\r\n",
      "Total People in frame = [array([0.31578052, 0.24746907, 0.45098644, 0.864388  ], dtype=float32), array([0.0447035 , 0.27005747, 0.22730158, 0.96871185], dtype=float32), array([0.49526837, 0.22586086, 0.66559374, 0.8125987 ], dtype=float32), array([0.66533643, 0.24226785, 0.7769659 , 0.76475227], dtype=float32), array([0.7959553 , 0.25977528, 0.92070246, 0.67054904], dtype=float32), array([0.95676494, 0.2489258 , 0.99965966, 0.56922394], dtype=float32), array([0.74416196, 0.25062656, 0.8088645 , 0.5941786 ], dtype=float32)]\r\n",
      "Number of people in queue = {1: 0, 2: 0}\r\n",
      "Total People in frame = 7\r\n",
      "Total People in frame = [array([0.316124  , 0.24757883, 0.45141068, 0.8637003 ], dtype=float32), array([0.04444841, 0.27059394, 0.22727314, 0.9685442 ], dtype=float32), array([0.49744344, 0.22448602, 0.6660634 , 0.8179734 ], dtype=float32), array([0.66518027, 0.24269709, 0.7764811 , 0.7660934 ], dtype=float32), array([0.79494315, 0.25930586, 0.92134684, 0.67063177], dtype=float32), array([0.7446835 , 0.24777114, 0.8101342 , 0.5941803 ], dtype=float32), array([0.9568746 , 0.24498507, 0.99980545, 0.57169235], dtype=float32)]\r\n",
      "Number of people in queue = {1: 0, 2: 0}\r\n",
      "Total People in frame = 8\r\n",
      "Total People in frame = [array([0.3160908 , 0.24807617, 0.45136026, 0.8630495 ], dtype=float32), array([0.04449562, 0.26985782, 0.22723496, 0.96831983], dtype=float32), array([0.49833137, 0.2216601 , 0.66588455, 0.81743944], dtype=float32), array([0.6651343 , 0.24153101, 0.77725744, 0.7670884 ], dtype=float32), array([0.7940489 , 0.25668514, 0.9210237 , 0.670588  ], dtype=float32), array([0.7446676 , 0.2441014 , 0.80962867, 0.5931854 ], dtype=float32), array([0.9567768 , 0.24524094, 0.99993795, 0.57209855], dtype=float32), array([0.89739156, 0.23551817, 0.9576311 , 0.53751194], dtype=float32)]\r\n",
      "Number of people in queue = {1: 0, 2: 0}\r\n",
      "Total People in frame = 8\r\n",
      "Total People in frame = [array([0.31642652, 0.24792635, 0.4520262 , 0.8612734 ], dtype=float32), array([0.04454178, 0.26950124, 0.22714567, 0.96837306], dtype=float32), array([0.49596974, 0.22154132, 0.6657026 , 0.8208991 ], dtype=float32), array([0.66592693, 0.24244866, 0.7770922 , 0.76663995], dtype=float32), array([0.79457206, 0.2561463 , 0.92117935, 0.6723989 ], dtype=float32), array([0.746144  , 0.24403465, 0.8111951 , 0.59403723], dtype=float32), array([0.89732766, 0.22440663, 0.95649004, 0.53190064], dtype=float32), array([0.95606494, 0.24438696, 0.9996762 , 0.5731138 ], dtype=float32)]\r\n",
      "Number of people in queue = {1: 0, 2: 0}\r\n",
      "Total People in frame = 9\r\n",
      "Total People in frame = [array([0.3166378 , 0.2466515 , 0.45243335, 0.861683  ], dtype=float32), array([0.04487626, 0.26964054, 0.22722366, 0.9701264 ], dtype=float32), array([0.49783146, 0.22138858, 0.6651068 , 0.82064474], dtype=float32), array([0.6649656 , 0.24126801, 0.7771771 , 0.76753414], dtype=float32), array([0.79508513, 0.25635916, 0.92095584, 0.6714699 ], dtype=float32), array([0.7475575, 0.2507432, 0.8085946, 0.5883741], dtype=float32), array([0.8980737 , 0.23203355, 0.957726  , 0.5349138 ], dtype=float32), array([0.9557791 , 0.24715112, 0.9996468 , 0.5729354 ], dtype=float32), array([0.9219681 , 0.23919447, 0.9908364 , 0.55653846], dtype=float32)]\r\n",
      "Number of people in queue = {1: 0, 2: 0}\r\n",
      "Total People in frame = 9\r\n",
      "Total People in frame = [array([0.31685254, 0.24751502, 0.45246097, 0.862415  ], dtype=float32), array([0.04487419, 0.270563  , 0.22735357, 0.96624196], dtype=float32), array([0.5013732 , 0.21819821, 0.66497827, 0.81691754], dtype=float32), array([0.6647856, 0.2426244, 0.7769419, 0.7673594], dtype=float32), array([0.7937415 , 0.2567406 , 0.9208186 , 0.67101645], dtype=float32), array([0.74769586, 0.25072092, 0.80919415, 0.58305   ], dtype=float32), array([0.8985731 , 0.23413885, 0.95900935, 0.5361459 ], dtype=float32), array([0.9219804 , 0.24132478, 0.99105275, 0.5566644 ], dtype=float32), array([0.95501226, 0.24571534, 0.99939984, 0.5733351 ], dtype=float32)]\r\n",
      "Number of people in queue = {1: 0, 2: 0}\r\n",
      "Total People in frame = 8\r\n",
      "Total People in frame = [array([0.3166824 , 0.24827647, 0.4517076 , 0.8631005 ], dtype=float32), array([0.04482813, 0.2708552 , 0.2274475 , 0.96794176], dtype=float32), array([0.6644405 , 0.24153104, 0.7773508 , 0.7676958 ], dtype=float32), array([0.5048504 , 0.21431944, 0.6657404 , 0.8179233 ], dtype=float32), array([0.79324895, 0.2553687 , 0.9204379 , 0.66939473], dtype=float32), array([0.89769596, 0.23817922, 0.9586032 , 0.5376462 ], dtype=float32), array([0.7472812 , 0.25110018, 0.8083836 , 0.58413017], dtype=float32), array([0.9491933 , 0.23450239, 0.9984581 , 0.5607864 ], dtype=float32)]\r\n",
      "Number of people in queue = {1: 0, 2: 0}\r\n",
      "Total People in frame = 8\r\n",
      "Total People in frame = [array([0.31677523, 0.24912271, 0.4511558 , 0.860669  ], dtype=float32), array([0.04504105, 0.2708087 , 0.22740713, 0.9669671 ], dtype=float32), array([0.66501653, 0.24189684, 0.7779125 , 0.76766336], dtype=float32), array([0.51305807, 0.21583018, 0.6689497 , 0.81143236], dtype=float32), array([0.79315436, 0.25501025, 0.921294  , 0.66969895], dtype=float32), array([0.74716413, 0.25057715, 0.809029  , 0.5842634 ], dtype=float32), array([0.8980101 , 0.24070868, 0.9587137 , 0.5392326 ], dtype=float32), array([0.954092  , 0.24639928, 0.99909556, 0.5748789 ], dtype=float32)]\r\n",
      "Number of people in queue = {1: 0, 2: 0}\r\n",
      "Total People in frame = 8\r\n",
      "Total People in frame = [array([0.3162507, 0.2490102, 0.4512613, 0.8611866], dtype=float32), array([0.04515848, 0.2706239 , 0.22778973, 0.96713054], dtype=float32), array([0.5109974 , 0.21357659, 0.6703299 , 0.81328785], dtype=float32), array([0.6646269, 0.2406134, 0.7781078, 0.7689195], dtype=float32), array([0.793213  , 0.2546698 , 0.92085004, 0.66983217], dtype=float32), array([0.74749553, 0.25190112, 0.8081763 , 0.58508515], dtype=float32), array([0.8967267 , 0.24061432, 0.95808315, 0.5396528 ], dtype=float32), array([0.94892424, 0.23486923, 0.99859744, 0.5601346 ], dtype=float32)]\r\n",
      "Number of people in queue = {1: 0, 2: 0}\r\n",
      "Total People in frame = 8\r\n",
      "Total People in frame = [array([0.31546342, 0.25067937, 0.45123172, 0.8618337 ], dtype=float32), array([0.04536122, 0.2701394 , 0.22752368, 0.9684475 ], dtype=float32), array([0.5106125 , 0.20974815, 0.6713822 , 0.81575763], dtype=float32), array([0.6648857 , 0.24117315, 0.7782392 , 0.76837516], dtype=float32), array([0.79319966, 0.25485587, 0.9208636 , 0.6688434 ], dtype=float32), array([0.74750894, 0.24924812, 0.8095308 , 0.58669674], dtype=float32), array([0.89736366, 0.24156857, 0.95794475, 0.5394579 ], dtype=float32), array([0.94932663, 0.2333063 , 0.99861073, 0.56180286], dtype=float32)]\r\n",
      "Number of people in queue = {1: 0, 2: 0}\r\n",
      "Total People in frame = 8\r\n",
      "Total People in frame = [array([0.31316638, 0.25197485, 0.45112216, 0.86485374], dtype=float32), array([0.04498328, 0.27037168, 0.22776325, 0.9687238 ], dtype=float32), array([0.5123194 , 0.20930079, 0.6716551 , 0.81613505], dtype=float32), array([0.6645158 , 0.24146476, 0.77750677, 0.76692665], dtype=float32), array([0.79357725, 0.2537518 , 0.9205292 , 0.6685671 ], dtype=float32), array([0.74761003, 0.2520572 , 0.80915993, 0.58828133], dtype=float32), array([0.89562017, 0.23884831, 0.9563877 , 0.5400458 ], dtype=float32), array([0.94985586, 0.23297533, 0.9987362 , 0.56076944], dtype=float32)]\r\n",
      "Number of people in queue = {1: 0, 2: 0}\r\n",
      "Total People in frame = 8\r\n",
      "Total People in frame = [array([0.31009555, 0.24018294, 0.4505124 , 0.86228484], dtype=float32), array([0.04545244, 0.2714306 , 0.22866547, 0.966797  ], dtype=float32), array([0.50918543, 0.20588681, 0.67177165, 0.81854177], dtype=float32), array([0.6645588 , 0.24107605, 0.77793974, 0.7672754 ], dtype=float32), array([0.79527044, 0.25288504, 0.9199302 , 0.6705088 ], dtype=float32), array([0.7487194 , 0.24979891, 0.8109744 , 0.5905944 ], dtype=float32), array([0.8958756 , 0.23857439, 0.95737505, 0.53714633], dtype=float32), array([0.95502925, 0.24386682, 0.9993907 , 0.5741905 ], dtype=float32)]\r\n",
      "Number of people in queue = {1: 0, 2: 0}\r\n",
      "Total People in frame = 8\r\n",
      "Total People in frame = [array([0.3092615 , 0.24107653, 0.45036608, 0.86227244], dtype=float32), array([0.04516681, 0.2714575 , 0.22911638, 0.9663885 ], dtype=float32), array([0.5103333 , 0.20503485, 0.67205286, 0.818146  ], dtype=float32), array([0.6642217 , 0.24051884, 0.77757186, 0.7679838 ], dtype=float32), array([0.7956133 , 0.25261673, 0.91978335, 0.67059195], dtype=float32), array([0.74935865, 0.25127032, 0.8106073 , 0.58802843], dtype=float32), array([0.8954117 , 0.23524855, 0.9569145 , 0.5371214 ], dtype=float32), array([0.9552331 , 0.2443653 , 0.9994905 , 0.57414544], dtype=float32)]\r\n",
      "Number of people in queue = {1: 0, 2: 0}\r\n",
      "Total People in frame = 8\r\n",
      "Total People in frame = [array([0.30924374, 0.24224165, 0.44996488, 0.8631996 ], dtype=float32), array([0.04564088, 0.27185485, 0.2292017 , 0.9662143 ], dtype=float32), array([0.5119309 , 0.20535082, 0.672684  , 0.81732076], dtype=float32), array([0.6644958 , 0.24058986, 0.77781606, 0.7679601 ], dtype=float32), array([0.79522294, 0.25345767, 0.9200378 , 0.6698036 ], dtype=float32), array([0.74928224, 0.2496833 , 0.81111574, 0.5937724 ], dtype=float32), array([0.89585626, 0.23227464, 0.9562352 , 0.5341041 ], dtype=float32), array([0.95010066, 0.23199084, 0.9989275 , 0.5604892 ], dtype=float32)]\r\n",
      "Number of people in queue = {1: 0, 2: 0}\r\n",
      "Total People in frame = 8\r\n",
      "Total People in frame = [array([0.30915356, 0.24092555, 0.44993562, 0.86165416], dtype=float32), array([0.04700244, 0.27077007, 0.22873983, 0.9682883 ], dtype=float32), array([0.51282895, 0.20534399, 0.67239666, 0.81533873], dtype=float32), array([0.66499877, 0.24012974, 0.778214  , 0.7675334 ], dtype=float32), array([0.7935897 , 0.25235304, 0.92036355, 0.6708206 ], dtype=float32), array([0.7481462 , 0.24917388, 0.8099716 , 0.59320354], dtype=float32), array([0.8937353 , 0.23196943, 0.9547548 , 0.53123724], dtype=float32), array([0.94937   , 0.23221794, 0.99909234, 0.55908024], dtype=float32)]\r\n",
      "Number of people in queue = {1: 0, 2: 0}\r\n",
      "Total People in frame = 8\r\n",
      "Total People in frame = [array([0.30933207, 0.24090132, 0.45004255, 0.86217713], dtype=float32), array([0.04874215, 0.26802692, 0.22818723, 0.968413  ], dtype=float32), array([0.509797  , 0.20520762, 0.67160845, 0.81720996], dtype=float32), array([0.66466904, 0.24120039, 0.7789153 , 0.76727504], dtype=float32), array([0.79364103, 0.2537305 , 0.92052144, 0.67005455], dtype=float32), array([0.7471985 , 0.24888432, 0.8111083 , 0.5910646 ], dtype=float32), array([0.949142  , 0.23087828, 0.99897206, 0.55950785], dtype=float32), array([0.89440244, 0.23755947, 0.95413035, 0.5283549 ], dtype=float32)]\r\n",
      "Number of people in queue = {1: 0, 2: 0}\r\n",
      "Total People in frame = 8\r\n",
      "Total People in frame = [array([0.309941  , 0.24142522, 0.44910187, 0.8624312 ], dtype=float32), array([0.5095609 , 0.20683911, 0.6717327 , 0.81658113], dtype=float32), array([0.05078545, 0.2643227 , 0.22268498, 0.95587474], dtype=float32), array([0.6651588 , 0.24105066, 0.7793371 , 0.7678222 ], dtype=float32), array([0.7927904 , 0.25349173, 0.92060447, 0.66986203], dtype=float32), array([0.7462747 , 0.25088936, 0.8111657 , 0.5915795 ], dtype=float32), array([0.94986117, 0.23080091, 0.9989935 , 0.5606716 ], dtype=float32), array([0.89652336, 0.24165602, 0.9533646 , 0.5276714 ], dtype=float32)]\r\n",
      "Number of people in queue = {1: 0, 2: 0}\r\n",
      "Total People in frame = 8\r\n",
      "Total People in frame = [array([0.30992976, 0.23988637, 0.4486738 , 0.86153376], dtype=float32), array([0.51085126, 0.20851895, 0.67297804, 0.814265  ], dtype=float32), array([0.05176473, 0.26440307, 0.2223993 , 0.9538915 ], dtype=float32), array([0.66454554, 0.24001369, 0.7794199 , 0.7671046 ], dtype=float32), array([0.7909981 , 0.25432658, 0.9210118 , 0.66724753], dtype=float32), array([0.74649036, 0.25045902, 0.8123076 , 0.593892  ], dtype=float32), array([0.894798  , 0.24060577, 0.9548208 , 0.53493804], dtype=float32), array([0.9550473 , 0.24268913, 0.99935323, 0.5739779 ], dtype=float32)]\r\n",
      "Number of people in queue = {1: 0, 2: 0}\r\n",
      "Total People in frame = 8\r\n",
      "Total People in frame = [array([0.3099339 , 0.23875025, 0.44869894, 0.8627074 ], dtype=float32), array([0.5068399 , 0.20890382, 0.6723318 , 0.81386876], dtype=float32), array([0.05255525, 0.26297763, 0.22174023, 0.9541788 ], dtype=float32), array([0.6650499 , 0.23854437, 0.77944446, 0.7673241 ], dtype=float32), array([0.789916  , 0.25470227, 0.92179364, 0.6700295 ], dtype=float32), array([0.74649197, 0.25112975, 0.8116979 , 0.5933599 ], dtype=float32), array([0.9497486 , 0.23089512, 0.99888295, 0.5607452 ], dtype=float32), array([0.8968012 , 0.24729228, 0.9528318 , 0.52855325], dtype=float32)]\r\n",
      "Number of people in queue = {1: 0, 2: 0}\r\n",
      "Total People in frame = 8\r\n",
      "Total People in frame = [array([0.31009287, 0.23876041, 0.4480573 , 0.8628878 ], dtype=float32), array([0.05446558, 0.264834  , 0.22223601, 0.95638746], dtype=float32), array([0.5072204 , 0.20952749, 0.6728655 , 0.81305087], dtype=float32), array([0.66419125, 0.24022493, 0.78179777, 0.76838195], dtype=float32), array([0.78616273, 0.2547361 , 0.92143905, 0.6721231 ], dtype=float32), array([0.74471   , 0.25171858, 0.8134813 , 0.59466594], dtype=float32), array([0.8984758 , 0.24960396, 0.95408887, 0.5299411 ], dtype=float32), array([0.9503262 , 0.23135658, 0.99892163, 0.5611943 ], dtype=float32)]\r\n",
      "Number of people in queue = {1: 0, 2: 0}\r\n",
      "Total People in frame = 8\r\n",
      "Total People in frame = [array([0.31012344, 0.23949954, 0.44817317, 0.8631002 ], dtype=float32), array([0.05506272, 0.26605707, 0.22206122, 0.956868  ], dtype=float32), array([0.5022558 , 0.21055803, 0.670686  , 0.81628203], dtype=float32), array([0.66594744, 0.23915377, 0.78453076, 0.7695203 ], dtype=float32), array([0.78071105, 0.25982854, 0.917119  , 0.66368043], dtype=float32), array([0.74530846, 0.25405473, 0.8142664 , 0.59328216], dtype=float32), array([0.9495426 , 0.23031282, 0.9988199 , 0.5614334 ], dtype=float32), array([0.8993548 , 0.24655859, 0.9538436 , 0.52645254], dtype=float32)]\r\n",
      "Number of people in queue = {1: 0, 2: 0}\r\n",
      "Total People in frame = 8\r\n",
      "Total People in frame = [array([0.30980796, 0.23895481, 0.4484151 , 0.8632618 ], dtype=float32), array([0.05560183, 0.26610118, 0.22184038, 0.9608484 ], dtype=float32), array([0.5010848 , 0.21469083, 0.6690723 , 0.8131461 ], dtype=float32), array([0.6657406 , 0.23799035, 0.7878715 , 0.7682339 ], dtype=float32), array([0.7790854 , 0.25775874, 0.9166372 , 0.66472054], dtype=float32), array([0.745217  , 0.25392658, 0.81546897, 0.59443307], dtype=float32), array([0.94913065, 0.23007001, 0.9987712 , 0.5615319 ], dtype=float32), array([0.8990312 , 0.24918406, 0.9533182 , 0.525759  ], dtype=float32)]\r\n",
      "Number of people in queue = {1: 0, 2: 0}\r\n",
      "Total People in frame = 8\r\n",
      "Total People in frame = [array([0.30960947, 0.23935488, 0.44880146, 0.8634232 ], dtype=float32), array([0.0557676 , 0.2652797 , 0.22191742, 0.9601595 ], dtype=float32), array([0.50306857, 0.2155118 , 0.66857076, 0.815539  ], dtype=float32), array([0.665077  , 0.23309445, 0.7886087 , 0.7656808 ], dtype=float32), array([0.78122115, 0.25754535, 0.9165039 , 0.6632579 ], dtype=float32), array([0.74483687, 0.25140083, 0.8142275 , 0.5930234 ], dtype=float32), array([0.9481495 , 0.22889942, 0.99883527, 0.55976766], dtype=float32), array([0.89816743, 0.2503919 , 0.95225114, 0.5237489 ], dtype=float32)]\r\n",
      "Number of people in queue = {1: 0, 2: 0}\r\n",
      "Total People in frame = 8\r\n",
      "Total People in frame = [array([0.30966076, 0.24046189, 0.44817033, 0.86264914], dtype=float32), array([0.50484943, 0.21686783, 0.6685493 , 0.81581724], dtype=float32), array([0.05500548, 0.2653498 , 0.22201256, 0.9587049 ], dtype=float32), array([0.66537803, 0.2320129 , 0.78790027, 0.76767814], dtype=float32), array([0.78871036, 0.25436023, 0.92121005, 0.66974044], dtype=float32), array([0.9482327 , 0.2283933 , 0.9987106 , 0.56026417], dtype=float32), array([0.74384314, 0.25126   , 0.8123632 , 0.5915066 ], dtype=float32), array([0.89959985, 0.25246942, 0.95260936, 0.52379555], dtype=float32)]\r\n",
      "Number of people in queue = {1: 0, 2: 0}\r\n",
      "Total People in frame = 7\r\n",
      "Total People in frame = [array([0.30957013, 0.24125624, 0.44799423, 0.8627347 ], dtype=float32), array([0.506503  , 0.21586338, 0.6704588 , 0.81520164], dtype=float32), array([0.05418427, 0.26454902, 0.2219074 , 0.95590615], dtype=float32), array([0.6650387 , 0.23127475, 0.78650904, 0.7704711 ], dtype=float32), array([0.791254  , 0.25343567, 0.9211033 , 0.66930026], dtype=float32), array([0.94804984, 0.22842176, 0.99873215, 0.5598442 ], dtype=float32), array([0.7439797, 0.2519032, 0.8116373, 0.5928066], dtype=float32)]\r\n",
      "Number of people in queue = {1: 0, 2: 0}\r\n",
      "Total People in frame = 7\r\n",
      "Total People in frame = [array([0.30948037, 0.24155828, 0.44710618, 0.8629265 ], dtype=float32), array([0.51017684, 0.21593222, 0.6706795 , 0.81471825], dtype=float32), array([0.0529969 , 0.26590076, 0.22188386, 0.95531213], dtype=float32), array([0.6650657 , 0.23047674, 0.7886223 , 0.7721553 ], dtype=float32), array([0.789836 , 0.2534362, 0.9213069, 0.6702487], dtype=float32), array([0.94737715, 0.22737502, 0.9988218 , 0.5596357 ], dtype=float32), array([0.74411666, 0.25303474, 0.81233823, 0.5921874 ], dtype=float32)]\r\n",
      "Number of people in queue = {1: 0, 2: 0}\r\n",
      "Total People in frame = 6\r\n",
      "Total People in frame = [array([0.30941796, 0.24084473, 0.44691145, 0.86297786], dtype=float32), array([0.51231813, 0.21672827, 0.6705017 , 0.816068  ], dtype=float32), array([0.05272488, 0.26549032, 0.22195655, 0.95451903], dtype=float32), array([0.6651498 , 0.22947311, 0.79166627, 0.7737422 ], dtype=float32), array([0.78888977, 0.2536995 , 0.9220381 , 0.6724663 ], dtype=float32), array([0.9475005 , 0.22722237, 0.99874574, 0.5603036 ], dtype=float32)]\r\n",
      "Number of people in queue = {1: 0, 2: 0}\r\n",
      "Total People in frame = 6\r\n",
      "Total People in frame = [array([0.30961162, 0.24182966, 0.4454645 , 0.8631257 ], dtype=float32), array([0.5179216 , 0.2191818 , 0.67132086, 0.81465566], dtype=float32), array([0.05219343, 0.26459065, 0.22162962, 0.9526117 ], dtype=float32), array([0.6652293 , 0.22845879, 0.79088306, 0.7742127 ], dtype=float32), array([0.7906184 , 0.25388968, 0.922271  , 0.6725446 ], dtype=float32), array([0.9461881 , 0.22618884, 0.99892235, 0.56126696], dtype=float32)]\r\n",
      "Number of people in queue = {1: 0, 2: 0}\r\n",
      "Total People in frame = 7\r\n",
      "Total People in frame = [array([0.30946782, 0.242544  , 0.4452354 , 0.8632404 ], dtype=float32), array([0.5261775 , 0.2183635 , 0.6724924 , 0.81053185], dtype=float32), array([0.0518408 , 0.26465124, 0.22172101, 0.953183  ], dtype=float32), array([0.6649358 , 0.22744861, 0.79182017, 0.77346647], dtype=float32), array([0.79080606, 0.25399953, 0.92215586, 0.6722413 ], dtype=float32), array([0.93486714, 0.23522753, 0.99912286, 0.56208175], dtype=float32), array([0.74396646, 0.25360414, 0.8126204 , 0.59196115], dtype=float32)]\r\n",
      "Number of people in queue = {1: 0, 2: 0}\r\n",
      "Total People in frame = 6\r\n",
      "Total People in frame = [array([0.3097822 , 0.24308449, 0.44447452, 0.8644691 ], dtype=float32), array([0.52969694, 0.21724615, 0.6727483 , 0.809832  ], dtype=float32), array([0.05171267, 0.26445732, 0.222204  , 0.9534749 ], dtype=float32), array([0.6644274, 0.2277863, 0.7948767, 0.7724154], dtype=float32), array([0.78972286, 0.25587475, 0.92183393, 0.6714808 ], dtype=float32), array([0.93543893, 0.23477869, 0.9996777 , 0.56201667], dtype=float32)]\r\n",
      "Number of people in queue = {1: 0, 2: 0}\r\n",
      "Total People in frame = 6\r\n",
      "Total People in frame = [array([0.30977634, 0.24302593, 0.44347277, 0.8636409 ], dtype=float32), array([0.05206349, 0.26498237, 0.22249305, 0.95227635], dtype=float32), array([0.53083307, 0.2177465 , 0.67323714, 0.80919707], dtype=float32), array([0.6657938 , 0.22840443, 0.79204106, 0.772568  ], dtype=float32), array([0.79193884, 0.25550136, 0.9215614 , 0.6707758 ], dtype=float32), array([0.9347913 , 0.23783295, 0.9997387 , 0.5651875 ], dtype=float32)]\r\n",
      "Number of people in queue = {1: 0, 2: 0}\r\n",
      "Total People in frame = 6\r\n",
      "Total People in frame = [array([0.3096621 , 0.2438668 , 0.44378072, 0.8631247 ], dtype=float32), array([0.0523399 , 0.264409  , 0.22255526, 0.95084625], dtype=float32), array([0.5308523 , 0.21638238, 0.6733571 , 0.80950046], dtype=float32), array([0.66553503, 0.22764361, 0.78820735, 0.77322865], dtype=float32), array([0.79524034, 0.25528398, 0.9227415 , 0.67310965], dtype=float32), array([0.93593645, 0.23535903, 0.9993521 , 0.56300503], dtype=float32)]\r\n",
      "Number of people in queue = {1: 0, 2: 0}\r\n",
      "Total People in frame = 6\r\n",
      "Total People in frame = [array([0.30953008, 0.24416047, 0.44331825, 0.8631454 ], dtype=float32), array([0.05398301, 0.26428482, 0.22224888, 0.95223415], dtype=float32), array([0.5308578, 0.2155971, 0.6730592, 0.8099982], dtype=float32), array([0.66399896, 0.2257036 , 0.78610003, 0.77206296], dtype=float32), array([0.7962717 , 0.25472698, 0.92276454, 0.6742184 ], dtype=float32), array([0.93583673, 0.23473227, 0.9990364 , 0.5629231 ], dtype=float32)]\r\n",
      "Number of people in queue = {1: 0, 2: 0}\r\n",
      "Total People in frame = 6\r\n",
      "Total People in frame = [array([0.3094502 , 0.24423608, 0.4430021 , 0.8632057 ], dtype=float32), array([0.5307118 , 0.2154581 , 0.67318743, 0.808749  ], dtype=float32), array([0.05403056, 0.26481402, 0.22215557, 0.95242465], dtype=float32), array([0.6635394 , 0.22340176, 0.7843622 , 0.770972  ], dtype=float32), array([0.7977443 , 0.25328043, 0.9232799 , 0.67516875], dtype=float32), array([0.93456775, 0.2321893 , 0.99826974, 0.5611811 ], dtype=float32)]\r\n",
      "Number of people in queue = {1: 0, 2: 0}\r\n",
      "Total People in frame = 7\r\n",
      "Total People in frame = [array([0.30946806, 0.24497676, 0.44380698, 0.8624648 ], dtype=float32), array([0.05347795, 0.2645053 , 0.22214344, 0.9529685 ], dtype=float32), array([0.5312413 , 0.21704125, 0.6731055 , 0.80638134], dtype=float32), array([0.6641449 , 0.22355679, 0.78539836, 0.7717351 ], dtype=float32), array([0.79767543, 0.25431162, 0.9234708 , 0.6748661 ], dtype=float32), array([0.93336976, 0.22818515, 0.99730694, 0.5599332 ], dtype=float32), array([0.6300492 , 0.23221567, 0.64625776, 0.30092165], dtype=float32)]\r\n",
      "Number of people in queue = {1: 0, 2: 0}\r\n",
      "Total People in frame = 7\r\n",
      "Total People in frame = [array([0.30917883, 0.24590087, 0.44445074, 0.861539  ], dtype=float32), array([0.05220592, 0.265493  , 0.22228253, 0.951362  ], dtype=float32), array([0.53112054, 0.21769875, 0.674021  , 0.8056485 ], dtype=float32), array([0.66386443, 0.22564858, 0.78567964, 0.7735074 ], dtype=float32), array([0.79758507, 0.25436258, 0.92328185, 0.67461604], dtype=float32), array([0.9336654 , 0.23108083, 0.99692476, 0.5622694 ], dtype=float32), array([0.6300428 , 0.23239341, 0.6460118 , 0.3009474 ], dtype=float32)]\r\n",
      "Number of people in queue = {1: 0, 2: 0}\r\n",
      "Total People in frame = 8\r\n",
      "Total People in frame = [array([0.30908623, 0.245549  , 0.44558945, 0.8638681 ], dtype=float32), array([0.0507896 , 0.2657762 , 0.22242144, 0.9511006 ], dtype=float32), array([0.529698  , 0.21806368, 0.67344034, 0.80498695], dtype=float32), array([0.6642684 , 0.2256952 , 0.784662  , 0.77500385], dtype=float32), array([0.79793054, 0.254362  , 0.9234089 , 0.6770901 ], dtype=float32), array([0.9334918 , 0.23223028, 0.9963782 , 0.56280065], dtype=float32), array([0.6296794 , 0.23152015, 0.6456916 , 0.30217984], dtype=float32), array([0.90101266, 0.24563827, 0.9558929 , 0.5264212 ], dtype=float32)]\r\n",
      "Number of people in queue = {1: 0, 2: 0}\r\n",
      "Total People in frame = 7\r\n",
      "Total People in frame = [array([0.30900264, 0.24609035, 0.44668567, 0.86375684], dtype=float32), array([0.5286809 , 0.21880081, 0.6728021 , 0.80629575], dtype=float32), array([0.04932404, 0.26853672, 0.22736454, 0.9653628 ], dtype=float32), array([0.6652131 , 0.22782427, 0.783149  , 0.7786707 ], dtype=float32), array([0.7983492 , 0.25487024, 0.92345124, 0.6781884 ], dtype=float32), array([0.9333874 , 0.23043728, 0.9966823 , 0.5608834 ], dtype=float32), array([0.6296225 , 0.23082846, 0.6463042 , 0.3027674 ], dtype=float32)]\r\n",
      "Number of people in queue = {1: 0, 2: 0}\r\n",
      "Total People in frame = 7\r\n",
      "Total People in frame = [array([0.3086265 , 0.24689847, 0.44784054, 0.86420757], dtype=float32), array([0.04807822, 0.26851475, 0.2278944 , 0.9659841 ], dtype=float32), array([0.5276209 , 0.21975216, 0.67222   , 0.80745673], dtype=float32), array([0.66554224, 0.2305024 , 0.7832277 , 0.77793026], dtype=float32), array([0.79736274, 0.2550973 , 0.92313725, 0.67796373], dtype=float32), array([0.93362135, 0.22368412, 0.99725467, 0.5606568 ], dtype=float32), array([0.6295243 , 0.23125178, 0.646283  , 0.30362403], dtype=float32)]\r\n",
      "Number of people in queue = {1: 0, 2: 0}\r\n",
      "Total People in frame = 6\r\n",
      "Total People in frame = [array([0.30851284, 0.24771857, 0.4484922 , 0.86041737], dtype=float32), array([0.04725899, 0.26980975, 0.22818439, 0.96607506], dtype=float32), array([0.5270956 , 0.219194  , 0.6717376 , 0.80608755], dtype=float32), array([0.6660868 , 0.23137653, 0.7829155 , 0.77700996], dtype=float32), array([0.79698294, 0.25584584, 0.9238036 , 0.67817134], dtype=float32), array([0.93440515, 0.22403383, 0.9974138 , 0.5607639 ], dtype=float32)]\r\n",
      "Number of people in queue = {1: 0, 2: 0}\r\n",
      "Total People in frame = 7\r\n",
      "Total People in frame = [array([0.3083865 , 0.24756163, 0.44786406, 0.86099714], dtype=float32), array([0.04661968, 0.27013165, 0.22838452, 0.96661395], dtype=float32), array([0.5262802 , 0.21905613, 0.6719716 , 0.8061129 ], dtype=float32), array([0.6660776 , 0.23193306, 0.78169084, 0.77667767], dtype=float32), array([0.7957863 , 0.25727147, 0.9235036 , 0.67802525], dtype=float32), array([0.9379102 , 0.22210108, 0.9979197 , 0.5599668 ], dtype=float32), array([0.90276814, 0.20318176, 0.95293546, 0.47268707], dtype=float32)]\r\n",
      "Number of people in queue = {1: 0, 2: 0}\r\n",
      "Total People in frame = 7\r\n",
      "Total People in frame = [array([0.3078723 , 0.24702573, 0.4486497 , 0.8604245 ], dtype=float32), array([0.04649023, 0.27094844, 0.22848958, 0.9667877 ], dtype=float32), array([0.5257704 , 0.21892914, 0.67207384, 0.80617297], dtype=float32), array([0.6654599 , 0.2313576 , 0.78217745, 0.7771511 ], dtype=float32), array([0.7952909 , 0.25938302, 0.9235241 , 0.6769576 ], dtype=float32), array([0.93922037, 0.22565427, 0.99807733, 0.5573864 ], dtype=float32), array([0.9032038 , 0.20423336, 0.95383424, 0.4646948 ], dtype=float32)]\r\n",
      "Number of people in queue = {1: 0, 2: 0}\r\n",
      "Total People in frame = 7\r\n",
      "Total People in frame = [array([0.30747205, 0.24682286, 0.4484164 , 0.8592211 ], dtype=float32), array([0.04593641, 0.27156064, 0.22884178, 0.9650823 ], dtype=float32), array([0.5262173 , 0.21870103, 0.67180794, 0.8063319 ], dtype=float32), array([0.66490257, 0.23229259, 0.782228  , 0.77802616], dtype=float32), array([0.7955553 , 0.25910887, 0.92312056, 0.6773218 ], dtype=float32), array([0.9357616 , 0.23413943, 0.9962928 , 0.5637639 ], dtype=float32), array([0.73917305, 0.2505368 , 0.8064792 , 0.5986137 ], dtype=float32)]\r\n",
      "Number of people in queue = {1: 0, 2: 0}\r\n",
      "Total People in frame = 6\r\n",
      "Total People in frame = [array([0.30748022, 0.2466996 , 0.44820392, 0.8579347 ], dtype=float32), array([0.04568501, 0.2705009 , 0.22879992, 0.9657427 ], dtype=float32), array([0.5276824 , 0.21948823, 0.6721232 , 0.80535805], dtype=float32), array([0.6642784 , 0.23185262, 0.7808213 , 0.7748151 ], dtype=float32), array([0.79565763, 0.25857812, 0.92267776, 0.67850393], dtype=float32), array([0.9352106 , 0.23941958, 0.9953054 , 0.56353265], dtype=float32)]\r\n",
      "Number of people in queue = {1: 0, 2: 0}\r\n",
      "Total People in frame = 6\r\n",
      "Total People in frame = [array([0.3073361 , 0.24654436, 0.44780964, 0.8575522 ], dtype=float32), array([0.04566845, 0.2700674 , 0.22851944, 0.9655358 ], dtype=float32), array([0.5301881 , 0.22087333, 0.67201257, 0.8069011 ], dtype=float32), array([0.66405505, 0.2317855 , 0.7789206 , 0.77360463], dtype=float32), array([0.79639065, 0.2570762 , 0.9223683 , 0.6783736 ], dtype=float32), array([0.95034134, 0.22406481, 0.9982121 , 0.56830066], dtype=float32)]\r\n",
      "Number of people in queue = {1: 0, 2: 0}\r\n",
      "Total People in frame = 6\r\n",
      "Total People in frame = [array([0.30697262, 0.24559504, 0.44707137, 0.8582446 ], dtype=float32), array([0.04565369, 0.27064526, 0.22811761, 0.96565044], dtype=float32), array([0.6641975 , 0.23065555, 0.77761096, 0.7722987 ], dtype=float32), array([0.5309797 , 0.22147557, 0.671482  , 0.8064599 ], dtype=float32), array([0.79641926, 0.25650567, 0.92176735, 0.6777498 ], dtype=float32), array([0.95016783, 0.22471422, 0.9986432 , 0.56481487], dtype=float32)]\r\n",
      "Number of people in queue = {1: 0, 2: 0}\r\n",
      "Total People in frame = 7\r\n",
      "Total People in frame = [array([0.30682427, 0.24545881, 0.44763666, 0.8585546 ], dtype=float32), array([0.04552348, 0.26978186, 0.22774439, 0.96289146], dtype=float32), array([0.5315467 , 0.2227757 , 0.67145157, 0.80678046], dtype=float32), array([0.66441894, 0.22930759, 0.7781452 , 0.7730425 ], dtype=float32), array([0.79643345, 0.2571661 , 0.92178   , 0.6779796 ], dtype=float32), array([0.9555577 , 0.225217  , 0.99947107, 0.56863874], dtype=float32), array([0.73927563, 0.24646658, 0.8056348 , 0.5975407 ], dtype=float32)]\r\n",
      "Number of people in queue = {1: 0, 2: 0}\r\n",
      "Total People in frame = 7\r\n",
      "Total People in frame = [array([0.3068164 , 0.24491459, 0.4474343 , 0.85840946], dtype=float32), array([0.04557941, 0.27018824, 0.22770953, 0.9658772 ], dtype=float32), array([0.53097236, 0.2238957 , 0.6708373 , 0.8070146 ], dtype=float32), array([0.6653408 , 0.23112828, 0.7777077 , 0.77243716], dtype=float32), array([0.7968064 , 0.25596082, 0.92154807, 0.67897576], dtype=float32), array([0.95650065, 0.2255293 , 0.99940324, 0.5691102 ], dtype=float32), array([0.7397516 , 0.24534014, 0.8061094 , 0.5981773 ], dtype=float32)]\r\n",
      "Number of people in queue = {1: 0, 2: 0}\r\n",
      "Total People in frame = 8\r\n",
      "Total People in frame = [array([0.30680603, 0.24403   , 0.44703376, 0.85899794], dtype=float32), array([0.0453154 , 0.27031347, 0.22799583, 0.9658854 ], dtype=float32), array([0.5310559 , 0.22432467, 0.6713071 , 0.8072504 ], dtype=float32), array([0.6659242 , 0.23177168, 0.7772511 , 0.77285326], dtype=float32), array([0.79654783, 0.25491422, 0.9209812 , 0.6786494 ], dtype=float32), array([0.9577636 , 0.22715493, 0.999816  , 0.56596017], dtype=float32), array([0.7415778 , 0.24272147, 0.8064267 , 0.5988046 ], dtype=float32), array([0.93334293, 0.1898371 , 0.97190595, 0.3540929 ], dtype=float32)]\r\n",
      "Number of people in queue = {1: 0, 2: 0}\r\n",
      "Total People in frame = 7\r\n",
      "Total People in frame = [array([0.3072786 , 0.24496612, 0.4470249 , 0.8591813 ], dtype=float32), array([0.04535557, 0.27066168, 0.22803424, 0.9660038 ], dtype=float32), array([0.5312543 , 0.22469708, 0.6716635 , 0.8053082 ], dtype=float32), array([0.6658029 , 0.23201689, 0.7768962 , 0.7721609 ], dtype=float32), array([0.7966841 , 0.25479835, 0.9208254 , 0.6784868 ], dtype=float32), array([0.74251324, 0.24377829, 0.80671495, 0.5994321 ], dtype=float32), array([0.95744926, 0.23240134, 0.9986537 , 0.5492065 ], dtype=float32)]\r\n",
      "Number of people in queue = {1: 0, 2: 0}\r\n",
      "Total People in frame = 8\r\n",
      "Total People in frame = [array([0.30703312, 0.24477449, 0.44776165, 0.8595394 ], dtype=float32), array([0.0455452 , 0.27085376, 0.22796372, 0.9638431 ], dtype=float32), array([0.53016096, 0.22370252, 0.6709526 , 0.8042389 ], dtype=float32), array([0.66564023, 0.23128173, 0.7767317 , 0.7724999 ], dtype=float32), array([0.7968843 , 0.2553867 , 0.92106164, 0.6780334 ], dtype=float32), array([0.7433465 , 0.2452037 , 0.80737394, 0.59899426], dtype=float32), array([0.93482935, 0.19025466, 0.97236884, 0.35243818], dtype=float32), array([0.92003953, 0.27466094, 0.9925294 , 0.56460875], dtype=float32)]\r\n",
      "Number of people in queue = {1: 0, 2: 0}\r\n",
      "Total People in frame = 8\r\n",
      "Total People in frame = [array([0.30734915, 0.24468908, 0.4475369 , 0.8606026 ], dtype=float32), array([0.04523342, 0.2703629 , 0.22738257, 0.9632184 ], dtype=float32), array([0.5299887 , 0.22234958, 0.6716227 , 0.80413157], dtype=float32), array([0.66527873, 0.2294206 , 0.77734417, 0.773539  ], dtype=float32), array([0.7970817 , 0.25561222, 0.92125165, 0.6776072 ], dtype=float32), array([0.919832  , 0.25724387, 0.99607635, 0.5698608 ], dtype=float32), array([0.74320275, 0.24698459, 0.80793077, 0.598343  ], dtype=float32), array([0.6300557 , 0.2332268 , 0.6460263 , 0.29999796], dtype=float32)]\r\n",
      "Number of people in queue = {1: 0, 2: 0}\r\n",
      "Total People in frame = 8\r\n",
      "Total People in frame = [array([0.30749413, 0.24438617, 0.44754562, 0.8604739 ], dtype=float32), array([0.04543158, 0.27012452, 0.22798112, 0.96209645], dtype=float32), array([0.52992046, 0.22083062, 0.6719446 , 0.80478245], dtype=float32), array([0.6659143 , 0.23010564, 0.777387  , 0.774063  ], dtype=float32), array([0.79738545, 0.25535583, 0.9209522 , 0.676037  ], dtype=float32), array([0.7436752 , 0.24375837, 0.8080364 , 0.6014202 ], dtype=float32), array([0.9193598 , 0.26472214, 0.99532986, 0.5627105 ], dtype=float32), array([0.62977195, 0.23294526, 0.6462525 , 0.3012643 ], dtype=float32)]\r\n",
      "Number of people in queue = {1: 0, 2: 0}\r\n",
      "Total People in frame = 9\r\n",
      "Total People in frame = [array([0.3077339 , 0.24451116, 0.44817883, 0.86158454], dtype=float32), array([0.045306  , 0.2701474 , 0.22782513, 0.96246254], dtype=float32), array([0.5304114 , 0.22019538, 0.67252356, 0.80519927], dtype=float32), array([0.6656065 , 0.23067811, 0.7775539 , 0.77476645], dtype=float32), array([0.7975143 , 0.25509351, 0.9209025 , 0.67642546], dtype=float32), array([0.74391484, 0.24041265, 0.80821955, 0.60145175], dtype=float32), array([0.6295899 , 0.2316345 , 0.6466049 , 0.30247974], dtype=float32), array([0.91641873, 0.26899087, 0.9938397 , 0.5614706 ], dtype=float32), array([0.8991797 , 0.25081235, 0.95900774, 0.5296757 ], dtype=float32)]\r\n",
      "Number of people in queue = {1: 0, 2: 0}\r\n",
      "Total People in frame = 7\r\n",
      "Total People in frame = [array([0.30762684, 0.24471846, 0.44843572, 0.8611573 ], dtype=float32), array([0.04476532, 0.26832134, 0.22799048, 0.9664524 ], dtype=float32), array([0.5307358 , 0.21949485, 0.6733621 , 0.80668545], dtype=float32), array([0.6643144 , 0.23023894, 0.7780036 , 0.7738662 ], dtype=float32), array([0.7977838 , 0.25657988, 0.92050093, 0.67486805], dtype=float32), array([0.7430006 , 0.24049085, 0.80757904, 0.6017347 ], dtype=float32), array([0.62984395, 0.2317642 , 0.6467135 , 0.30153054], dtype=float32)]\r\n",
      "Number of people in queue = {1: 0, 2: 0}\r\n",
      "Total People in frame = 8\r\n",
      "Total People in frame = [array([0.3080683 , 0.24528086, 0.44767436, 0.8609141 ], dtype=float32), array([0.04513311, 0.26849404, 0.22757393, 0.96437216], dtype=float32), array([0.5306044 , 0.22058612, 0.67248863, 0.8066096 ], dtype=float32), array([0.66528034, 0.23031062, 0.7783662 , 0.7740143 ], dtype=float32), array([0.7969574 , 0.25555626, 0.92088974, 0.6755216 ], dtype=float32), array([0.7437018 , 0.23775683, 0.8086325 , 0.6017439 ], dtype=float32), array([0.9189052 , 0.26289803, 0.9960061 , 0.55487114], dtype=float32), array([0.6295374 , 0.23167568, 0.6463192 , 0.30227584], dtype=float32)]\r\n",
      "Number of people in queue = {1: 0, 2: 0}\r\n",
      "Total People in frame = 8\r\n",
      "Total People in frame = [array([0.30817708, 0.24492568, 0.44761452, 0.86154586], dtype=float32), array([0.04502463, 0.26851073, 0.22810805, 0.9628389 ], dtype=float32), array([0.5306578 , 0.21984425, 0.6725516 , 0.8087821 ], dtype=float32), array([0.6653492 , 0.22930217, 0.7788567 , 0.7756069 ], dtype=float32), array([0.7968574 , 0.25651148, 0.9213473 , 0.67453754], dtype=float32), array([0.74265033, 0.23767506, 0.8077186 , 0.60086095], dtype=float32), array([0.9194358 , 0.25390804, 0.99684554, 0.5569789 ], dtype=float32), array([0.62976307, 0.23091379, 0.6463799 , 0.30154172], dtype=float32)]\r\n",
      "Number of people in queue = {1: 0, 2: 0}\r\n",
      "Total People in frame = 9\r\n",
      "Total People in frame = [array([0.3086567 , 0.2451872 , 0.44722515, 0.8610381 ], dtype=float32), array([0.04499558, 0.26799014, 0.2281732 , 0.96321607], dtype=float32), array([0.5295013 , 0.21942702, 0.6726247 , 0.8099172 ], dtype=float32), array([0.6654495 , 0.22746718, 0.77930117, 0.77665544], dtype=float32), array([0.7968797 , 0.25618523, 0.9215985 , 0.67495596], dtype=float32), array([0.74206865, 0.23649381, 0.8075572 , 0.5997851 ], dtype=float32), array([0.9221652 , 0.25402635, 0.9980238 , 0.55557877], dtype=float32), array([0.6296735 , 0.2306425 , 0.6462822 , 0.30114496], dtype=float32), array([0.89845127, 0.25423253, 0.9572721 , 0.52437663], dtype=float32)]\r\n",
      "Number of people in queue = {1: 0, 2: 0}\r\n",
      "Total People in frame = 8\r\n",
      "Total People in frame = [array([0.30879283, 0.24469945, 0.44713366, 0.8623395 ], dtype=float32), array([0.04507589, 0.26580587, 0.2279231 , 0.96574366], dtype=float32), array([0.52877367, 0.21951982, 0.6723701 , 0.8117442 ], dtype=float32), array([0.6650044 , 0.22720712, 0.7786559 , 0.7770471 ], dtype=float32), array([0.7970876 , 0.25776148, 0.9216718 , 0.67480356], dtype=float32), array([0.7428087 , 0.23592688, 0.80765283, 0.5988402 ], dtype=float32), array([0.9207486 , 0.2443621 , 0.9982923 , 0.56100786], dtype=float32), array([0.62968236, 0.23032   , 0.6462901 , 0.30185798], dtype=float32)]\r\n",
      "Number of people in queue = {1: 0, 2: 0}\r\n",
      "Total People in frame = 8\r\n",
      "Total People in frame = [array([0.30922213, 0.24409992, 0.4469733 , 0.86298734], dtype=float32), array([0.04444596, 0.2661623 , 0.22782844, 0.96457696], dtype=float32), array([0.52838606, 0.21990216, 0.6720094 , 0.8113425 ], dtype=float32), array([0.6651253, 0.2273182, 0.7791775, 0.7777089], dtype=float32), array([0.79743475, 0.25762492, 0.9220821 , 0.6763766 ], dtype=float32), array([0.9162859 , 0.2424799 , 0.99970007, 0.5709994 ], dtype=float32), array([0.74225825, 0.23919445, 0.8066564 , 0.59808135], dtype=float32), array([0.6290885 , 0.22945301, 0.64542377, 0.30281574], dtype=float32)]\r\n",
      "Number of people in queue = {1: 0, 2: 0}\r\n",
      "Total People in frame = 8\r\n",
      "Total People in frame = [array([0.3090275 , 0.2440373 , 0.44689226, 0.86187553], dtype=float32), array([0.04473604, 0.2666335 , 0.22795527, 0.96526754], dtype=float32), array([0.5298705 , 0.22041684, 0.6726357 , 0.81024545], dtype=float32), array([0.66558075, 0.22593161, 0.778574  , 0.7761282 ], dtype=float32), array([0.796801 , 0.2580939, 0.9220761, 0.6758136], dtype=float32), array([0.9154635 , 0.24739274, 0.9998475 , 0.57078874], dtype=float32), array([0.74595463, 0.24250782, 0.8061935 , 0.5926931 ], dtype=float32), array([0.6295706 , 0.22924593, 0.64588225, 0.30377784], dtype=float32)]\r\n",
      "Number of people in queue = {1: 0, 2: 0}\r\n",
      "Total People in frame = 7\r\n",
      "Total People in frame = [array([0.3092537 , 0.24366975, 0.44706297, 0.86236954], dtype=float32), array([0.04492354, 0.26625004, 0.22797918, 0.96466005], dtype=float32), array([0.52983254, 0.221948  , 0.67265636, 0.80955267], dtype=float32), array([0.66469294, 0.22515401, 0.77962834, 0.77618444], dtype=float32), array([0.7964796 , 0.25764155, 0.92195964, 0.6755337 ], dtype=float32), array([0.9159793 , 0.25018287, 0.99895436, 0.5714082 ], dtype=float32), array([0.74757165, 0.24294575, 0.8079851 , 0.59134567], dtype=float32)]\r\n",
      "Number of people in queue = {1: 0, 2: 0}\r\n",
      "Total People in frame = 7\r\n",
      "Total People in frame = [array([0.30920446, 0.24342787, 0.4477682 , 0.86289465], dtype=float32), array([0.04473253, 0.26553145, 0.22818188, 0.96573234], dtype=float32), array([0.5300404 , 0.2213412 , 0.6729646 , 0.81048554], dtype=float32), array([0.66589403, 0.22531724, 0.7800751 , 0.7763027 ], dtype=float32), array([0.7961616 , 0.25910136, 0.9223612 , 0.67594814], dtype=float32), array([0.91584045, 0.24829443, 0.9982168 , 0.57129574], dtype=float32), array([0.74684834, 0.24361402, 0.8065827 , 0.5877462 ], dtype=float32)]\r\n",
      "Number of people in queue = {1: 0, 2: 0}\r\n",
      "Total People in frame = 7\r\n",
      "Total People in frame = [array([0.3093933 , 0.24404243, 0.44854432, 0.8621496 ], dtype=float32), array([0.04464103, 0.2663996 , 0.22838324, 0.96646   ], dtype=float32), array([0.5299143 , 0.22251898, 0.67293674, 0.8084633 ], dtype=float32), array([0.6677016 , 0.2276021 , 0.78043497, 0.77219427], dtype=float32), array([0.7966451 , 0.25865024, 0.9228918 , 0.67723346], dtype=float32), array([0.9194512 , 0.25351024, 0.99849564, 0.5717682 ], dtype=float32), array([0.74726164, 0.24825786, 0.8056245 , 0.5863755 ], dtype=float32)]\r\n",
      "Number of people in queue = {1: 0, 2: 0}\r\n",
      "Total People in frame = 7\r\n",
      "Total People in frame = [array([0.30947855, 0.24459764, 0.44939414, 0.86296856], dtype=float32), array([0.04502776, 0.26602858, 0.22853857, 0.968095  ], dtype=float32), array([0.53071046, 0.2222285 , 0.6735419 , 0.8091203 ], dtype=float32), array([0.6677649 , 0.22963268, 0.780447  , 0.7711584 ], dtype=float32), array([0.7967527 , 0.25897133, 0.92237496, 0.67584217], dtype=float32), array([0.92337346, 0.2583692 , 0.9987334 , 0.5708884 ], dtype=float32), array([0.7467819 , 0.24736978, 0.8047698 , 0.58427274], dtype=float32)]\r\n",
      "Number of people in queue = {1: 0, 2: 0}\r\n",
      "Total People in frame = 7\r\n",
      "Total People in frame = [array([0.30970937, 0.24385327, 0.4500153 , 0.8647478 ], dtype=float32), array([0.04470889, 0.26646265, 0.22847912, 0.96731675], dtype=float32), array([0.6696609 , 0.23439929, 0.7801385 , 0.76693046], dtype=float32), array([0.5309169 , 0.22371086, 0.6731684 , 0.80852985], dtype=float32), array([0.79638046, 0.258296  , 0.9218684 , 0.6757913 ], dtype=float32), array([0.74739265, 0.24880396, 0.80346966, 0.5832703 ], dtype=float32), array([0.9238968 , 0.2608453 , 0.99928594, 0.57000494], dtype=float32)]\r\n",
      "Number of people in queue = {1: 0, 2: 0}\r\n",
      "Total People in frame = 7\r\n",
      "Total People in frame = [array([0.3096046 , 0.2443099 , 0.44971663, 0.86579204], dtype=float32), array([0.04421452, 0.26684314, 0.22883025, 0.96576065], dtype=float32), array([0.6693962 , 0.24056384, 0.77883047, 0.7625482 ], dtype=float32), array([0.53059095, 0.2247032 , 0.6724238 , 0.8073257 ], dtype=float32), array([0.7967607 , 0.25875062, 0.9219792 , 0.67417926], dtype=float32), array([0.92378503, 0.2639016 , 0.9979747 , 0.5680292 ], dtype=float32), array([0.7122352, 0.242683 , 0.7909924, 0.650623 ], dtype=float32)]\r\n",
      "Number of people in queue = {1: 0, 2: 0}\r\n",
      "Total People in frame = 6\r\n",
      "Total People in frame = [array([0.30975693, 0.24449205, 0.449731  , 0.8638029 ], dtype=float32), array([0.04426108, 0.26612756, 0.22866896, 0.96725774], dtype=float32), array([0.66879046, 0.23522133, 0.7788503 , 0.7687281 ], dtype=float32), array([0.5302622 , 0.22501487, 0.67220813, 0.8085366 ], dtype=float32), array([0.79628456, 0.25873184, 0.921793  , 0.67481506], dtype=float32), array([0.92572236, 0.25471443, 0.9980763 , 0.5686424 ], dtype=float32)]\r\n",
      "Number of people in queue = {1: 0, 2: 0}\r\n",
      "Total People in frame = 7\r\n",
      "Total People in frame = [array([0.3098354 , 0.24488527, 0.4490982 , 0.86240524], dtype=float32), array([0.04500181, 0.26446518, 0.22893032, 0.96842647], dtype=float32), array([0.669469 , 0.2397829, 0.777871 , 0.7667247], dtype=float32), array([0.5299173 , 0.22653446, 0.6711878 , 0.80606925], dtype=float32), array([0.7976017 , 0.25938532, 0.9214977 , 0.6748531 ], dtype=float32), array([0.92799544, 0.2500919 , 0.99959624, 0.5677288 ], dtype=float32), array([0.71605253, 0.24550804, 0.7896483 , 0.64617753], dtype=float32)]\r\n",
      "Number of people in queue = {1: 0, 2: 0}\r\n",
      "Total People in frame = 7\r\n",
      "Total People in frame = [array([0.31014675, 0.2458013 , 0.4494598 , 0.86190116], dtype=float32), array([0.04684006, 0.26439708, 0.22830838, 0.96840614], dtype=float32), array([0.66859734, 0.24341583, 0.7786068 , 0.7685683 ], dtype=float32), array([0.52978945, 0.22754246, 0.67124987, 0.80764943], dtype=float32), array([0.79755604, 0.25818658, 0.92146707, 0.6748868 ], dtype=float32), array([0.92508847, 0.24468027, 0.9989894 , 0.5645012 ], dtype=float32), array([0.7192553 , 0.24884422, 0.79102886, 0.6365107 ], dtype=float32)]\r\n",
      "Number of people in queue = {1: 0, 2: 0}\r\n",
      "Total People in frame = 6\r\n",
      "Total People in frame = [array([0.3099304 , 0.24577573, 0.44949558, 0.8609477 ], dtype=float32), array([0.04839785, 0.26425943, 0.22791278, 0.96836865], dtype=float32), array([0.53083616, 0.22797531, 0.67218786, 0.8058544 ], dtype=float32), array([0.6690876 , 0.24350646, 0.77831596, 0.7669655 ], dtype=float32), array([0.79793733, 0.2574945 , 0.92170185, 0.6745031 ], dtype=float32), array([0.7168858 , 0.2510729 , 0.78959525, 0.6380719 ], dtype=float32)]\r\n",
      "Number of people in queue = {1: 0, 2: 0}\r\n",
      "Total People in frame = 6\r\n",
      "Total People in frame = [array([0.30994767, 0.2447604 , 0.44959813, 0.8619803 ], dtype=float32), array([0.05003111, 0.26538435, 0.22358288, 0.9540311 ], dtype=float32), array([0.52989954, 0.22876525, 0.6754367 , 0.8070183 ], dtype=float32), array([0.6684208 , 0.24298382, 0.78011024, 0.7693398 ], dtype=float32), array([0.7974091 , 0.25661433, 0.92181283, 0.6753414 ], dtype=float32), array([0.63043815, 0.23247266, 0.64647585, 0.30066335], dtype=float32)]\r\n",
      "Number of people in queue = {1: 0, 2: 0}\r\n",
      "Total People in frame = 7\r\n",
      "Total People in frame = [array([0.30983445, 0.24490058, 0.4495633 , 0.86384463], dtype=float32), array([0.05084851, 0.26369244, 0.22315452, 0.9544465 ], dtype=float32), array([0.5222319 , 0.23065865, 0.67465705, 0.8083564 ], dtype=float32), array([0.66753435, 0.24314392, 0.78031945, 0.77001894], dtype=float32), array([0.79813325, 0.2567001 , 0.92174554, 0.67394173], dtype=float32), array([0.9004059 , 0.25419384, 0.95325494, 0.5300845 ], dtype=float32), array([0.7167467 , 0.2519266 , 0.79033935, 0.64064324], dtype=float32)]\r\n",
      "Number of people in queue = {1: 0, 2: 0}\r\n",
      "Total People in frame = 6\r\n",
      "Total People in frame = [array([0.310005  , 0.24445805, 0.44957095, 0.8637464 ], dtype=float32), array([0.05092855, 0.26272812, 0.2227711 , 0.95287454], dtype=float32), array([0.52535284, 0.23046637, 0.6735594 , 0.8060297 ], dtype=float32), array([0.6670539 , 0.24555266, 0.7801507 , 0.76871383], dtype=float32), array([0.7972089 , 0.25577933, 0.92121744, 0.6745273 ], dtype=float32), array([0.9017678 , 0.25215322, 0.9545507 , 0.5289212 ], dtype=float32)]\r\n",
      "Number of people in queue = {1: 0, 2: 0}\r\n",
      "Total People in frame = 7\r\n",
      "Total People in frame = [array([0.30981725, 0.24443534, 0.44985217, 0.8647727 ], dtype=float32), array([0.05218302, 0.26253638, 0.2223643 , 0.954643  ], dtype=float32), array([0.53007114, 0.22966233, 0.6733496 , 0.8074521 ], dtype=float32), array([0.66790223, 0.24555978, 0.7797849 , 0.7665372 ], dtype=float32), array([0.7969344, 0.256024 , 0.9212151, 0.6733418], dtype=float32), array([0.90204114, 0.24883096, 0.95879847, 0.5366768 ], dtype=float32), array([0.7180679 , 0.25126705, 0.79150414, 0.6403953 ], dtype=float32)]\r\n",
      "Number of people in queue = {1: 0, 2: 0}\r\n",
      "Total People in frame = 7\r\n",
      "Total People in frame = [array([0.30991963, 0.24395189, 0.4498956 , 0.8631941 ], dtype=float32), array([0.05331203, 0.26286685, 0.22213951, 0.95187175], dtype=float32), array([0.5277505 , 0.22957036, 0.67337215, 0.8072827 ], dtype=float32), array([0.66788375, 0.24706441, 0.78009486, 0.76545936], dtype=float32), array([0.79666275, 0.25571105, 0.92154247, 0.6748121 ], dtype=float32), array([0.90133154, 0.24789909, 0.9584451 , 0.5358335 ], dtype=float32), array([0.7178548, 0.2511404, 0.7919492, 0.6410073], dtype=float32)]\r\n",
      "Number of people in queue = {1: 0, 2: 0}\r\n",
      "Total People in frame = 7\r\n",
      "Total People in frame = [array([0.31019044, 0.24406153, 0.45000428, 0.86705166], dtype=float32), array([0.05355839, 0.26359567, 0.2221016 , 0.95539117], dtype=float32), array([0.5265992 , 0.22947317, 0.674491  , 0.80584186], dtype=float32), array([0.66788256, 0.24913236, 0.77924407, 0.76396775], dtype=float32), array([0.79636997, 0.25537893, 0.92136174, 0.6725935 ], dtype=float32), array([0.9016338 , 0.24679309, 0.9583433 , 0.5363273 ], dtype=float32), array([0.7175981 , 0.25184703, 0.7913251 , 0.6434108 ], dtype=float32)]\r\n",
      "Number of people in queue = {1: 0, 2: 0}\r\n",
      "Total People in frame = 7\r\n",
      "Total People in frame = [array([0.310266  , 0.24389994, 0.45043036, 0.86895275], dtype=float32), array([0.05211383, 0.2625525 , 0.22262394, 0.95459306], dtype=float32), array([0.51915586, 0.2304348 , 0.6736716 , 0.80834985], dtype=float32), array([0.66766256, 0.25020817, 0.7787208 , 0.7633207 ], dtype=float32), array([0.79716986, 0.25633287, 0.92131037, 0.6723512 ], dtype=float32), array([0.90125877, 0.25073504, 0.95730287, 0.53479975], dtype=float32), array([0.7179548 , 0.25230998, 0.7907191 , 0.641717  ], dtype=float32)]\r\n",
      "Number of people in queue = {1: 0, 2: 0}\r\n",
      "Total People in frame = 7\r\n",
      "Total People in frame = [array([0.31046724, 0.24428442, 0.45017904, 0.86968696], dtype=float32), array([0.05058085, 0.26355284, 0.22297108, 0.953574  ], dtype=float32), array([0.5144797 , 0.23137158, 0.6733319 , 0.81239086], dtype=float32), array([0.6676491 , 0.24972913, 0.7784957 , 0.7636243 ], dtype=float32), array([0.79797643, 0.25665838, 0.9214459 , 0.6720332 ], dtype=float32), array([0.9016521 , 0.2501596 , 0.95741105, 0.534505  ], dtype=float32), array([0.7180815 , 0.25193733, 0.7907282 , 0.64197844], dtype=float32)]\r\n",
      "Number of people in queue = {1: 0, 2: 0}\r\n",
      "Total People in frame = 7\r\n",
      "Total People in frame = [array([0.31042263, 0.24423191, 0.45076004, 0.86917114], dtype=float32), array([0.04810381, 0.26548573, 0.2278556 , 0.96610236], dtype=float32), array([0.51329917, 0.23002172, 0.6725251 , 0.8081995 ], dtype=float32), array([0.667482  , 0.25000927, 0.77887964, 0.765483  ], dtype=float32), array([0.7969106 , 0.25704694, 0.921508  , 0.6732763 ], dtype=float32), array([0.9017633 , 0.25233388, 0.95828664, 0.53575164], dtype=float32), array([0.71859485, 0.25126353, 0.79124707, 0.64366806], dtype=float32)]\r\n",
      "Number of people in queue = {1: 0, 2: 0}\r\n",
      "Total People in frame = 6\r\n",
      "Total People in frame = [array([0.3101065 , 0.24414214, 0.45105043, 0.8700689 ], dtype=float32), array([0.04691534, 0.26404878, 0.22808836, 0.9668696 ], dtype=float32), array([0.50603837, 0.22862542, 0.6691074 , 0.81976545], dtype=float32), array([0.6679621 , 0.25117835, 0.7786627 , 0.76379657], dtype=float32), array([0.7971172 , 0.25999355, 0.9212939 , 0.67371476], dtype=float32), array([0.71931195, 0.24982937, 0.7917869 , 0.6411664 ], dtype=float32)]\r\n",
      "Number of people in queue = {1: 0, 2: 0}\r\n",
      "Total People in frame = 7\r\n",
      "Total People in frame = [array([0.3100072 , 0.24400857, 0.45167   , 0.8702916 ], dtype=float32), array([0.04580168, 0.2643267 , 0.22846591, 0.96584296], dtype=float32), array([0.50557935, 0.22542381, 0.67069864, 0.8186189 ], dtype=float32), array([0.6676068 , 0.24988222, 0.779095  , 0.7670677 ], dtype=float32), array([0.7976376, 0.2565248, 0.9206096, 0.6747461], dtype=float32), array([0.9020987, 0.2527918, 0.9552328, 0.5307411], dtype=float32), array([0.7209444 , 0.2494685 , 0.79257333, 0.6416009 ], dtype=float32)]\r\n",
      "Number of people in queue = {1: 0, 2: 0}\r\n",
      "Total People in frame = 7\r\n",
      "Total People in frame = [array([0.30989513, 0.2442832 , 0.45192888, 0.8678806 ], dtype=float32), array([0.04524251, 0.26340622, 0.2285212 , 0.9665136 ], dtype=float32), array([0.50412065, 0.22378972, 0.6710432 , 0.81860876], dtype=float32), array([0.66753227, 0.24965543, 0.77861553, 0.76655394], dtype=float32), array([0.797507  , 0.25886858, 0.92089957, 0.67454386], dtype=float32), array([0.9016202 , 0.25125885, 0.95474356, 0.5313027 ], dtype=float32), array([0.72090876, 0.24939059, 0.79205406, 0.638313  ], dtype=float32)]\r\n",
      "Number of people in queue = {1: 0, 2: 0}\r\n",
      "Total People in frame = 7\r\n",
      "Total People in frame = [array([0.31018507, 0.24495691, 0.45157242, 0.86760324], dtype=float32), array([0.04475433, 0.2626646 , 0.22859669, 0.9656354 ], dtype=float32), array([0.50684965, 0.22312534, 0.6747292 , 0.8142568 ], dtype=float32), array([0.66684735, 0.2470198 , 0.77918446, 0.76872504], dtype=float32), array([0.79756445, 0.2571926 , 0.9205902 , 0.675149  ], dtype=float32), array([0.9013477 , 0.24965249, 0.9541326 , 0.5285736 ], dtype=float32), array([0.7414985 , 0.2524572 , 0.80274534, 0.60005265], dtype=float32)]\r\n",
      "Number of people in queue = {1: 0, 2: 0}\r\n",
      "Total People in frame = 7\r\n",
      "Total People in frame = [array([0.31040725, 0.25683716, 0.45372316, 0.86539125], dtype=float32), array([0.04473124, 0.26288265, 0.22874984, 0.9651415 ], dtype=float32), array([0.5047794 , 0.21975195, 0.6753939 , 0.81544197], dtype=float32), array([0.6667123 , 0.24828872, 0.78014493, 0.76820505], dtype=float32), array([0.79354995, 0.25495893, 0.92073756, 0.6759415 ], dtype=float32), array([0.9014362 , 0.25065297, 0.95440114, 0.527086  ], dtype=float32), array([0.74018097, 0.2538488 , 0.80436325, 0.5989812 ], dtype=float32)]\r\n",
      "Number of people in queue = {1: 0, 2: 0}\r\n",
      "Total People in frame = 7\r\n",
      "Total People in frame = [array([0.31131777, 0.25650215, 0.4533277 , 0.8657291 ], dtype=float32), array([0.04533688, 0.26309377, 0.22849375, 0.9659056 ], dtype=float32), array([0.5041123 , 0.2185821 , 0.67493445, 0.8142243 ], dtype=float32), array([0.6668323 , 0.24973416, 0.78012264, 0.7676146 ], dtype=float32), array([0.79372716, 0.255275  , 0.9209231 , 0.6759362 ], dtype=float32), array([0.74002993, 0.25196576, 0.8043015 , 0.59859824], dtype=float32), array([0.9021576 , 0.25134528, 0.956399  , 0.53084064], dtype=float32)]\r\n",
      "Number of people in queue = {1: 0, 2: 0}\r\n",
      "Total People in frame = 7\r\n",
      "Total People in frame = [array([0.31170237, 0.25567946, 0.45306563, 0.8670628 ], dtype=float32), array([0.04651136, 0.2618238 , 0.22805676, 0.96763813], dtype=float32), array([0.5079646 , 0.22002473, 0.6780075 , 0.8135526 ], dtype=float32), array([0.6665284 , 0.25016755, 0.7803976 , 0.7680264 ], dtype=float32), array([0.7930884 , 0.25543973, 0.92097086, 0.67579687], dtype=float32), array([0.73802346, 0.24978109, 0.8032556 , 0.5985675 ], dtype=float32), array([0.901844  , 0.25337207, 0.95722425, 0.53066343], dtype=float32)]\r\n",
      "Number of people in queue = {1: 0, 2: 0}\r\n",
      "Total People in frame = 7\r\n",
      "Total People in frame = [array([0.31168506, 0.25537384, 0.453243  , 0.8643198 ], dtype=float32), array([0.04666346, 0.26182923, 0.22810131, 0.96810114], dtype=float32), array([0.51448506, 0.2203244 , 0.67960924, 0.81176615], dtype=float32), array([0.6673677 , 0.24902794, 0.7812189 , 0.7689518 ], dtype=float32), array([0.7927561, 0.2556036, 0.921435 , 0.6753976], dtype=float32), array([0.7377997 , 0.24908276, 0.80338115, 0.5980402 ], dtype=float32), array([0.9023505 , 0.2544468 , 0.9576786 , 0.53140587], dtype=float32)]\r\n",
      "Number of people in queue = {1: 0, 2: 0}\r\n",
      "Total People in frame = 7\r\n",
      "Total People in frame = [array([0.31244293, 0.25524104, 0.4527518 , 0.8669069 ], dtype=float32), array([0.04628345, 0.26195744, 0.22799215, 0.9687356 ], dtype=float32), array([0.5141999 , 0.21862465, 0.68041056, 0.810476  ], dtype=float32), array([0.6673303 , 0.24906829, 0.7820118 , 0.7690196 ], dtype=float32), array([0.7921195 , 0.25575757, 0.9211143 , 0.67581075], dtype=float32), array([0.73634547, 0.24675632, 0.80239755, 0.5969095 ], dtype=float32), array([0.90319115, 0.25253022, 0.95890087, 0.5324731 ], dtype=float32)]\r\n",
      "Number of people in queue = {1: 0, 2: 0}\r\n",
      "Total People in frame = 7\r\n",
      "Total People in frame = [array([0.31320676, 0.25548723, 0.45185325, 0.8661516 ], dtype=float32), array([0.04552693, 0.26313198, 0.22833502, 0.9696609 ], dtype=float32), array([0.5137928 , 0.21774623, 0.680999  , 0.8105098 ], dtype=float32), array([0.6692163 , 0.25208104, 0.7838595 , 0.76735747], dtype=float32), array([0.79159486, 0.2544333 , 0.92112386, 0.6757337 ], dtype=float32), array([0.73759985, 0.24693798, 0.8043314 , 0.5974733 ], dtype=float32), array([0.90394294, 0.25113386, 0.9598595 , 0.53180784], dtype=float32)]\r\n",
      "Number of people in queue = {1: 0, 2: 0}\r\n",
      "Total People in frame = 7\r\n",
      "Total People in frame = [array([0.04452919, 0.26324928, 0.22867858, 0.9666207 ], dtype=float32), array([0.3136495 , 0.25451848, 0.45161083, 0.8679153 ], dtype=float32), array([0.51250356, 0.2170566 , 0.68094534, 0.81189823], dtype=float32), array([0.6695618 , 0.25195873, 0.7842075 , 0.7667848 ], dtype=float32), array([0.79254055, 0.25496534, 0.9203168 , 0.67575824], dtype=float32), array([0.7367684 , 0.24740244, 0.8038042 , 0.5993727 ], dtype=float32), array([0.9032867 , 0.25133574, 0.95943975, 0.5341926 ], dtype=float32)]\r\n",
      "Number of people in queue = {1: 0, 2: 0}\r\n",
      "Total People in frame = 7\r\n",
      "Total People in frame = [array([0.04308475, 0.26488948, 0.22868997, 0.9661598 ], dtype=float32), array([0.31454512, 0.25538465, 0.4509119 , 0.86892235], dtype=float32), array([0.5095322 , 0.21511278, 0.6815783 , 0.8125603 ], dtype=float32), array([0.6687108 , 0.24849701, 0.78522444, 0.7684792 ], dtype=float32), array([0.7947666 , 0.25581586, 0.9199719 , 0.6760999 ], dtype=float32), array([0.7395327 , 0.24721631, 0.8047354 , 0.5960363 ], dtype=float32), array([0.90327924, 0.2508055 , 0.95931715, 0.5336378 ], dtype=float32)]\r\n",
      "Number of people in queue = {1: 0, 2: 0}\r\n",
      "Total People in frame = 7\r\n",
      "Total People in frame = [array([0.31576887, 0.25527567, 0.4504405 , 0.8664593 ], dtype=float32), array([0.04363807, 0.26595396, 0.22892375, 0.9671158 ], dtype=float32), array([0.5097407 , 0.21402943, 0.68143964, 0.8116996 ], dtype=float32), array([0.66842955, 0.24727273, 0.78438634, 0.7690506 ], dtype=float32), array([0.7965576 , 0.25536263, 0.91978747, 0.67448026], dtype=float32), array([0.7413074 , 0.25057837, 0.8049797 , 0.5987687 ], dtype=float32), array([0.90306395, 0.25083953, 0.95945686, 0.53558767], dtype=float32)]\r\n",
      "Number of people in queue = {1: 0, 2: 0}\r\n",
      "Total People in frame = 7\r\n",
      "Total People in frame = [array([0.04341787, 0.26712683, 0.22890806, 0.96632075], dtype=float32), array([0.31731027, 0.25517905, 0.44959986, 0.8667731 ], dtype=float32), array([0.50784075, 0.21308377, 0.67997277, 0.8145766 ], dtype=float32), array([0.6684322 , 0.24593803, 0.7853705 , 0.76967144], dtype=float32), array([0.7962976 , 0.2554341 , 0.91984767, 0.6754982 ], dtype=float32), array([0.9033881 , 0.25111815, 0.95931107, 0.5336983 ], dtype=float32), array([0.7425629 , 0.25498813, 0.80531   , 0.59672934], dtype=float32)]\r\n",
      "Number of people in queue = {1: 0, 2: 0}\r\n",
      "Total People in frame = 7\r\n",
      "Total People in frame = [array([0.04395994, 0.26663226, 0.22875324, 0.96752495], dtype=float32), array([0.31612295, 0.2559138 , 0.45033568, 0.866929  ], dtype=float32), array([0.5082628, 0.2139799, 0.6786056, 0.8123451], dtype=float32), array([0.66753274, 0.23219836, 0.7860859 , 0.77257097], dtype=float32), array([0.7963573 , 0.2550247 , 0.9198334 , 0.67551684], dtype=float32), array([0.90306306, 0.25073218, 0.959172  , 0.5358454 ], dtype=float32), array([0.73998064, 0.2532032 , 0.8029502 , 0.59584224], dtype=float32)]\r\n",
      "Number of people in queue = {1: 0, 2: 0}\r\n",
      "Total People in frame = 7\r\n",
      "Total People in frame = [array([0.04405805, 0.2675928 , 0.22883639, 0.96784663], dtype=float32), array([0.3164009, 0.2561545, 0.4498754, 0.8646276], dtype=float32), array([0.50841475, 0.21515167, 0.6766269 , 0.8115989 ], dtype=float32), array([0.6684159 , 0.22907016, 0.78799105, 0.7740443 ], dtype=float32), array([0.7954103 , 0.25533098, 0.9199892 , 0.67487156], dtype=float32), array([0.7435862 , 0.24660157, 0.80566883, 0.589761  ], dtype=float32), array([0.9026125 , 0.25042826, 0.9597309 , 0.5335162 ], dtype=float32)]\r\n",
      "Number of people in queue = {1: 0, 2: 0}\r\n",
      "Total People in frame = 7\r\n",
      "Total People in frame = [array([0.04412974, 0.2678261 , 0.22872497, 0.96699154], dtype=float32), array([0.3168767 , 0.25591958, 0.45009023, 0.8663058 ], dtype=float32), array([0.5048086 , 0.2154516 , 0.6751049 , 0.81267524], dtype=float32), array([0.6683475 , 0.22642136, 0.78909135, 0.7749158 ], dtype=float32), array([0.79395616, 0.25532535, 0.92044115, 0.6754067 ], dtype=float32), array([0.90255314, 0.25081772, 0.9603546 , 0.5359135 ], dtype=float32), array([0.74344206, 0.25049305, 0.8062104 , 0.58781165], dtype=float32)]\r\n",
      "Number of people in queue = {1: 0, 2: 0}\r\n",
      "Total People in frame = 7\r\n",
      "Total People in frame = [array([0.31777623, 0.256714  , 0.45037982, 0.8647634 ], dtype=float32), array([0.04415572, 0.26920214, 0.22855869, 0.967522  ], dtype=float32), array([0.500508  , 0.21508855, 0.67332953, 0.81317264], dtype=float32), array([0.66629106, 0.22775477, 0.7891306 , 0.77439255], dtype=float32), array([0.79306453, 0.25547755, 0.9209556 , 0.67426234], dtype=float32), array([0.90200794, 0.25028306, 0.9593421 , 0.53197557], dtype=float32), array([0.6297375 , 0.23148762, 0.6466553 , 0.30021572], dtype=float32)]\r\n",
      "Number of people in queue = {1: 0, 2: 0}\r\n",
      "Total People in frame = 8\r\n",
      "Total People in frame = [array([0.31832623, 0.25627917, 0.4504016 , 0.8647439 ], dtype=float32), array([0.04420299, 0.2691263 , 0.22836956, 0.96733654], dtype=float32), array([0.5006411 , 0.21564892, 0.67208445, 0.8151982 ], dtype=float32), array([0.6652549 , 0.22622019, 0.7870831 , 0.7729361 ], dtype=float32), array([0.79346484, 0.2550838 , 0.9206602 , 0.6750021 ], dtype=float32), array([0.7457383 , 0.25222895, 0.8041819 , 0.5875224 ], dtype=float32), array([0.90088475, 0.2516027 , 0.9583421 , 0.5295532 ], dtype=float32), array([0.63001263, 0.2302676 , 0.6472359 , 0.30066654], dtype=float32)]\r\n",
      "Number of people in queue = {1: 0, 2: 0}\r\n",
      "Total People in frame = 9\r\n",
      "Total People in frame = [array([0.31860515, 0.25758785, 0.44989046, 0.8645986 ], dtype=float32), array([0.044278  , 0.26913974, 0.22835803, 0.9669976 ], dtype=float32), array([0.5015728 , 0.21539605, 0.6716828 , 0.81516993], dtype=float32), array([0.66434026, 0.22677791, 0.7859807 , 0.7714735 ], dtype=float32), array([0.7939253, 0.2553184, 0.9207443, 0.6759771], dtype=float32), array([0.7448916 , 0.2521069 , 0.8032389 , 0.59457994], dtype=float32), array([0.91981816, 0.2776711 , 0.98814094, 0.55770063], dtype=float32), array([0.6298203 , 0.2310189 , 0.6465021 , 0.30099237], dtype=float32), array([0.9018284 , 0.25215772, 0.95996654, 0.53183377], dtype=float32)]\r\n",
      "Number of people in queue = {1: 0, 2: 0}\r\n",
      "Total People in frame = 6\r\n",
      "Total People in frame = [array([0.31897992, 0.25749755, 0.44964445, 0.86091375], dtype=float32), array([0.04406939, 0.26936007, 0.22812209, 0.96741176], dtype=float32), array([0.49839592, 0.21855989, 0.6704141 , 0.8118336 ], dtype=float32), array([0.6653969 , 0.22800353, 0.7847867 , 0.76985145], dtype=float32), array([0.79285115, 0.2552722 , 0.9203803 , 0.67735136], dtype=float32), array([0.7466078 , 0.2447726 , 0.8057519 , 0.59595233], dtype=float32)]\r\n",
      "Number of people in queue = {1: 0, 2: 0}\r\n",
      "Total People in frame = 7\r\n",
      "Total People in frame = [array([0.31864417, 0.2565623 , 0.45079505, 0.86232656], dtype=float32), array([0.04441664, 0.26898214, 0.22835979, 0.9661913 ], dtype=float32), array([0.5051596 , 0.21808481, 0.671008  , 0.81395006], dtype=float32), array([0.6665756 , 0.22643995, 0.7855138 , 0.77115387], dtype=float32), array([0.79228604, 0.25466886, 0.92012763, 0.67641723], dtype=float32), array([0.7479361 , 0.24375798, 0.80688655, 0.59242105], dtype=float32), array([0.6296424 , 0.23110032, 0.6462663 , 0.30125743], dtype=float32)]\r\n",
      "Number of people in queue = {1: 0, 2: 0}\r\n",
      "Total People in frame = 7\r\n",
      "Total People in frame = [array([0.3190741 , 0.25463983, 0.45049644, 0.86346865], dtype=float32), array([0.04454751, 0.2695972 , 0.22834383, 0.9661876 ], dtype=float32), array([0.5091563, 0.217884 , 0.6718431, 0.8145686], dtype=float32), array([0.66544265, 0.23044482, 0.7843742 , 0.7714369 ], dtype=float32), array([0.7941198 , 0.25489086, 0.91992134, 0.6769171 ], dtype=float32), array([0.7498945, 0.235315 , 0.8096479, 0.5900054], dtype=float32), array([0.6298241 , 0.23130107, 0.6465083 , 0.30131865], dtype=float32)]\r\n",
      "Number of people in queue = {1: 0, 2: 0}\r\n",
      "Total People in frame = 7\r\n",
      "Total People in frame = [array([0.31880718, 0.25468963, 0.4513064 , 0.8612636 ], dtype=float32), array([0.51333135, 0.21830031, 0.67133385, 0.81693685], dtype=float32), array([0.04460644, 0.2705599 , 0.2287505 , 0.9669684 ], dtype=float32), array([0.6648535 , 0.23195899, 0.7841651 , 0.7729566 ], dtype=float32), array([0.7960356 , 0.25529906, 0.9194743 , 0.67535937], dtype=float32), array([0.7489343 , 0.23469183, 0.81127685, 0.5945674 ], dtype=float32), array([0.62951607, 0.23187724, 0.64585656, 0.30139247], dtype=float32)]\r\n",
      "Number of people in queue = {1: 0, 2: 0}\r\n",
      "Total People in frame = 8\r\n",
      "Total People in frame = [array([0.52291876, 0.21987695, 0.6727107 , 0.81515473], dtype=float32), array([0.31837428, 0.2538654 , 0.45279443, 0.8612292 ], dtype=float32), array([0.04443678, 0.27089718, 0.22835708, 0.96714914], dtype=float32), array([0.6643049 , 0.23117432, 0.78319246, 0.7724495 ], dtype=float32), array([0.7984543 , 0.25507462, 0.9195107 , 0.67452425], dtype=float32), array([0.7513618 , 0.23423932, 0.81031483, 0.58949256], dtype=float32), array([0.9149469 , 0.26564175, 0.9921067 , 0.55782306], dtype=float32), array([0.62961686, 0.23191163, 0.6460873 , 0.30088267], dtype=float32)]\r\n",
      "Number of people in queue = {1: 0, 2: 0}\r\n",
      "Total People in frame = 8\r\n",
      "Total People in frame = [array([0.31880713, 0.25496936, 0.45217264, 0.8608409 ], dtype=float32), array([0.5267305 , 0.22095576, 0.6729035 , 0.81173897], dtype=float32), array([0.04456206, 0.27140862, 0.2283909 , 0.9647923 ], dtype=float32), array([0.66387266, 0.23136672, 0.7830792 , 0.7722298 ], dtype=float32), array([0.7983771 , 0.25439286, 0.9196579 , 0.6745972 ], dtype=float32), array([0.7510654 , 0.23748647, 0.809525  , 0.5907173 ], dtype=float32), array([0.9150704 , 0.25816864, 0.9916303 , 0.55927974], dtype=float32), array([0.6292173 , 0.2317284 , 0.6457259 , 0.30109695], dtype=float32)]\r\n",
      "Number of people in queue = {1: 0, 2: 0}\r\n",
      "Total People in frame = 8\r\n",
      "Total People in frame = [array([0.31888872, 0.25527135, 0.45221263, 0.86114097], dtype=float32), array([0.53172165, 0.2196767 , 0.67215675, 0.8095194 ], dtype=float32), array([0.04450244, 0.27127525, 0.22843942, 0.965556  ], dtype=float32), array([0.6633761 , 0.22977427, 0.7828524 , 0.7734724 ], dtype=float32), array([0.799415 , 0.2556315, 0.9201387, 0.6740613], dtype=float32), array([0.74770653, 0.2367329 , 0.8106524 , 0.59896547], dtype=float32), array([0.9144817 , 0.25904137, 0.9932491 , 0.5593367 ], dtype=float32), array([0.6296275 , 0.23230132, 0.6460245 , 0.30033907], dtype=float32)]\r\n",
      "Number of people in queue = {1: 0, 2: 0}\r\n",
      "Total People in frame = 8\r\n",
      "Total People in frame = [array([0.31605425, 0.25496572, 0.45288935, 0.8599312 ], dtype=float32), array([0.04411192, 0.27122903, 0.22814701, 0.96523213], dtype=float32), array([0.53350884, 0.22030592, 0.67278177, 0.80924237], dtype=float32), array([0.6637086 , 0.23305815, 0.7819908 , 0.77415174], dtype=float32), array([0.7990956 , 0.25574106, 0.92013747, 0.6752519 ], dtype=float32), array([0.74851406, 0.23583305, 0.8107358 , 0.5976402 ], dtype=float32), array([0.9159783 , 0.26265883, 0.9925504 , 0.55879617], dtype=float32), array([0.6292742 , 0.23236822, 0.64551014, 0.3015665 ], dtype=float32)]\r\n",
      "Number of people in queue = {1: 0, 2: 0}\r\n",
      "Total People in frame = 8\r\n",
      "Total People in frame = [array([0.3150918 , 0.25513688, 0.45154452, 0.8604257 ], dtype=float32), array([0.04409713, 0.26999763, 0.22795445, 0.9660877 ], dtype=float32), array([0.5351554 , 0.22090092, 0.6729584 , 0.8098085 ], dtype=float32), array([0.66399246, 0.23366612, 0.7817729 , 0.7721979 ], dtype=float32), array([0.7984771 , 0.25619698, 0.920212  , 0.6753061 ], dtype=float32), array([0.7447547 , 0.23308632, 0.80897796, 0.60158455], dtype=float32), array([0.9159461 , 0.2654335 , 0.99055624, 0.559173  ], dtype=float32), array([0.6296087 , 0.23299015, 0.6457359 , 0.30059838], dtype=float32)]\r\n",
      "Number of people in queue = {1: 0, 2: 0}\r\n",
      "Total People in frame = 9\r\n",
      "Total People in frame = [array([0.3105681 , 0.244207  , 0.44899184, 0.86116755], dtype=float32), array([0.04413419, 0.26947373, 0.22817805, 0.96526426], dtype=float32), array([0.5352031 , 0.21913105, 0.67279565, 0.81174904], dtype=float32), array([0.6646092 , 0.23669925, 0.78176475, 0.7709147 ], dtype=float32), array([0.7984926 , 0.25612998, 0.92042464, 0.6750145 ], dtype=float32), array([0.7441401 , 0.23328842, 0.8083151 , 0.60050464], dtype=float32), array([0.9174532 , 0.27188092, 0.9902075 , 0.5582193 ], dtype=float32), array([0.6292674 , 0.23307785, 0.6453174 , 0.30107287], dtype=float32), array([0.9006528 , 0.25298315, 0.96004325, 0.5330476 ], dtype=float32)]\r\n",
      "Number of people in queue = {1: 0, 2: 0}\r\n",
      "Total People in frame = 8\r\n",
      "Total People in frame = [array([0.31049848, 0.2450923 , 0.44762206, 0.86166155], dtype=float32), array([0.04458222, 0.26948026, 0.22806785, 0.9663329 ], dtype=float32), array([0.53531545, 0.21859396, 0.6727509 , 0.8122227 ], dtype=float32), array([0.6649173, 0.2387616, 0.7804629, 0.7707854], dtype=float32), array([0.79824865, 0.25693572, 0.9207759 , 0.6740865 ], dtype=float32), array([0.74235785, 0.23051889, 0.80659544, 0.6002667 ], dtype=float32), array([0.9005193 , 0.25204593, 0.95936865, 0.5327752 ], dtype=float32), array([0.6297083 , 0.23261914, 0.64593124, 0.3010153 ], dtype=float32)]\r\n",
      "Number of people in queue = {1: 0, 2: 0}\r\n",
      "Total People in frame = 9\r\n",
      "Total People in frame = [array([0.31083834, 0.24514863, 0.4473722 , 0.86209774], dtype=float32), array([0.04401945, 0.26958835, 0.22802089, 0.96714926], dtype=float32), array([0.5345561, 0.2176944, 0.6729662, 0.8133061], dtype=float32), array([0.66512483, 0.24052766, 0.78023535, 0.77110815], dtype=float32), array([0.7979313 , 0.25629038, 0.9210626 , 0.6743069 ], dtype=float32), array([0.74225914, 0.23088342, 0.80629396, 0.5971884 ], dtype=float32), array([0.9012464 , 0.2514255 , 0.95926106, 0.53273535], dtype=float32), array([0.9362263 , 0.19025716, 0.98082906, 0.37351403], dtype=float32), array([0.6292445 , 0.23239093, 0.6453523 , 0.30156693], dtype=float32)]\r\n",
      "Number of people in queue = {1: 0, 2: 0}\r\n",
      "Total People in frame = 9\r\n",
      "Total People in frame = [array([0.31109813, 0.24575633, 0.4471552 , 0.8617807 ], dtype=float32), array([0.0437838 , 0.26914158, 0.22806557, 0.967572  ], dtype=float32), array([0.5342132 , 0.21691164, 0.6729369 , 0.8131119 ], dtype=float32), array([0.66439855, 0.24173853, 0.7797525 , 0.7683791 ], dtype=float32), array([0.79745704, 0.2566005 , 0.9205559 , 0.6729064 ], dtype=float32), array([0.7401534 , 0.23239107, 0.80619603, 0.59849745], dtype=float32), array([0.90150255, 0.25089777, 0.9585183 , 0.5318033 ], dtype=float32), array([0.62970394, 0.23157299, 0.6460312 , 0.30146968], dtype=float32), array([0.9358691 , 0.19013046, 0.9811766 , 0.37256294], dtype=float32)]\r\n",
      "Number of people in queue = {1: 0, 2: 0}\r\n",
      "Total People in frame = 9\r\n",
      "Total People in frame = [array([0.31131673, 0.24479681, 0.44632524, 0.8633521 ], dtype=float32), array([0.04398136, 0.26959047, 0.22793801, 0.96776104], dtype=float32), array([0.53412795, 0.21510857, 0.6737015 , 0.8108745 ], dtype=float32), array([0.66444457, 0.24138966, 0.77938044, 0.76804745], dtype=float32), array([0.7982163 , 0.25653273, 0.92058915, 0.67318213], dtype=float32), array([0.7392559 , 0.23540027, 0.8049121 , 0.59887487], dtype=float32), array([0.90202504, 0.25023502, 0.958106  , 0.5301584 ], dtype=float32), array([0.9360604 , 0.19010681, 0.9810281 , 0.37416685], dtype=float32), array([0.62962407, 0.23081589, 0.6458805 , 0.30159986], dtype=float32)]\r\n",
      "Number of people in queue = {1: 0, 2: 0}\r\n",
      "Total People in frame = 9\r\n",
      "Total People in frame = [array([0.31146902, 0.24447918, 0.44603193, 0.8616718 ], dtype=float32), array([0.0436952 , 0.270111  , 0.22790599, 0.96700716], dtype=float32), array([0.5336327 , 0.21431875, 0.67345697, 0.8088863 ], dtype=float32), array([0.6651669 , 0.23843029, 0.77899843, 0.769209  ], dtype=float32), array([0.79732156, 0.25615978, 0.9203532 , 0.6722037 ], dtype=float32), array([0.74014693, 0.23384778, 0.80477935, 0.59702104], dtype=float32), array([0.90117323, 0.24935597, 0.9577575 , 0.53130037], dtype=float32), array([0.9363599 , 0.19037536, 0.9813006 , 0.37233487], dtype=float32), array([0.6302604 , 0.23130634, 0.64654356, 0.30115393], dtype=float32)]\r\n",
      "Number of people in queue = {1: 0, 2: 0}\r\n",
      "Total People in frame = 9\r\n",
      "Total People in frame = [array([0.31144664, 0.2442055 , 0.44583747, 0.86136425], dtype=float32), array([0.04397314, 0.27019173, 0.22816834, 0.96585363], dtype=float32), array([0.5338709 , 0.21407732, 0.67249876, 0.8086548 ], dtype=float32), array([0.666038  , 0.23762602, 0.77929   , 0.7673958 ], dtype=float32), array([0.7973586 , 0.25573105, 0.9207637 , 0.6734338 ], dtype=float32), array([0.9019076 , 0.24803703, 0.95809144, 0.5303256 ], dtype=float32), array([0.73872143, 0.23638636, 0.80405337, 0.5986949 ], dtype=float32), array([0.9362244 , 0.19040947, 0.98174375, 0.37432986], dtype=float32), array([0.630006  , 0.23129717, 0.64642686, 0.30132332], dtype=float32)]\r\n",
      "Number of people in queue = {1: 0, 2: 0}\r\n",
      "Total People in frame = 9\r\n",
      "Total People in frame = [array([0.31130108, 0.24411482, 0.4460921 , 0.861008  ], dtype=float32), array([0.04426143, 0.26962957, 0.22818634, 0.9656614 ], dtype=float32), array([0.53318244, 0.21462265, 0.6721687 , 0.80866253], dtype=float32), array([0.6659889 , 0.23670235, 0.7794424 , 0.7677151 ], dtype=float32), array([0.7963903 , 0.2552684 , 0.9207064 , 0.67192775], dtype=float32), array([0.9010453 , 0.24836211, 0.95736337, 0.5314181 ], dtype=float32), array([0.73739743, 0.23625235, 0.8030454 , 0.5976208 ], dtype=float32), array([0.93632686, 0.18969956, 0.98118377, 0.37309286], dtype=float32), array([0.6301652 , 0.23148637, 0.6466404 , 0.3015485 ], dtype=float32)]\r\n",
      "Number of people in queue = {1: 0, 2: 0}\r\n",
      "Total People in frame = 9\r\n",
      "Total People in frame = [array([0.31117195, 0.2444889 , 0.44633675, 0.8586692 ], dtype=float32), array([0.04449752, 0.27008107, 0.22796622, 0.9636136 ], dtype=float32), array([0.5332748 , 0.21544558, 0.6720143 , 0.80943125], dtype=float32), array([0.6651034 , 0.23522279, 0.7790263 , 0.76835155], dtype=float32), array([0.79807705, 0.25548875, 0.9204704 , 0.6729436 ], dtype=float32), array([0.9015892 , 0.24993928, 0.95586914, 0.5275791 ], dtype=float32), array([0.737733  , 0.23843394, 0.80344   , 0.597808  ], dtype=float32), array([0.9353964 , 0.18902776, 0.98099655, 0.37534598], dtype=float32), array([0.6301468 , 0.23130602, 0.64643043, 0.30139118], dtype=float32)]\r\n",
      "Number of people in queue = {1: 0, 2: 0}\r\n",
      "Total People in frame = 9\r\n",
      "Total People in frame = [array([0.31107903, 0.24440461, 0.44594538, 0.85851747], dtype=float32), array([0.04401846, 0.2694863 , 0.22796758, 0.9655601 ], dtype=float32), array([0.53287655, 0.21636537, 0.67152935, 0.8102983 ], dtype=float32), array([0.6650653 , 0.23574623, 0.77794087, 0.7686337 ], dtype=float32), array([0.79671353, 0.25511152, 0.9201667 , 0.6717597 ], dtype=float32), array([0.9003811 , 0.25154275, 0.95483136, 0.5277538 ], dtype=float32), array([0.9354352 , 0.18907191, 0.9809152 , 0.3740794 ], dtype=float32), array([0.73581475, 0.23908077, 0.8011829 , 0.6004027 ], dtype=float32), array([0.63038313, 0.23155713, 0.64677   , 0.30116737], dtype=float32)]\r\n",
      "Number of people in queue = {1: 0, 2: 0}\r\n",
      "Total People in frame = 10\r\n",
      "Total People in frame = [array([0.31096077, 0.24410138, 0.44634098, 0.8593521 ], dtype=float32), array([0.04347266, 0.269915  , 0.22784875, 0.96601737], dtype=float32), array([0.5328978 , 0.21639943, 0.67201656, 0.811712  ], dtype=float32), array([0.66539544, 0.23648998, 0.7774723 , 0.76836693], dtype=float32), array([0.79788846, 0.25576764, 0.9201302 , 0.67256856], dtype=float32), array([0.90112185, 0.2534879 , 0.9541333 , 0.5270207 ], dtype=float32), array([0.7199016 , 0.24565183, 0.79342836, 0.640573  ], dtype=float32), array([0.93519604, 0.18899825, 0.981068  , 0.3751162 ], dtype=float32), array([0.63020265, 0.23155203, 0.64641   , 0.3013459 ], dtype=float32), array([0.9548476 , 0.27596405, 0.9986317 , 0.5757766 ], dtype=float32)]\r\n",
      "Number of people in queue = {1: 0, 2: 0}\r\n",
      "Total People in frame = 10\r\n",
      "Total People in frame = [array([0.31102633, 0.24452627, 0.44657135, 0.86016643], dtype=float32), array([0.04379052, 0.26933777, 0.22788155, 0.96662164], dtype=float32), array([0.52989316, 0.21671334, 0.6715981 , 0.81183994], dtype=float32), array([0.66551363, 0.23720804, 0.7773355 , 0.76880145], dtype=float32), array([0.796385  , 0.25552642, 0.9200044 , 0.6717966 ], dtype=float32), array([0.90039855, 0.25328216, 0.95399946, 0.52731454], dtype=float32), array([0.9351266 , 0.18919936, 0.9811104 , 0.37516025], dtype=float32), array([0.72055817, 0.2454418 , 0.79384136, 0.6401562 ], dtype=float32), array([0.6303145 , 0.23157543, 0.6466827 , 0.3013785 ], dtype=float32), array([0.954764  , 0.28000486, 0.99885166, 0.5748579 ], dtype=float32)]\r\n",
      "Number of people in queue = {1: 0, 2: 0}\r\n",
      "Total People in frame = 10\r\n",
      "Total People in frame = [array([0.31104362, 0.24401501, 0.44631416, 0.8626298 ], dtype=float32), array([0.04356125, 0.26970842, 0.22794831, 0.9646659 ], dtype=float32), array([0.5297415 , 0.21610582, 0.67232645, 0.81138945], dtype=float32), array([0.66551447, 0.23654199, 0.77742136, 0.76943207], dtype=float32), array([0.7967719 , 0.25514153, 0.92013824, 0.671839  ], dtype=float32), array([0.90134287, 0.2561818 , 0.95375574, 0.52621424], dtype=float32), array([0.9349554 , 0.18930912, 0.9809907 , 0.37619847], dtype=float32), array([0.7353718 , 0.24490757, 0.80059683, 0.6018391 ], dtype=float32), array([0.6298153 , 0.23152232, 0.64602333, 0.30171448], dtype=float32), array([0.95529604, 0.27993295, 0.9989065 , 0.5740613 ], dtype=float32)]\r\n",
      "Number of people in queue = {1: 0, 2: 0}\r\n",
      "Total People in frame = 10\r\n",
      "Total People in frame = [array([0.311151  , 0.24416867, 0.44622   , 0.8616532 ], dtype=float32), array([0.04316054, 0.27087665, 0.22828719, 0.962757  ], dtype=float32), array([0.5305183 , 0.2162919 , 0.67309546, 0.81102407], dtype=float32), array([0.6650205 , 0.2373636 , 0.77697045, 0.7694745 ], dtype=float32), array([0.79622906, 0.25585625, 0.9199061 , 0.6717098 ], dtype=float32), array([0.9002353 , 0.2555439 , 0.95323396, 0.527347  ], dtype=float32), array([0.9352819 , 0.18925208, 0.9810623 , 0.37536126], dtype=float32), array([0.72092235, 0.24848558, 0.7937565 , 0.638479  ], dtype=float32), array([0.630157  , 0.23142669, 0.6461879 , 0.30133137], dtype=float32), array([0.95487547, 0.27902898, 0.99895644, 0.5739758 ], dtype=float32)]\r\n",
      "Number of people in queue = {1: 0, 2: 0}\r\n",
      "Total People in frame = 10\r\n",
      "Total People in frame = [array([0.3109938 , 0.24327856, 0.4451939 , 0.8615858 ], dtype=float32), array([0.04299226, 0.27091715, 0.22804424, 0.9635923 ], dtype=float32), array([0.53007   , 0.21769536, 0.6746182 , 0.8116636 ], dtype=float32), array([0.6652346 , 0.23856342, 0.7766914 , 0.7679231 ], dtype=float32), array([0.7973365 , 0.25529045, 0.9199274 , 0.67155343], dtype=float32), array([0.901062  , 0.25434142, 0.9539063 , 0.5265527 ], dtype=float32), array([0.7215798 , 0.25121093, 0.79369426, 0.6377995 ], dtype=float32), array([0.93498814, 0.18946241, 0.98108804, 0.3766274 ], dtype=float32), array([0.6297542 , 0.23109537, 0.64576447, 0.30123252], dtype=float32), array([0.9548104, 0.2762158, 0.9986825, 0.5743626], dtype=float32)]\r\n",
      "Number of people in queue = {1: 0, 2: 0}\r\n",
      "Total People in frame = 10\r\n",
      "Total People in frame = [array([0.31107056, 0.24327224, 0.44410843, 0.8639453 ], dtype=float32), array([0.04501862, 0.27045894, 0.22828236, 0.9631585 ], dtype=float32), array([0.52874357, 0.21851465, 0.67544144, 0.8097917 ], dtype=float32), array([0.6648944 , 0.23845145, 0.7765607 , 0.76543677], dtype=float32), array([0.79583937, 0.25534016, 0.9200123 , 0.67094266], dtype=float32), array([0.9007319 , 0.2551687 , 0.95378375, 0.52687943], dtype=float32), array([0.7186044 , 0.251642  , 0.79212815, 0.6446081 ], dtype=float32), array([0.63008857, 0.23140816, 0.6460172 , 0.30043548], dtype=float32), array([0.935105  , 0.18882711, 0.98149806, 0.37528992], dtype=float32), array([0.9552181 , 0.27783364, 0.9989729 , 0.5742473 ], dtype=float32)]\r\n",
      "Number of people in queue = {1: 0, 2: 0}\r\n",
      "Total People in frame = 10\r\n",
      "Total People in frame = [array([0.3110291 , 0.24351293, 0.44441774, 0.8633086 ], dtype=float32), array([0.52793247, 0.21856052, 0.6750867 , 0.81109256], dtype=float32), array([0.04644094, 0.27095786, 0.22840579, 0.9627944 ], dtype=float32), array([0.6661723 , 0.23814157, 0.7770031 , 0.76717186], dtype=float32), array([0.7971206 , 0.25486284, 0.91985106, 0.6716943 ], dtype=float32), array([0.9016329 , 0.25309837, 0.9543271 , 0.52666724], dtype=float32), array([0.719812  , 0.25070047, 0.7928001 , 0.643297  ], dtype=float32), array([0.6294644 , 0.2309469 , 0.64525867, 0.3007248 ], dtype=float32), array([0.95636225, 0.27820027, 0.9992535 , 0.57488376], dtype=float32), array([0.93530214, 0.18909344, 0.9815184 , 0.375905  ], dtype=float32)]\r\n",
      "Number of people in queue = {1: 0, 2: 0}\r\n",
      "Total People in frame = 9\r\n",
      "Total People in frame = [array([0.31118298, 0.24510163, 0.44480336, 0.8645261 ], dtype=float32), array([0.52771306, 0.21886614, 0.67420053, 0.8118104 ], dtype=float32), array([0.04797113, 0.26803577, 0.22804138, 0.96577406], dtype=float32), array([0.66682535, 0.23684317, 0.777276  , 0.76635855], dtype=float32), array([0.7957702 , 0.25534195, 0.9201856 , 0.6716097 ], dtype=float32), array([0.90179485, 0.2519219 , 0.95506865, 0.5281323 ], dtype=float32), array([0.63005024, 0.23129258, 0.64599043, 0.30016258], dtype=float32), array([0.71782815, 0.25026208, 0.79286253, 0.6498887 ], dtype=float32), array([0.95644176, 0.2797209 , 0.9993522 , 0.57711995], dtype=float32)]\r\n",
      "Number of people in queue = {1: 0, 2: 0}\r\n",
      "Total People in frame = 9\r\n",
      "Total People in frame = [array([0.31140435, 0.24546966, 0.44527602, 0.8616203 ], dtype=float32), array([0.526915  , 0.21942556, 0.67327553, 0.8122096 ], dtype=float32), array([0.0490012 , 0.267622  , 0.22712697, 0.9662787 ], dtype=float32), array([0.66718197, 0.23539275, 0.77617025, 0.76601905], dtype=float32), array([0.7954724 , 0.25530517, 0.9200946 , 0.67175394], dtype=float32), array([0.90111154, 0.252152  , 0.95471054, 0.5282744 ], dtype=float32), array([0.71851575, 0.24862672, 0.7930398 , 0.6506718 ], dtype=float32), array([0.6302075 , 0.23102266, 0.6464066 , 0.30053574], dtype=float32), array([0.9558961 , 0.27958304, 0.9991713 , 0.57516205], dtype=float32)]\r\n",
      "Number of people in queue = {1: 0, 2: 0}\r\n",
      "Total People in frame = 8\r\n",
      "Total People in frame = [array([0.31148332, 0.24551335, 0.44522345, 0.86169887], dtype=float32), array([0.5257833 , 0.22031644, 0.6730161 , 0.81105626], dtype=float32), array([0.05020919, 0.26723686, 0.22302368, 0.9559556 ], dtype=float32), array([0.6673863 , 0.23386616, 0.7763102 , 0.7649859 ], dtype=float32), array([0.7954542 , 0.25577748, 0.92052954, 0.6724111 ], dtype=float32), array([0.90075576, 0.2557402 , 0.9545618 , 0.5307083 ], dtype=float32), array([0.6301017 , 0.23195006, 0.645923  , 0.2998479 ], dtype=float32), array([0.7183866 , 0.24706694, 0.7933124 , 0.65306175], dtype=float32)]\r\n",
      "Number of people in queue = {1: 0, 2: 0}\r\n",
      "Total People in frame = 8\r\n",
      "Total People in frame = [array([0.31132805, 0.24630249, 0.44579196, 0.8615006 ], dtype=float32), array([0.5263882 , 0.21979949, 0.67379767, 0.808321  ], dtype=float32), array([0.05186912, 0.26825598, 0.222729  , 0.9549701 ], dtype=float32), array([0.6674012 , 0.23378271, 0.776237  , 0.7658055 ], dtype=float32), array([0.7965711 , 0.25575835, 0.9206528 , 0.6713379 ], dtype=float32), array([0.9006489 , 0.25682276, 0.9546135 , 0.5313137 ], dtype=float32), array([0.71768975, 0.24680638, 0.79292345, 0.6555916 ], dtype=float32), array([0.6301601 , 0.23167695, 0.6460167 , 0.30022103], dtype=float32)]\r\n",
      "Number of people in queue = {1: 0, 2: 0}\r\n",
      "Total People in frame = 8\r\n",
      "Total People in frame = [array([0.31111917, 0.24557278, 0.44662943, 0.86108816], dtype=float32), array([0.52573085, 0.21965846, 0.6741545 , 0.80813146], dtype=float32), array([0.05325957, 0.26820108, 0.22232386, 0.9554367 ], dtype=float32), array([0.66776735, 0.23504123, 0.7753121 , 0.7651949 ], dtype=float32), array([0.7962433 , 0.25538903, 0.92045236, 0.6724049 ], dtype=float32), array([0.71719414, 0.24726397, 0.79222447, 0.6529477 ], dtype=float32), array([0.6301694 , 0.23190647, 0.6460018 , 0.3002324 ], dtype=float32), array([0.9004751 , 0.25837213, 0.95459324, 0.53231555], dtype=float32)]\r\n",
      "Number of people in queue = {1: 0, 2: 0}\r\n",
      "Total People in frame = 7\r\n",
      "Total People in frame = [array([0.3111555 , 0.24497375, 0.4462121 , 0.86179006], dtype=float32), array([0.52696705, 0.219993  , 0.6734588 , 0.80786777], dtype=float32), array([0.05425481, 0.26842996, 0.22214144, 0.95538354], dtype=float32), array([0.6678344 , 0.23475808, 0.77501714, 0.76583046], dtype=float32), array([0.7964446 , 0.25562903, 0.9204282 , 0.67244947], dtype=float32), array([0.7387758 , 0.24196987, 0.8027349 , 0.6051689 ], dtype=float32), array([0.6303132 , 0.2317265 , 0.6462323 , 0.30033264], dtype=float32)]\r\n",
      "Number of people in queue = {1: 0, 2: 0}\r\n",
      "Total People in frame = 8\r\n",
      "Total People in frame = [array([0.3113069 , 0.24391258, 0.44703406, 0.86242497], dtype=float32), array([0.5263952 , 0.22003734, 0.6736369 , 0.808395  ], dtype=float32), array([0.05522281, 0.2691804 , 0.22221372, 0.95579064], dtype=float32), array([0.6667187 , 0.23451519, 0.7747711 , 0.7649669 ], dtype=float32), array([0.7964366 , 0.25591877, 0.9204094 , 0.67247915], dtype=float32), array([0.7389786 , 0.23993911, 0.8031857 , 0.6043468 ], dtype=float32), array([0.8995311 , 0.25555688, 0.953653  , 0.53279984], dtype=float32), array([0.63022834, 0.23167759, 0.64629656, 0.30020446], dtype=float32)]\r\n",
      "Number of people in queue = {1: 0, 2: 0}\r\n",
      "Total People in frame = 7\r\n",
      "Total People in frame = [array([0.5276609 , 0.22030026, 0.6726323 , 0.80824906], dtype=float32), array([0.3119602 , 0.242742  , 0.44678393, 0.86260194], dtype=float32), array([0.05518569, 0.26919785, 0.22225367, 0.9554417 ], dtype=float32), array([0.6668434 , 0.23439008, 0.77526426, 0.7660379 ], dtype=float32), array([0.79672873, 0.25587064, 0.9203857 , 0.6730112 ], dtype=float32), array([0.74056494, 0.23764698, 0.80458236, 0.60459685], dtype=float32), array([0.63012195, 0.23169228, 0.6462674 , 0.3002399 ], dtype=float32)]\r\n",
      "Number of people in queue = {1: 0, 2: 0}\r\n",
      "Total People in frame = 7\r\n",
      "Total People in frame = [array([0.5285519 , 0.22057262, 0.67272764, 0.80787754], dtype=float32), array([0.3119371 , 0.24116117, 0.4475487 , 0.8636499 ], dtype=float32), array([0.05409814, 0.26915008, 0.22200948, 0.9538278 ], dtype=float32), array([0.66642064, 0.23500016, 0.77486414, 0.7653147 ], dtype=float32), array([0.7966114 , 0.25566584, 0.9203118 , 0.6734318 ], dtype=float32), array([0.742552  , 0.23685314, 0.8067815 , 0.60359204], dtype=float32), array([0.63009167, 0.23169704, 0.64617455, 0.30028802], dtype=float32)]\r\n",
      "Number of people in queue = {1: 0, 2: 0}\r\n",
      "Total People in frame = 6\r\n",
      "Total People in frame = [array([0.52960885, 0.22088122, 0.67241263, 0.8076918 ], dtype=float32), array([0.3119712 , 0.24056163, 0.4466877 , 0.86329794], dtype=float32), array([0.05348533, 0.26928458, 0.22168383, 0.9526148 ], dtype=float32), array([0.6668554 , 0.23651698, 0.7746878 , 0.7621536 ], dtype=float32), array([0.796657  , 0.25595436, 0.92049056, 0.67233634], dtype=float32), array([0.7439364 , 0.23413019, 0.80848   , 0.60282123], dtype=float32)]\r\n",
      "Number of people in queue = {1: 0, 2: 0}\r\n",
      "Total People in frame = 7\r\n",
      "Total People in frame = [array([0.53062624, 0.22120985, 0.6715749 , 0.809366  ], dtype=float32), array([0.3116142 , 0.23876911, 0.44684622, 0.8639868 ], dtype=float32), array([0.05215914, 0.26870444, 0.22175035, 0.9523928 ], dtype=float32), array([0.6669973 , 0.23640153, 0.77501106, 0.76155186], dtype=float32), array([0.79656357, 0.25512874, 0.9204641 , 0.6737718 ], dtype=float32), array([0.74572086, 0.23196073, 0.8104961 , 0.6026869 ], dtype=float32), array([0.90008354, 0.25766587, 0.95317864, 0.53166425], dtype=float32)]\r\n",
      "Number of people in queue = {1: 0, 2: 0}\r\n",
      "Total People in frame = 6\r\n",
      "Total People in frame = [array([0.31079927, 0.23820952, 0.4463561 , 0.863606  ], dtype=float32), array([0.5316557 , 0.22112122, 0.6711665 , 0.8096789 ], dtype=float32), array([0.05176131, 0.26689896, 0.22158132, 0.9508934 ], dtype=float32), array([0.66634893, 0.23770463, 0.7749804 , 0.760719  ], dtype=float32), array([0.79640025, 0.25570637, 0.92099255, 0.6742656 ], dtype=float32), array([0.7453312 , 0.23063971, 0.8112919 , 0.6030934 ], dtype=float32)]\r\n",
      "Number of people in queue = {1: 0, 2: 0}\r\n",
      "Total People in frame = 6\r\n",
      "Total People in frame = [array([0.31141633, 0.23812586, 0.44601214, 0.8660435 ], dtype=float32), array([0.53352296, 0.22079402, 0.67072105, 0.8103476 ], dtype=float32), array([0.05105523, 0.26612014, 0.22147593, 0.95106226], dtype=float32), array([0.6658907 , 0.23773286, 0.7753248 , 0.7614038 ], dtype=float32), array([0.7967043 , 0.25541747, 0.9210421 , 0.67306155], dtype=float32), array([0.74543643, 0.22983542, 0.81087434, 0.6008117 ], dtype=float32)]\r\n",
      "Number of people in queue = {1: 0, 2: 0}\r\n",
      "Total People in frame = 6\r\n",
      "Total People in frame = [array([0.31137788, 0.23852679, 0.44618452, 0.8626944 ], dtype=float32), array([0.05125468, 0.2670578 , 0.22137174, 0.9508188 ], dtype=float32), array([0.53426504, 0.222157  , 0.67110837, 0.8102068 ], dtype=float32), array([0.66550636, 0.23596784, 0.77564216, 0.7633376 ], dtype=float32), array([0.794855  , 0.25598592, 0.92129254, 0.67481977], dtype=float32), array([0.744784  , 0.23004138, 0.809556  , 0.5965705 ], dtype=float32)]\r\n",
      "Number of people in queue = {1: 0, 2: 0}\r\n",
      "Total People in frame = 6\r\n",
      "Total People in frame = [array([0.31131577, 0.23817149, 0.44551992, 0.86297333], dtype=float32), array([0.05044131, 0.26805863, 0.22130005, 0.95018697], dtype=float32), array([0.53446615, 0.22124705, 0.6715416 , 0.8088442 ], dtype=float32), array([0.66607267, 0.23628458, 0.77524954, 0.7625221 ], dtype=float32), array([0.79447156, 0.2560296 , 0.9211994 , 0.6751075 ], dtype=float32), array([0.74519825, 0.23054856, 0.81046903, 0.5958288 ], dtype=float32)]\r\n",
      "Number of people in queue = {1: 0, 2: 0}\r\n",
      "Total People in frame = 6\r\n",
      "Total People in frame = [array([0.53602916, 0.22165439, 0.6718169 , 0.8084438 ], dtype=float32), array([0.04928079, 0.26758516, 0.22143656, 0.94964087], dtype=float32), array([0.3117039 , 0.23843363, 0.4443905 , 0.86351466], dtype=float32), array([0.66533893, 0.23658368, 0.77587456, 0.7631594 ], dtype=float32), array([0.79657996, 0.25637913, 0.92080545, 0.6765106 ], dtype=float32), array([0.74719316, 0.23094663, 0.8134157 , 0.5983138 ], dtype=float32)]\r\n",
      "Number of people in queue = {1: 0, 2: 0}\r\n",
      "Total People in frame = 6\r\n",
      "Total People in frame = [array([0.32690948, 0.25159097, 0.447313  , 0.8590883 ], dtype=float32), array([0.53301495, 0.22188726, 0.67182416, 0.807987  ], dtype=float32), array([0.04924679, 0.26706246, 0.2215482 , 0.95009434], dtype=float32), array([0.66683084, 0.23606652, 0.77625877, 0.76400393], dtype=float32), array([0.7967228 , 0.25889814, 0.920757  , 0.6770472 ], dtype=float32), array([0.7475838 , 0.23149477, 0.81288606, 0.5987788 ], dtype=float32)]\r\n",
      "Number of people in queue = {1: 0, 2: 0}\r\n",
      "Total People in frame = 6\r\n",
      "Total People in frame = [array([0.05044581, 0.26698238, 0.2218479 , 0.95146865], dtype=float32), array([0.5256349, 0.2250016, 0.6728656, 0.80715  ], dtype=float32), array([0.32887164, 0.25246826, 0.44596782, 0.859406  ], dtype=float32), array([0.6667472 , 0.23515144, 0.77640843, 0.7652571 ], dtype=float32), array([0.7939372 , 0.25817013, 0.9211503 , 0.67767334], dtype=float32), array([0.74708104, 0.23020948, 0.81287134, 0.5983822 ], dtype=float32)]\r\n",
      "Number of people in queue = {1: 0, 2: 0}\r\n",
      "Total People in frame = 6\r\n",
      "Total People in frame = [array([0.05027932, 0.26591575, 0.22178221, 0.95065093], dtype=float32), array([0.32936758, 0.25312376, 0.44521034, 0.86246264], dtype=float32), array([0.52866524, 0.2256054 , 0.67172915, 0.80769575], dtype=float32), array([0.66730154, 0.23566678, 0.7763827 , 0.7641355 ], dtype=float32), array([0.7471373 , 0.23142314, 0.81522846, 0.6005264 ], dtype=float32), array([0.7919737 , 0.2579921 , 0.92178404, 0.67905694], dtype=float32)]\r\n",
      "Number of people in queue = {1: 0, 2: 0}\r\n",
      "Total People in frame = 6\r\n",
      "Total People in frame = [array([0.32908067, 0.25286704, 0.44501302, 0.8629779 ], dtype=float32), array([0.04930441, 0.26592562, 0.22193111, 0.9512229 ], dtype=float32), array([0.53359526, 0.22678232, 0.6712498 , 0.80679154], dtype=float32), array([0.6669941 , 0.23636091, 0.77649796, 0.76368105], dtype=float32), array([0.74673045, 0.23281011, 0.8160522 , 0.601843  ], dtype=float32), array([0.7904038, 0.2569425, 0.9230768, 0.6791958], dtype=float32)]\r\n",
      "Number of people in queue = {1: 0, 2: 0}\r\n",
      "Total People in frame = 6\r\n",
      "Total People in frame = [array([0.32890078, 0.25276908, 0.44521472, 0.8641318 ], dtype=float32), array([0.04832084, 0.26585242, 0.22220711, 0.950212  ], dtype=float32), array([0.53193533, 0.22690815, 0.6720158 , 0.8051904 ], dtype=float32), array([0.66637   , 0.2376239 , 0.77642757, 0.76332724], dtype=float32), array([0.74656683, 0.23435503, 0.81641823, 0.6023252 ], dtype=float32), array([0.7887681 , 0.25540972, 0.9237662 , 0.67934227], dtype=float32)]\r\n",
      "Number of people in queue = {1: 0, 2: 0}\r\n",
      "Total People in frame = 6\r\n",
      "Total People in frame = [array([0.3284334 , 0.2513536 , 0.44605756, 0.86304677], dtype=float32), array([0.04699752, 0.26912042, 0.22733676, 0.96444   ], dtype=float32), array([0.5326059 , 0.22698563, 0.67175174, 0.8057192 ], dtype=float32), array([0.6660843 , 0.23897102, 0.7765267 , 0.7633184 ], dtype=float32), array([0.7471394 , 0.23402499, 0.81690866, 0.60212415], dtype=float32), array([0.7886462 , 0.25454462, 0.9240725 , 0.6810597 ], dtype=float32)]\r\n",
      "Number of people in queue = {1: 0, 2: 0}\r\n",
      "Total People in frame = 6\r\n",
      "Total People in frame = [array([0.3285299 , 0.25062138, 0.44670182, 0.86046344], dtype=float32), array([0.04367815, 0.27094507, 0.22775982, 0.9648243 ], dtype=float32), array([0.53071666, 0.22581702, 0.6720797 , 0.80564946], dtype=float32), array([0.6670136 , 0.23784906, 0.7770185 , 0.76351184], dtype=float32), array([0.74699366, 0.23357216, 0.81659794, 0.60238624], dtype=float32), array([0.7894012 , 0.25489116, 0.9240651 , 0.6793931 ], dtype=float32)]\r\n",
      "Number of people in queue = {1: 0, 2: 0}\r\n",
      "Total People in frame = 7\r\n",
      "Total People in frame = [array([0.04332688, 0.27040893, 0.22803542, 0.96507066], dtype=float32), array([0.32919294, 0.25078416, 0.44681746, 0.861204  ], dtype=float32), array([0.52933085, 0.22444037, 0.6724192 , 0.80464125], dtype=float32), array([0.66658854, 0.2384297 , 0.77771056, 0.7637119 ], dtype=float32), array([0.74582446, 0.23451523, 0.8168839 , 0.60294044], dtype=float32), array([0.7897003 , 0.2544692 , 0.92421454, 0.67978513], dtype=float32), array([0.90150434, 0.25051373, 0.96032137, 0.5354287 ], dtype=float32)]\r\n",
      "Number of people in queue = {1: 0, 2: 0}\r\n",
      "Total People in frame = 7\r\n",
      "Total People in frame = [array([0.04331695, 0.2704494 , 0.2281338 , 0.96441793], dtype=float32), array([0.33032298, 0.24970865, 0.4471466 , 0.865041  ], dtype=float32), array([0.52746576, 0.22573864, 0.67139333, 0.80548215], dtype=float32), array([0.6661609 , 0.23810938, 0.77806777, 0.76344204], dtype=float32), array([0.74486256, 0.23478392, 0.81624067, 0.60286427], dtype=float32), array([0.79141843, 0.2550463 , 0.9235232 , 0.6784942 ], dtype=float32), array([0.9019802 , 0.24972583, 0.96033746, 0.5346989 ], dtype=float32)]\r\n",
      "Number of people in queue = {1: 0, 2: 0}\r\n",
      "Total People in frame = 7\r\n",
      "Total People in frame = [array([0.3279689 , 0.25059113, 0.44752777, 0.8627838 ], dtype=float32), array([0.04477715, 0.26994047, 0.22758865, 0.9662292 ], dtype=float32), array([0.5310966 , 0.22549295, 0.6716106 , 0.80362725], dtype=float32), array([0.66613847, 0.23734483, 0.7771259 , 0.7637967 ], dtype=float32), array([0.74330246, 0.23559235, 0.8144032 , 0.60181713], dtype=float32), array([0.79254603, 0.2547669 , 0.92331004, 0.6758473 ], dtype=float32), array([0.9029731 , 0.24955001, 0.96033794, 0.53363705], dtype=float32)]\r\n",
      "Number of people in queue = {1: 0, 2: 0}\r\n",
      "Total People in frame = 7\r\n",
      "Total People in frame = [array([0.31207043, 0.23640344, 0.4443485 , 0.8677695 ], dtype=float32), array([0.04523751, 0.26772544, 0.22739545, 0.96534073], dtype=float32), array([0.5307062 , 0.22728786, 0.67113286, 0.8026383 ], dtype=float32), array([0.6663043 , 0.23592204, 0.7776955 , 0.76381207], dtype=float32), array([0.74426895, 0.23608181, 0.8152922 , 0.6026434 ], dtype=float32), array([0.7910015 , 0.25442743, 0.9233125 , 0.6758941 ], dtype=float32), array([0.9039261 , 0.24724407, 0.9601061 , 0.5309271 ], dtype=float32)]\r\n",
      "Number of people in queue = {1: 0, 2: 0}\r\n",
      "Total People in frame = 7\r\n",
      "Total People in frame = [array([0.30984938, 0.23802698, 0.4445685 , 0.86547744], dtype=float32), array([0.04570057, 0.267976  , 0.2273159 , 0.96558756], dtype=float32), array([0.5367453 , 0.22610739, 0.67076206, 0.8021288 ], dtype=float32), array([0.666373  , 0.23657742, 0.7782887 , 0.76423585], dtype=float32), array([0.7435021 , 0.23544507, 0.8146966 , 0.60055053], dtype=float32), array([0.78725636, 0.25512242, 0.9235345 , 0.6782457 ], dtype=float32), array([0.90409344, 0.24595754, 0.9601076 , 0.530358  ], dtype=float32)]\r\n",
      "Number of people in queue = {1: 0, 2: 0}\r\n",
      "Total People in frame = 7\r\n",
      "Total People in frame = [array([0.30845505, 0.23798177, 0.44432086, 0.86524665], dtype=float32), array([0.04636265, 0.26826552, 0.22719893, 0.96558106], dtype=float32), array([0.537928  , 0.22881421, 0.67197883, 0.80495393], dtype=float32), array([0.66580933, 0.23585486, 0.7784657 , 0.7646625 ], dtype=float32), array([0.7442653, 0.2353024, 0.8150847, 0.6003403], dtype=float32), array([0.78755575, 0.25479043, 0.9233946 , 0.6785723 ], dtype=float32), array([0.9039615, 0.2460692, 0.9584654, 0.5251422], dtype=float32)]\r\n",
      "Number of people in queue = {1: 0, 2: 0}\r\n",
      "Total People in frame = 7\r\n",
      "Total People in frame = [array([0.308302  , 0.23809737, 0.44321972, 0.863947  ], dtype=float32), array([0.04637218, 0.26850066, 0.22746572, 0.96547294], dtype=float32), array([0.5375117 , 0.22946921, 0.6720698 , 0.80529845], dtype=float32), array([0.6657801 , 0.23551989, 0.7776429 , 0.76356274], dtype=float32), array([0.7442809 , 0.23568663, 0.81479996, 0.6013638 ], dtype=float32), array([0.788591 , 0.2545233, 0.9229256, 0.6780791], dtype=float32), array([0.9041342 , 0.2463627 , 0.95775837, 0.5229025 ], dtype=float32)]\r\n",
      "Number of people in queue = {1: 0, 2: 0}\r\n",
      "Total People in frame = 7\r\n",
      "Total People in frame = [array([0.30864668, 0.23768789, 0.44301313, 0.8637056 ], dtype=float32), array([0.04661182, 0.2673165 , 0.22741872, 0.9651208 ], dtype=float32), array([0.53598523, 0.22999662, 0.6721283 , 0.8068369 ], dtype=float32), array([0.66575074, 0.23448911, 0.7773776 , 0.7639239 ], dtype=float32), array([0.7436191 , 0.23642491, 0.8145194 , 0.60317034], dtype=float32), array([0.7890883 , 0.25487676, 0.9224419 , 0.6778294 ], dtype=float32), array([0.9042369 , 0.24592659, 0.95722306, 0.5246675 ], dtype=float32)]\r\n",
      "Number of people in queue = {1: 0, 2: 0}\r\n",
      "Total People in frame = 7\r\n",
      "Total People in frame = [array([0.3091328 , 0.2384083 , 0.44200498, 0.86358035], dtype=float32), array([0.04651699, 0.2678666 , 0.22752967, 0.9647865 ], dtype=float32), array([0.5366424 , 0.22906691, 0.67239314, 0.80639833], dtype=float32), array([0.665392  , 0.2342585 , 0.776964  , 0.76360476], dtype=float32), array([0.7920827 , 0.25380558, 0.9224288 , 0.6777314 ], dtype=float32), array([0.74361473, 0.23657565, 0.81441444, 0.60254616], dtype=float32), array([0.9038644 , 0.24685386, 0.95736015, 0.526206  ], dtype=float32)]\r\n",
      "Number of people in queue = {1: 0, 2: 0}\r\n",
      "Total People in frame = 7\r\n",
      "Total People in frame = [array([0.30966806, 0.23868331, 0.44151288, 0.8655288 ], dtype=float32), array([0.04671983, 0.26792455, 0.22749804, 0.96524346], dtype=float32), array([0.53671855, 0.22788432, 0.67288584, 0.8054322 ], dtype=float32), array([0.6658635 , 0.23315752, 0.77591074, 0.76410174], dtype=float32), array([0.7929812 , 0.25439966, 0.9230991 , 0.67848355], dtype=float32), array([0.74481505, 0.23711158, 0.81324893, 0.60003626], dtype=float32), array([0.90408856, 0.24918789, 0.9574658 , 0.5251279 ], dtype=float32)]\r\n",
      "Number of people in queue = {1: 0, 2: 0}\r\n",
      "Total People in frame = 7\r\n",
      "Total People in frame = [array([0.30963418, 0.23884028, 0.44109502, 0.8642897 ], dtype=float32), array([0.04694892, 0.2680518 , 0.22754744, 0.9638372 ], dtype=float32), array([0.5376359 , 0.2277295 , 0.67312014, 0.80553573], dtype=float32), array([0.6658462, 0.2336269, 0.7755573, 0.7648372], dtype=float32), array([0.7957042 , 0.25510338, 0.9219821 , 0.6777115 ], dtype=float32), array([0.74499166, 0.23713097, 0.81109154, 0.5960505 ], dtype=float32), array([0.9043126 , 0.24818073, 0.95775163, 0.5245513 ], dtype=float32)]\r\n",
      "Number of people in queue = {1: 0, 2: 0}\r\n",
      "Total People in frame = 7\r\n",
      "Total People in frame = [array([0.3098976 , 0.23907715, 0.4402309 , 0.8643264 ], dtype=float32), array([0.04725402, 0.26822147, 0.22734025, 0.96659493], dtype=float32), array([0.66568166, 0.2339111 , 0.7753301 , 0.76534534], dtype=float32), array([0.5381119 , 0.22709188, 0.6730453 , 0.8041047 ], dtype=float32), array([0.7965035 , 0.25622708, 0.9214788 , 0.67641366], dtype=float32), array([0.7452812 , 0.23726827, 0.8099916 , 0.5952735 ], dtype=float32), array([0.9048439 , 0.24730673, 0.9570743 , 0.52587676], dtype=float32)]\r\n",
      "Number of people in queue = {1: 0, 2: 0}\r\n",
      "Total People in frame = 7\r\n",
      "Total People in frame = [array([0.31005886, 0.23924524, 0.4404253 , 0.8645446 ], dtype=float32), array([0.0475041 , 0.26829755, 0.22721758, 0.9661888 ], dtype=float32), array([0.6654917 , 0.23371536, 0.77548873, 0.76625615], dtype=float32), array([0.5394195 , 0.22789124, 0.672682  , 0.80513537], dtype=float32), array([0.7963918 , 0.2560002 , 0.9219591 , 0.67558324], dtype=float32), array([0.7431345 , 0.23718834, 0.8076973 , 0.59372306], dtype=float32), array([0.9049003 , 0.24700476, 0.9572445 , 0.525847  ], dtype=float32)]\r\n",
      "Number of people in queue = {1: 0, 2: 0}\r\n",
      "Total People in frame = 7\r\n",
      "Total People in frame = [array([0.31024975, 0.23854437, 0.44075632, 0.8652445 ], dtype=float32), array([0.04722242, 0.2690057 , 0.22721417, 0.96546376], dtype=float32), array([0.66556644, 0.23391378, 0.77513885, 0.76524645], dtype=float32), array([0.54034656, 0.22750321, 0.67252046, 0.8063425 ], dtype=float32), array([0.79514   , 0.25604558, 0.9226992 , 0.67583096], dtype=float32), array([0.74273014, 0.23745221, 0.8076333 , 0.5938286 ], dtype=float32), array([0.9042412 , 0.24707188, 0.9568194 , 0.52551365], dtype=float32)]\r\n",
      "Number of people in queue = {1: 0, 2: 0}\r\n",
      "Total People in frame = 7\r\n",
      "Total People in frame = [array([0.30964398, 0.23772699, 0.44116753, 0.8651126 ], dtype=float32), array([0.04749858, 0.2693109 , 0.22726378, 0.96550184], dtype=float32), array([0.66568595, 0.23359653, 0.7757625 , 0.76593626], dtype=float32), array([0.54301643, 0.22712702, 0.6726345 , 0.80560046], dtype=float32), array([0.7938699 , 0.25553155, 0.9224517 , 0.67593944], dtype=float32), array([0.74298906, 0.23567954, 0.8078761 , 0.5918603 ], dtype=float32), array([0.9044115, 0.2511217, 0.9569195, 0.5263203], dtype=float32)]\r\n",
      "Number of people in queue = {1: 0, 2: 0}\r\n",
      "Total People in frame = 7\r\n",
      "Total People in frame = [array([0.30924374, 0.23696375, 0.4413302 , 0.8650352 ], dtype=float32), array([0.04735089, 0.2695659 , 0.22744182, 0.96427786], dtype=float32), array([0.6661908 , 0.23434964, 0.77615815, 0.76724625], dtype=float32), array([0.5417015 , 0.22465304, 0.6722595 , 0.8047602 ], dtype=float32), array([0.7944857 , 0.25605148, 0.9221592 , 0.6745849 ], dtype=float32), array([0.74270993, 0.23623216, 0.8076474 , 0.5915733 ], dtype=float32), array([0.9043591 , 0.2511143 , 0.9571929 , 0.52852744], dtype=float32)]\r\n",
      "Number of people in queue = {1: 0, 2: 0}\r\n",
      "Total People in frame = 7\r\n",
      "Total People in frame = [array([0.30873835, 0.2370843 , 0.4415906 , 0.8640567 ], dtype=float32), array([0.04745777, 0.26875442, 0.22736336, 0.96484107], dtype=float32), array([0.6660832 , 0.23379776, 0.77653015, 0.7672223 ], dtype=float32), array([0.54198694, 0.22348547, 0.6717323 , 0.80467796], dtype=float32), array([0.7948826 , 0.25624073, 0.9225076 , 0.67502713], dtype=float32), array([0.7432516 , 0.23776993, 0.8081196 , 0.5916493 ], dtype=float32), array([0.90342987, 0.2488834 , 0.9584255 , 0.53026426], dtype=float32)]\r\n",
      "Number of people in queue = {1: 0, 2: 0}\r\n",
      "Total People in frame = 7\r\n",
      "Total People in frame = [array([0.30854088, 0.23685998, 0.44270355, 0.8650802 ], dtype=float32), array([0.04752888, 0.26897734, 0.22740613, 0.96488243], dtype=float32), array([0.5414307 , 0.22317174, 0.6722778 , 0.80483985], dtype=float32), array([0.6661758 , 0.23438269, 0.77654845, 0.76685625], dtype=float32), array([0.79503447, 0.25650963, 0.9222645 , 0.6748036 ], dtype=float32), array([0.7429904 , 0.23902835, 0.8081459 , 0.5922953 ], dtype=float32), array([0.90367484, 0.25039434, 0.9582015 , 0.5289427 ], dtype=float32)]\r\n",
      "Number of people in queue = {1: 0, 2: 0}\r\n",
      "Total People in frame = 7\r\n",
      "Total People in frame = [array([0.3081772 , 0.23736879, 0.44293383, 0.86606526], dtype=float32), array([0.04765207, 0.26946542, 0.22728509, 0.9649643 ], dtype=float32), array([0.66695094, 0.23541903, 0.7764503 , 0.7664275 ], dtype=float32), array([0.54221505, 0.22138652, 0.6726472 , 0.8034617 ], dtype=float32), array([0.79540527, 0.25632593, 0.9228033 , 0.67463875], dtype=float32), array([0.743201  , 0.23914672, 0.8086437 , 0.5923898 ], dtype=float32), array([0.90212965, 0.24866246, 0.96192324, 0.53793985], dtype=float32)]\r\n",
      "Number of people in queue = {1: 0, 2: 0}\r\n",
      "Total People in frame = 7\r\n",
      "Total People in frame = [array([0.30783236, 0.2376262 , 0.44256586, 0.865435  ], dtype=float32), array([0.04744934, 0.26865909, 0.22757985, 0.9650178 ], dtype=float32), array([0.66740304, 0.23549065, 0.77605003, 0.76550806], dtype=float32), array([0.54134643, 0.22065383, 0.67195284, 0.80324596], dtype=float32), array([0.7953998 , 0.2564939 , 0.92214847, 0.67481923], dtype=float32), array([0.74276984, 0.24112022, 0.80832756, 0.5929148 ], dtype=float32), array([0.90254056, 0.24584235, 0.96033776, 0.5330278 ], dtype=float32)]\r\n",
      "Number of people in queue = {1: 0, 2: 0}\r\n",
      "Total People in frame = 7\r\n",
      "Total People in frame = [array([0.30772883, 0.23812121, 0.44300056, 0.8644666 ], dtype=float32), array([0.04761445, 0.26880115, 0.22734973, 0.9652737 ], dtype=float32), array([0.6679024 , 0.23630229, 0.7764389 , 0.7641705 ], dtype=float32), array([0.53928995, 0.21855763, 0.6722524 , 0.80354726], dtype=float32), array([0.7953868 , 0.25628123, 0.9221693 , 0.674345  ], dtype=float32), array([0.743708  , 0.2413097 , 0.80997336, 0.5936959 ], dtype=float32), array([0.90157485, 0.24472946, 0.9602214 , 0.5322007 ], dtype=float32)]\r\n",
      "Number of people in queue = {1: 0, 2: 0}\r\n",
      "Total People in frame = 7\r\n",
      "Total People in frame = [array([0.30771172, 0.23802105, 0.4433307 , 0.8650211 ], dtype=float32), array([0.04754563, 0.2687824 , 0.22731881, 0.9655864 ], dtype=float32), array([0.53719264, 0.21701252, 0.6725345 , 0.8034438 ], dtype=float32), array([0.6680865 , 0.23599517, 0.7761041 , 0.7635758 ], dtype=float32), array([0.79559004, 0.25578612, 0.9221393 , 0.6745447 ], dtype=float32), array([0.7435652 , 0.24206558, 0.80959415, 0.59499013], dtype=float32), array([0.9014801 , 0.24454221, 0.95952094, 0.53186905], dtype=float32)]\r\n",
      "Number of people in queue = {1: 0, 2: 0}\r\n",
      "Total People in frame = 8\r\n",
      "Total People in frame = [array([0.3079617 , 0.23728812, 0.44283962, 0.8667612 ], dtype=float32), array([0.0476471 , 0.26859206, 0.22692822, 0.9659237 ], dtype=float32), array([0.5355714 , 0.21684453, 0.6723811 , 0.80381227], dtype=float32), array([0.6679196 , 0.23624754, 0.7759574 , 0.76426494], dtype=float32), array([0.79561055, 0.25652748, 0.9219339 , 0.6747808 ], dtype=float32), array([0.7430942, 0.2431395, 0.8086771, 0.5948828], dtype=float32), array([0.9011178 , 0.24617136, 0.9596596 , 0.52973557], dtype=float32), array([0.9174339 , 0.26917243, 0.9907988 , 0.55760443], dtype=float32)]\r\n",
      "Number of people in queue = {1: 0, 2: 0}\r\n",
      "Total People in frame = 8\r\n",
      "Total People in frame = [array([0.30802363, 0.23776034, 0.4426214 , 0.86417055], dtype=float32), array([0.04761056, 0.26926813, 0.2272273 , 0.9654546 ], dtype=float32), array([0.6684818 , 0.23784801, 0.7750294 , 0.7631353 ], dtype=float32), array([0.5395982 , 0.21442476, 0.67262197, 0.8026953 ], dtype=float32), array([0.7951306 , 0.25632083, 0.92160547, 0.6737975 ], dtype=float32), array([0.7423849 , 0.24300945, 0.80706716, 0.5931147 ], dtype=float32), array([0.902009  , 0.24748379, 0.959929  , 0.5319062 ], dtype=float32), array([0.9170413, 0.264562 , 0.9883467, 0.5568595], dtype=float32)]\r\n",
      "Number of people in queue = {1: 0, 2: 0}\r\n",
      "Total People in frame = 7\r\n",
      "Total People in frame = [array([0.3084113 , 0.23712465, 0.44242555, 0.86404824], dtype=float32), array([0.04738421, 0.26898053, 0.22729778, 0.9644643 ], dtype=float32), array([0.6684768, 0.2374829, 0.7753506, 0.7633488], dtype=float32), array([0.540282  , 0.21354985, 0.67271864, 0.8034513 ], dtype=float32), array([0.79486835, 0.25640604, 0.92182016, 0.67409396], dtype=float32), array([0.74245125, 0.24222913, 0.8069487 , 0.59200823], dtype=float32), array([0.9019568 , 0.24654791, 0.95943046, 0.53279364], dtype=float32)]\r\n",
      "Number of people in queue = {1: 0, 2: 0}\r\n",
      "Total People in frame = 8\r\n",
      "Total People in frame = [array([0.3081306 , 0.23806137, 0.4436132 , 0.8649202 ], dtype=float32), array([0.0473761 , 0.26921877, 0.22755766, 0.9655286 ], dtype=float32), array([0.669034 , 0.2372244, 0.7754849, 0.7638585], dtype=float32), array([0.5458997 , 0.2144064 , 0.67299706, 0.8022555 ], dtype=float32), array([0.79494935, 0.25665095, 0.92198116, 0.67399573], dtype=float32), array([0.74338037, 0.24243762, 0.80825037, 0.59178317], dtype=float32), array([0.9016205 , 0.24588747, 0.95974076, 0.53368956], dtype=float32), array([0.9171493 , 0.2597319 , 0.98826313, 0.55848503], dtype=float32)]\r\n",
      "Number of people in queue = {1: 0, 2: 0}\r\n",
      "Total People in frame = 7\r\n",
      "Total People in frame = [array([0.30788767, 0.23814207, 0.4439072 , 0.86527926], dtype=float32), array([0.0473344 , 0.26903254, 0.22746709, 0.96588224], dtype=float32), array([0.66898054, 0.23876807, 0.7757593 , 0.7642294 ], dtype=float32), array([0.54918104, 0.21373332, 0.6735092 , 0.80028045], dtype=float32), array([0.7948015 , 0.25661433, 0.9216132 , 0.6739976 ], dtype=float32), array([0.743718  , 0.24267398, 0.8090842 , 0.59125644], dtype=float32), array([0.9009193 , 0.24727067, 0.9603478 , 0.53498876], dtype=float32)]\r\n",
      "Number of people in queue = {1: 0, 2: 0}\r\n",
      "Total People in frame = 8\r\n",
      "Total People in frame = [array([0.3089774 , 0.23561907, 0.44276413, 0.8703116 ], dtype=float32), array([0.04701813, 0.26941934, 0.2278986 , 0.96574664], dtype=float32), array([0.6677172 , 0.23708394, 0.77597475, 0.76699364], dtype=float32), array([0.5453267, 0.2095632, 0.6737642, 0.7998217], dtype=float32), array([0.79549474, 0.25677013, 0.92132205, 0.673857  ], dtype=float32), array([0.7440663 , 0.24084319, 0.8097705 , 0.592431  ], dtype=float32), array([0.9003385, 0.2503395, 0.9594763, 0.5352415], dtype=float32), array([0.9168458 , 0.2620963 , 0.9896128 , 0.55566514], dtype=float32)]\r\n",
      "Number of people in queue = {1: 0, 2: 0}\r\n",
      "Total People in frame = 8\r\n",
      "Total People in frame = [array([0.30866313, 0.23735073, 0.44381434, 0.86413884], dtype=float32), array([0.04692486, 0.26949462, 0.22788489, 0.9653765 ], dtype=float32), array([0.66781646, 0.23658386, 0.77718073, 0.7674526 ], dtype=float32), array([0.545836  , 0.20835787, 0.6746867 , 0.7995729 ], dtype=float32), array([0.7957424 , 0.25678053, 0.9212518 , 0.67348933], dtype=float32), array([0.742676  , 0.24139404, 0.80933297, 0.59416413], dtype=float32), array([0.91747063, 0.26084742, 0.9919005 , 0.5565057 ], dtype=float32), array([0.90002984, 0.25001442, 0.96003276, 0.5351759 ], dtype=float32)]\r\n",
      "Number of people in queue = {1: 0, 2: 0}\r\n",
      "Total People in frame = 8\r\n",
      "Total People in frame = [array([0.04685108, 0.26998028, 0.2280861 , 0.9657496 ], dtype=float32), array([0.30938408, 0.23712426, 0.44385603, 0.8675366 ], dtype=float32), array([0.66835   , 0.23643568, 0.7778257 , 0.76833856], dtype=float32), array([0.54198134, 0.20405772, 0.6751815 , 0.8003833 ], dtype=float32), array([0.79581255, 0.25689667, 0.9212226 , 0.673365  ], dtype=float32), array([0.74183774, 0.24032024, 0.8083334 , 0.5928403 ], dtype=float32), array([0.9200381 , 0.2647775 , 0.9938868 , 0.56160414], dtype=float32), array([0.89967763, 0.24930556, 0.95945   , 0.5350459 ], dtype=float32)]\r\n",
      "Number of people in queue = {1: 0, 2: 0}\r\n",
      "Total People in frame = 8\r\n",
      "Total People in frame = [array([0.04695845, 0.26930895, 0.22790912, 0.9661714 ], dtype=float32), array([0.31045988, 0.23525822, 0.443984  , 0.86774695], dtype=float32), array([0.66850644, 0.23601338, 0.7778836 , 0.76686466], dtype=float32), array([0.5407906 , 0.19995522, 0.67452615, 0.80067074], dtype=float32), array([0.79634434, 0.25758165, 0.92120844, 0.6728359 ], dtype=float32), array([0.741398  , 0.24217995, 0.8081424 , 0.5933293 ], dtype=float32), array([0.9188052 , 0.25750202, 0.99325925, 0.5642133 ], dtype=float32), array([0.9003082 , 0.24866213, 0.9613932 , 0.5352469 ], dtype=float32)]\r\n",
      "Number of people in queue = {1: 0, 2: 0}\r\n",
      "Total People in frame = 8\r\n",
      "Total People in frame = [array([0.04683809, 0.26872367, 0.22794764, 0.9671579 ], dtype=float32), array([0.311309  , 0.23394597, 0.44350722, 0.86819327], dtype=float32), array([0.66763276, 0.23510167, 0.7781697 , 0.7681451 ], dtype=float32), array([0.543489  , 0.20173338, 0.6739998 , 0.79867077], dtype=float32), array([0.7966937 , 0.25715387, 0.9208052 , 0.6718081 ], dtype=float32), array([0.7416165 , 0.24234685, 0.8081131 , 0.5926719 ], dtype=float32), array([0.91947746, 0.2628491 , 0.99284613, 0.56147957], dtype=float32), array([0.9010282 , 0.24770032, 0.96075183, 0.5349925 ], dtype=float32)]\r\n",
      "Number of people in queue = {1: 0, 2: 0}\r\n",
      "Total People in frame = 7\r\n",
      "Total People in frame = [array([0.04707594, 0.2688577 , 0.22808106, 0.96698797], dtype=float32), array([0.31168675, 0.23362586, 0.4431002 , 0.8687185 ], dtype=float32), array([0.6673575 , 0.23503065, 0.7776868 , 0.76571345], dtype=float32), array([0.5445617 , 0.20036796, 0.673616  , 0.79920673], dtype=float32), array([0.7964538 , 0.2560739 , 0.9209513 , 0.67107505], dtype=float32), array([0.7405208 , 0.24324289, 0.80702895, 0.59245324], dtype=float32), array([0.9007051 , 0.2481312 , 0.9582708 , 0.53589624], dtype=float32)]\r\n",
      "Number of people in queue = {1: 0, 2: 0}\r\n",
      "Total People in frame = 7\r\n",
      "Total People in frame = [array([0.04670161, 0.27048454, 0.22835469, 0.96667016], dtype=float32), array([0.3120139 , 0.23379749, 0.44215092, 0.86775094], dtype=float32), array([0.6665416 , 0.23496032, 0.7778739 , 0.7649524 ], dtype=float32), array([0.54360205, 0.20140979, 0.6737395 , 0.8000847 ], dtype=float32), array([0.7966437 , 0.2566483 , 0.920849  , 0.67061406], dtype=float32), array([0.7398705 , 0.24393047, 0.8067313 , 0.5931045 ], dtype=float32), array([0.90079665, 0.24828443, 0.9583819 , 0.5355823 ], dtype=float32)]\r\n",
      "Number of people in queue = {1: 0, 2: 0}\r\n",
      "Total People in frame = 7\r\n",
      "Total People in frame = [array([0.0466659 , 0.27077514, 0.22798568, 0.96654457], dtype=float32), array([0.3115136 , 0.23425877, 0.44159722, 0.86889184], dtype=float32), array([0.66603225, 0.23476738, 0.7778222 , 0.76465034], dtype=float32), array([0.5457178, 0.2010392, 0.6733963, 0.8000816], dtype=float32), array([0.79676926, 0.25708342, 0.9207674 , 0.67089176], dtype=float32), array([0.74025494, 0.24419202, 0.80630356, 0.593824  ], dtype=float32), array([0.9006646 , 0.2501302 , 0.9582525 , 0.53582287], dtype=float32)]\r\n",
      "Number of people in queue = {1: 0, 2: 0}\r\n",
      "Total People in frame = 7\r\n",
      "Total People in frame = [array([0.0469183 , 0.2698716 , 0.22762385, 0.9666475 ], dtype=float32), array([0.3107991 , 0.23326099, 0.44160536, 0.874037  ], dtype=float32), array([0.66572684, 0.23513845, 0.77848774, 0.76591563], dtype=float32), array([0.5452992 , 0.20067242, 0.6728835 , 0.80141604], dtype=float32), array([0.7961002 , 0.25737843, 0.9206874 , 0.67141104], dtype=float32), array([0.74242836, 0.24463339, 0.8092267 , 0.59639233], dtype=float32), array([0.90056247, 0.25020897, 0.95854956, 0.5357502 ], dtype=float32)]\r\n",
      "Number of people in queue = {1: 0, 2: 0}\r\n",
      "Total People in frame = 7\r\n",
      "Total People in frame = [array([0.04724768, 0.26964608, 0.22749364, 0.9658408 ], dtype=float32), array([0.31080335, 0.23341891, 0.44142812, 0.8750733 ], dtype=float32), array([0.66519684, 0.23577979, 0.77878803, 0.766752  ], dtype=float32), array([0.54435676, 0.19985616, 0.67235   , 0.8020357 ], dtype=float32), array([0.79649067, 0.25777143, 0.92089224, 0.67226   ], dtype=float32), array([0.74236894, 0.24512094, 0.80886495, 0.59613645], dtype=float32), array([0.9004778 , 0.25058144, 0.9581061 , 0.5360132 ], dtype=float32)]\r\n",
      "Number of people in queue = {1: 0, 2: 0}\r\n",
      "Total People in frame = 7\r\n",
      "Total People in frame = [array([0.31032526, 0.23350313, 0.44127268, 0.87428117], dtype=float32), array([0.04752891, 0.26946387, 0.2274421 , 0.96670675], dtype=float32), array([0.66479933, 0.23628154, 0.77903426, 0.7665409 ], dtype=float32), array([0.5428185 , 0.20030299, 0.6720986 , 0.80250406], dtype=float32), array([0.79630303, 0.25665152, 0.9210807 , 0.6726046 ], dtype=float32), array([0.74026483, 0.24622752, 0.8067121 , 0.5954499 ], dtype=float32), array([0.9006358 , 0.25160718, 0.95847136, 0.53535664], dtype=float32)]\r\n",
      "Number of people in queue = {1: 0, 2: 0}\r\n",
      "Total People in frame = 7\r\n",
      "Total People in frame = [array([0.30983394, 0.23441815, 0.44139665, 0.8666918 ], dtype=float32), array([0.04772812, 0.26985177, 0.22748101, 0.9667909 ], dtype=float32), array([0.66545755, 0.2363044 , 0.77959603, 0.7655945 ], dtype=float32), array([0.54075986, 0.20229498, 0.67222923, 0.80265296], dtype=float32), array([0.79663616, 0.2569606 , 0.92073137, 0.6745424 ], dtype=float32), array([0.74068946, 0.24720511, 0.8070466 , 0.59509075], dtype=float32), array([0.89990735, 0.25166953, 0.95840704, 0.53298664], dtype=float32)]\r\n",
      "Number of people in queue = {1: 0, 2: 0}\r\n",
      "Total People in frame = 8\r\n",
      "Total People in frame = [array([0.30984807, 0.23473471, 0.44191343, 0.86717993], dtype=float32), array([0.04764865, 0.27005088, 0.22755499, 0.9673716 ], dtype=float32), array([0.6667292 , 0.23781902, 0.778406  , 0.76466304], dtype=float32), array([0.5385226 , 0.19877279, 0.67337954, 0.8015317 ], dtype=float32), array([0.7957248 , 0.25910008, 0.9205739 , 0.6757216 ], dtype=float32), array([0.7440591 , 0.24826334, 0.8070642 , 0.59411454], dtype=float32), array([0.89929676, 0.25365037, 0.9587579 , 0.53073287], dtype=float32), array([0.92219734, 0.28751272, 0.9920939 , 0.5560905 ], dtype=float32)]\r\n",
      "Number of people in queue = {1: 0, 2: 0}\r\n",
      "Total People in frame = 7\r\n",
      "Total People in frame = [array([0.30992255, 0.23497006, 0.44174662, 0.8620335 ], dtype=float32), array([0.04774792, 0.26999027, 0.22753999, 0.96666485], dtype=float32), array([0.6675434 , 0.23769757, 0.77838373, 0.766021  ], dtype=float32), array([0.5395504 , 0.19722974, 0.6733866 , 0.8031479 ], dtype=float32), array([0.7940979 , 0.25864172, 0.92144895, 0.67575043], dtype=float32), array([0.7428451 , 0.24934267, 0.8044664 , 0.59138346], dtype=float32), array([0.8994718, 0.2526051, 0.9571933, 0.5317658], dtype=float32)]\r\n",
      "Number of people in queue = {1: 0, 2: 0}\r\n",
      "Total People in frame = 7\r\n",
      "Total People in frame = [array([0.30966735, 0.23603636, 0.44305664, 0.8617261 ], dtype=float32), array([0.04824743, 0.27040163, 0.2272223 , 0.96784437], dtype=float32), array([0.6668993 , 0.23691851, 0.7787492 , 0.76841635], dtype=float32), array([0.5408888 , 0.20147529, 0.6731415 , 0.8021425 ], dtype=float32), array([0.7931442 , 0.25841382, 0.92173743, 0.6764989 ], dtype=float32), array([0.7387171 , 0.2476238 , 0.80405045, 0.5945189 ], dtype=float32), array([0.8998709 , 0.24874625, 0.9573419 , 0.5355506 ], dtype=float32)]\r\n",
      "Number of people in queue = {1: 0, 2: 0}\r\n",
      "Total People in frame = 7\r\n",
      "Total People in frame = [array([0.30927575, 0.23668012, 0.4437908 , 0.8617617 ], dtype=float32), array([0.04816037, 0.27009043, 0.2272507 , 0.96790516], dtype=float32), array([0.6669913 , 0.23814797, 0.77897257, 0.7689438 ], dtype=float32), array([0.53609866, 0.20409304, 0.6737878 , 0.80298024], dtype=float32), array([0.7874455, 0.2578988, 0.9221255, 0.677396 ], dtype=float32), array([0.74329746, 0.24797183, 0.8065338 , 0.5872243 ], dtype=float32), array([0.9004761 , 0.24763748, 0.95855963, 0.53610647], dtype=float32)]\r\n",
      "Number of people in queue = {1: 0, 2: 0}\r\n",
      "Total People in frame = 7\r\n",
      "Total People in frame = [array([0.3095051 , 0.23686129, 0.44394732, 0.86069244], dtype=float32), array([0.04839771, 0.2699237 , 0.2271266 , 0.9669521 ], dtype=float32), array([0.66586894, 0.23921177, 0.7799619 , 0.76835847], dtype=float32), array([0.53344685, 0.20681491, 0.673292  , 0.80365133], dtype=float32), array([0.78028345, 0.2587828 , 0.91758   , 0.6686572 ], dtype=float32), array([0.74088424, 0.24593471, 0.80852395, 0.5902192 ], dtype=float32), array([0.9006801 , 0.24923074, 0.9585946 , 0.53699946], dtype=float32)]\r\n",
      "Number of people in queue = {1: 0, 2: 0}\r\n",
      "Total People in frame = 7\r\n",
      "Total People in frame = [array([0.30977246, 0.23708141, 0.44452956, 0.8616718 ], dtype=float32), array([0.04847588, 0.26863852, 0.22664647, 0.96887743], dtype=float32), array([0.6654907 , 0.24044663, 0.78093463, 0.7678891 ], dtype=float32), array([0.5341214 , 0.2049545 , 0.67354846, 0.80376244], dtype=float32), array([0.7795196 , 0.25917804, 0.9172258 , 0.6690412 ], dtype=float32), array([0.7399298, 0.2478804, 0.8087295, 0.5918354], dtype=float32), array([0.9011308 , 0.2500741 , 0.95880747, 0.53663486], dtype=float32)]\r\n",
      "Number of people in queue = {1: 0, 2: 0}\r\n",
      "Total People in frame = 7\r\n",
      "Total People in frame = [array([0.30962336, 0.23704883, 0.44402766, 0.86152375], dtype=float32), array([0.04815625, 0.2685909 , 0.22695376, 0.9693172 ], dtype=float32), array([0.53096575, 0.20989251, 0.67345613, 0.80334735], dtype=float32), array([0.6663598 , 0.23960334, 0.7825633 , 0.76641136], dtype=float32), array([0.78724796, 0.25762433, 0.92183393, 0.67608774], dtype=float32), array([0.73917574, 0.24825397, 0.8088921 , 0.5950742 ], dtype=float32), array([0.9008679 , 0.24887855, 0.95879346, 0.5372015 ], dtype=float32)]\r\n",
      "Number of people in queue = {1: 0, 2: 0}\r\n",
      "Total People in frame = 7\r\n",
      "Total People in frame = [array([0.30984527, 0.23665178, 0.44395262, 0.8610147 ], dtype=float32), array([0.04839166, 0.26814324, 0.2269225 , 0.969305  ], dtype=float32), array([0.5294514 , 0.21467558, 0.67256844, 0.8025631 ], dtype=float32), array([0.66581696, 0.23883462, 0.78108746, 0.76725686], dtype=float32), array([0.790457  , 0.25702178, 0.92193353, 0.6748877 ], dtype=float32), array([0.7378515 , 0.24729224, 0.80603087, 0.59685606], dtype=float32), array([0.90112394, 0.24997242, 0.9590915 , 0.5378389 ], dtype=float32)]\r\n",
      "Number of people in queue = {1: 0, 2: 0}\r\n",
      "Total People in frame = 7\r\n",
      "Total People in frame = [array([0.30974478, 0.23688594, 0.443326  , 0.86218977], dtype=float32), array([0.04908832, 0.26396373, 0.22221074, 0.95401216], dtype=float32), array([0.5160017 , 0.21354717, 0.67207587, 0.80915326], dtype=float32), array([0.666194 , 0.2378448, 0.7821699, 0.7672384], dtype=float32), array([0.7932582, 0.2578393, 0.921783 , 0.6734909], dtype=float32), array([0.73798895, 0.24426924, 0.80405605, 0.59557897], dtype=float32), array([0.90154284, 0.2508828 , 0.95963496, 0.53741884], dtype=float32)]\r\n",
      "Number of people in queue = {1: 0, 2: 0}\r\n",
      "Total People in frame = 7\r\n",
      "Total People in frame = [array([0.30906945, 0.23786005, 0.44387603, 0.85950124], dtype=float32), array([0.50662124, 0.21473908, 0.6683153 , 0.81681466], dtype=float32), array([0.0479809 , 0.26397133, 0.22741967, 0.9672495 ], dtype=float32), array([0.6654971 , 0.23699242, 0.7816246 , 0.76662976], dtype=float32), array([0.79601425, 0.25758255, 0.92106575, 0.67319137], dtype=float32), array([0.74024844, 0.24165428, 0.80746305, 0.6012343 ], dtype=float32), array([0.9017278 , 0.25117445, 0.95936   , 0.53803766], dtype=float32)]\r\n",
      "Number of people in queue = {1: 0, 2: 0}\r\n",
      "Total People in frame = 7\r\n",
      "Total People in frame = [array([0.30845642, 0.23924878, 0.44461256, 0.8582624 ], dtype=float32), array([0.50458324, 0.21853408, 0.6669626 , 0.8187784 ], dtype=float32), array([0.04787356, 0.26298583, 0.22761935, 0.9688071 ], dtype=float32), array([0.6651715 , 0.23863634, 0.7819598 , 0.7668543 ], dtype=float32), array([0.79436487, 0.25680786, 0.92080575, 0.6737825 ], dtype=float32), array([0.74118936, 0.24357489, 0.81111836, 0.6002265 ], dtype=float32), array([0.901854  , 0.25124082, 0.95940787, 0.5366962 ], dtype=float32)]\r\n",
      "Number of people in queue = {1: 0, 2: 0}\r\n",
      "Total People in frame = 7\r\n",
      "Total People in frame = [array([0.30790243, 0.23947287, 0.4435341 , 0.8591902 ], dtype=float32), array([0.04842505, 0.26259115, 0.22766888, 0.9689276 ], dtype=float32), array([0.50131977, 0.22010654, 0.6667626 , 0.81988853], dtype=float32), array([0.6642307 , 0.23885977, 0.7815436 , 0.7667582 ], dtype=float32), array([0.7942362 , 0.25580913, 0.920861  , 0.672915  ], dtype=float32), array([0.7391755 , 0.24249266, 0.80860585, 0.59807736], dtype=float32), array([0.9020673 , 0.25092727, 0.9594065 , 0.53642386], dtype=float32)]\r\n",
      "Number of people in queue = {1: 0, 2: 0}\r\n",
      "Total People in frame = 7\r\n",
      "Total People in frame = [array([0.30810934, 0.23993465, 0.4433874 , 0.85766876], dtype=float32), array([0.49772236, 0.21895221, 0.66578853, 0.8169614 ], dtype=float32), array([0.04932468, 0.26141286, 0.22973792, 0.96900225], dtype=float32), array([0.6632766 , 0.24001619, 0.7802573 , 0.76597035], dtype=float32), array([0.7951217 , 0.25634658, 0.92102104, 0.6720721 ], dtype=float32), array([0.7374114 , 0.24782582, 0.8064265 , 0.59825194], dtype=float32), array([0.90197754, 0.25142816, 0.9593271 , 0.53586173], dtype=float32)]\r\n",
      "Number of people in queue = {1: 0, 2: 0}\r\n",
      "Total People in frame = 0\r\n",
      "Total People in frame = []\r\n",
      "Number of people in queue = {1: 0, 2: 0}\r\n",
      "results/\r\n",
      "results/manufacturing/\r\n",
      "results/manufacturing/cpu/\r\n",
      "results/manufacturing/cpu/stats.txt\r\n",
      "results/manufacturing/cpu/output_video.mp4\r\n",
      "stderr.log\r\n"
     ]
    }
   ],
   "source": [
    "!cat stdout.log"
   ]
  },
  {
   "cell_type": "markdown",
   "metadata": {},
   "source": [
    "#### View stderr.log\n",
    "This can be used for debugging."
   ]
  },
  {
   "cell_type": "code",
   "execution_count": 7,
   "metadata": {},
   "outputs": [
    {
     "name": "stdout",
     "output_type": "stream",
     "text": [
      "person_detect.py:49: DeprecationWarning: Reading network using constructor is deprecated. Please, use IECore.read_network() method instead\r\n",
      "  self.model=IENetwork(self.model_structure, self.model_weights)\r\n"
     ]
    }
   ],
   "source": [
    "!cat stderr.log"
   ]
  },
  {
   "cell_type": "markdown",
   "metadata": {},
   "source": [
    "#### View Output Video\n",
    "Run the cell below to view the output video. If inference was successfully run, you should see a video with bounding boxes drawn around each person detected."
   ]
  },
  {
   "cell_type": "code",
   "execution_count": 8,
   "metadata": {},
   "outputs": [
    {
     "data": {
      "text/html": [
       "<h5>Manufacturing CPU</h5>\n",
       "        <video alt=\"\" controls autoplay muted height=\"480\"><source src=\"results/manufacturing/cpu/output_video.mp4\" type=\"video/mp4\" /></video>\n",
       "        "
      ],
      "text/plain": [
       "<IPython.core.display.HTML object>"
      ]
     },
     "execution_count": 8,
     "metadata": {},
     "output_type": "execute_result"
    }
   ],
   "source": [
    "import videoHtml\n",
    "\n",
    "videoHtml.videoHTML('Manufacturing CPU', ['results/manufacturing/cpu/output_video.mp4'])"
   ]
  },
  {
   "cell_type": "markdown",
   "metadata": {},
   "source": [
    "## Step 1.2: Submit to an Edge Compute Node with CPU and IGPU\n",
    "In the cell below, write a script to submit a job to an <a \n",
    "    href=\"https://software.intel.com/en-us/iot/hardware/iei-tank-dev-kit-core\">IEI \n",
    "    Tank* 870-Q170</a> edge node with an <a href=\"https://ark.intel.com/products/88186/Intel-Core-i5-6500TE-Processor-6M-Cache-up-to-3-30-GHz-\">Intel® Core i5-6500TE</a>. The inference workload should run on the **Intel® HD Graphics 530** integrated GPU."
   ]
  },
  {
   "cell_type": "code",
   "execution_count": null,
   "metadata": {},
   "outputs": [],
   "source": [
    "#Submit job to the queue\n",
    "gpu_job_id = \n",
    "\n",
    "print(gpu_job_id[0])"
   ]
  },
  {
   "cell_type": "markdown",
   "metadata": {},
   "source": [
    "### Check Job Status\n",
    "\n",
    "To check on the job that was submitted, use `liveQStat` to check the status of the job.\n",
    "\n",
    "Column `S` shows the state of your running jobs.\n",
    "\n",
    "For example:\n",
    "- If `JOB ID`is in Q state, it is in the queue waiting for available resources.\n",
    "- If `JOB ID` is in R state, it is running."
   ]
  },
  {
   "cell_type": "code",
   "execution_count": null,
   "metadata": {},
   "outputs": [],
   "source": [
    "import liveQStat\n",
    "liveQStat.liveQStat()"
   ]
  },
  {
   "cell_type": "markdown",
   "metadata": {},
   "source": [
    "#### Get Results\n",
    "\n",
    "Run the next cell to retrieve your job's results."
   ]
  },
  {
   "cell_type": "code",
   "execution_count": null,
   "metadata": {},
   "outputs": [],
   "source": [
    "import get_results\n",
    "get_results.getResults(gpu_job_id[0], filename='output.tgz', blocking=True)"
   ]
  },
  {
   "cell_type": "markdown",
   "metadata": {},
   "source": [
    "#### Unpack your output files and view stdout.log"
   ]
  },
  {
   "cell_type": "code",
   "execution_count": null,
   "metadata": {},
   "outputs": [],
   "source": [
    "!tar zxf output.tgz"
   ]
  },
  {
   "cell_type": "code",
   "execution_count": null,
   "metadata": {},
   "outputs": [],
   "source": [
    "!cat stdout.log"
   ]
  },
  {
   "cell_type": "markdown",
   "metadata": {},
   "source": [
    "#### View stderr.log\n",
    "This can be used for debugging."
   ]
  },
  {
   "cell_type": "code",
   "execution_count": null,
   "metadata": {},
   "outputs": [],
   "source": [
    "!cat stderr.log"
   ]
  },
  {
   "cell_type": "markdown",
   "metadata": {},
   "source": [
    "#### View Output Video\n",
    "Run the cell below to view the output video. If inference was successfully run, you should see a video with bounding boxes drawn around each person detected."
   ]
  },
  {
   "cell_type": "code",
   "execution_count": null,
   "metadata": {},
   "outputs": [],
   "source": [
    "import videoHtml\n",
    "\n",
    "videoHtml.videoHTML('Manufacturing GPU', ['results/manufacturing/gpu/output_video.mp4'])"
   ]
  },
  {
   "cell_type": "markdown",
   "metadata": {},
   "source": [
    "## Step 1.3: Submit to an Edge Compute Node with a Neural Compute Stick 2\n",
    "In the cell below, write a script to submit a job to an <a \n",
    "    href=\"https://software.intel.com/en-us/iot/hardware/iei-tank-dev-kit-core\">IEI \n",
    "    Tank 870-Q170</a> edge node with an <a href=\"https://ark.intel.com/products/88186/Intel-Core-i5-6500TE-Processor-6M-Cache-up-to-3-30-GHz-\">Intel Core i5-6500te CPU</a>. The inference workload should run on an <a \n",
    "    href=\"https://software.intel.com/en-us/neural-compute-stick\">Intel Neural Compute Stick 2</a> installed in this  node."
   ]
  },
  {
   "cell_type": "code",
   "execution_count": null,
   "metadata": {},
   "outputs": [],
   "source": [
    "#Submit job to the queue\n",
    "vpu_job_id = \n",
    "\n",
    "print(vpu_job_id[0])"
   ]
  },
  {
   "cell_type": "markdown",
   "metadata": {},
   "source": [
    "### Check Job Status\n",
    "\n",
    "To check on the job that was submitted, use `liveQStat` to check the status of the job.\n",
    "\n",
    "Column `S` shows the state of your running jobs.\n",
    "\n",
    "For example:\n",
    "- If `JOB ID`is in Q state, it is in the queue waiting for available resources.\n",
    "- If `JOB ID` is in R state, it is running."
   ]
  },
  {
   "cell_type": "code",
   "execution_count": null,
   "metadata": {},
   "outputs": [],
   "source": [
    "import liveQStat\n",
    "liveQStat.liveQStat()"
   ]
  },
  {
   "cell_type": "markdown",
   "metadata": {},
   "source": [
    "#### Get Results\n",
    "\n",
    "Run the next cell to retrieve your job's results."
   ]
  },
  {
   "cell_type": "code",
   "execution_count": null,
   "metadata": {},
   "outputs": [],
   "source": [
    "import get_results\n",
    "get_results.getResults(vpu_job_id[0], filename='output.tgz', blocking=True)"
   ]
  },
  {
   "cell_type": "markdown",
   "metadata": {},
   "source": [
    "#### Unpack your output files and view stdout.log"
   ]
  },
  {
   "cell_type": "code",
   "execution_count": null,
   "metadata": {},
   "outputs": [],
   "source": [
    "!tar zxf output.tgz"
   ]
  },
  {
   "cell_type": "code",
   "execution_count": null,
   "metadata": {},
   "outputs": [],
   "source": [
    "!cat stdout.log"
   ]
  },
  {
   "cell_type": "markdown",
   "metadata": {},
   "source": [
    "#### View stderr.log\n",
    "This can be used for debugging."
   ]
  },
  {
   "cell_type": "code",
   "execution_count": null,
   "metadata": {},
   "outputs": [],
   "source": [
    "!cat stderr.log"
   ]
  },
  {
   "cell_type": "markdown",
   "metadata": {},
   "source": [
    "#### View Output Video\n",
    "Run the cell below to view the output video. If inference was successfully run, you should see a video with bounding boxes drawn around each person detected."
   ]
  },
  {
   "cell_type": "code",
   "execution_count": null,
   "metadata": {},
   "outputs": [],
   "source": [
    "import videoHtml\n",
    "\n",
    "videoHtml.videoHTML('Manufacturing VPU', ['results/manufacturing/vpu/output_video.mp4'])"
   ]
  },
  {
   "cell_type": "markdown",
   "metadata": {},
   "source": [
    "## Step 1.4: Submit to an Edge Compute Node with IEI Mustang-F100-A10\n",
    "In the cell below, write a script to submit a job to an <a \n",
    "    href=\"https://software.intel.com/en-us/iot/hardware/iei-tank-dev-kit-core\">IEI \n",
    "    Tank 870-Q170</a> edge node with an <a href=\"https://ark.intel.com/products/88186/Intel-Core-i5-6500TE-Processor-6M-Cache-up-to-3-30-GHz-\">Intel Core™ i5-6500te CPU</a> . The inference workload will run on the <a href=\"https://www.ieiworld.com/mustang-f100/en/\"> IEI Mustang-F100-A10 </a> FPGA card installed in this node."
   ]
  },
  {
   "cell_type": "code",
   "execution_count": null,
   "metadata": {},
   "outputs": [],
   "source": [
    "#Submit job to the queue\n",
    "fpga_job_id = \n",
    "\n",
    "print(fpga_job_id[0])"
   ]
  },
  {
   "cell_type": "markdown",
   "metadata": {},
   "source": [
    "### Check Job Status\n",
    "\n",
    "To check on the job that was submitted, use `liveQStat` to check the status of the job.\n",
    "\n",
    "Column `S` shows the state of your running jobs.\n",
    "\n",
    "For example:\n",
    "- If `JOB ID`is in Q state, it is in the queue waiting for available resources.\n",
    "- If `JOB ID` is in R state, it is running."
   ]
  },
  {
   "cell_type": "code",
   "execution_count": null,
   "metadata": {},
   "outputs": [],
   "source": [
    "import liveQStat\n",
    "liveQStat.liveQStat()"
   ]
  },
  {
   "cell_type": "markdown",
   "metadata": {},
   "source": [
    "#### Get Results\n",
    "\n",
    "Run the next cell to retrieve your job's results."
   ]
  },
  {
   "cell_type": "code",
   "execution_count": null,
   "metadata": {},
   "outputs": [],
   "source": [
    "import get_results\n",
    "get_results.getResults(fpga_job_id[0], filename='output.tgz', blocking=True)"
   ]
  },
  {
   "cell_type": "markdown",
   "metadata": {},
   "source": [
    "#### Unpack your output files and view stdout.log"
   ]
  },
  {
   "cell_type": "code",
   "execution_count": null,
   "metadata": {},
   "outputs": [],
   "source": [
    "!tar zxf output.tgz"
   ]
  },
  {
   "cell_type": "code",
   "execution_count": null,
   "metadata": {},
   "outputs": [],
   "source": [
    "!cat stdout.log"
   ]
  },
  {
   "cell_type": "markdown",
   "metadata": {},
   "source": [
    "#### View stderr.log\n",
    "This can be used for debugging."
   ]
  },
  {
   "cell_type": "code",
   "execution_count": null,
   "metadata": {},
   "outputs": [],
   "source": [
    "!cat stderr.log"
   ]
  },
  {
   "cell_type": "markdown",
   "metadata": {},
   "source": [
    "#### View Output Video\n",
    "Run the cell below to view the output video. If inference was successfully run, you should see a video with bounding boxes drawn around each person detected."
   ]
  },
  {
   "cell_type": "code",
   "execution_count": null,
   "metadata": {},
   "outputs": [],
   "source": [
    "import videoHtml\n",
    "\n",
    "videoHtml.videoHTML('Manufacturing FPGA', ['results/manufacturing/fpga/output_video.mp4'])"
   ]
  },
  {
   "cell_type": "markdown",
   "metadata": {},
   "source": [
    "***Wait!***\n",
    "\n",
    "Please wait for all the inference jobs and video rendering to complete before proceeding to the next step.\n",
    "\n",
    "## Step 2: Assess Performance\n",
    "\n",
    "Run the cells below to compare the performance across all 4 devices. The following timings for the model are being compared across all 4 devices:\n",
    "\n",
    "- Model Loading Time\n",
    "- Average Inference Time\n",
    "- FPS"
   ]
  },
  {
   "cell_type": "code",
   "execution_count": null,
   "metadata": {},
   "outputs": [],
   "source": [
    "import matplotlib.pyplot as plt\n",
    "\n",
    "device_list=['cpu', 'gpu', 'fpga', 'vpu']\n",
    "inference_time=[]\n",
    "fps=[]\n",
    "model_load_time=[]\n",
    "\n",
    "for device in device_list:\n",
    "    with open('results/manufacturing/'+device+'/stats.txt', 'r') as f:\n",
    "        inference_time.append(float(f.readline().split(\"\\n\")[0]))\n",
    "        fps.append(float(f.readline().split(\"\\n\")[0]))\n",
    "        model_load_time.append(float(f.readline().split(\"\\n\")[0]))"
   ]
  },
  {
   "cell_type": "code",
   "execution_count": null,
   "metadata": {},
   "outputs": [],
   "source": [
    "plt.bar(device_list, inference_time)\n",
    "plt.xlabel(\"Device Used\")\n",
    "plt.ylabel(\"Total Inference Time in Seconds\")\n",
    "plt.show()"
   ]
  },
  {
   "cell_type": "code",
   "execution_count": null,
   "metadata": {},
   "outputs": [],
   "source": [
    "plt.bar(device_list, fps)\n",
    "plt.xlabel(\"Device Used\")\n",
    "plt.ylabel(\"Frames per Second\")\n",
    "plt.show()"
   ]
  },
  {
   "cell_type": "code",
   "execution_count": null,
   "metadata": {},
   "outputs": [],
   "source": [
    "plt.bar(device_list, model_load_time)\n",
    "plt.xlabel(\"Device Used\")\n",
    "plt.ylabel(\"Model Loading Time in Seconds\")\n",
    "plt.show()"
   ]
  },
  {
   "cell_type": "markdown",
   "metadata": {},
   "source": [
    "# Step 3: Update Proposal Document\n",
    "\n",
    "Now that you've completed your hardware testing, you should go back to the proposal document and validate or update your originally proposed hardware. Once you've updated your proposal, you can move on to the next scenario."
   ]
  }
 ],
 "metadata": {
  "kernelspec": {
   "display_name": "Python 3",
   "language": "python",
   "name": "python3"
  },
  "language_info": {
   "codemirror_mode": {
    "name": "ipython",
    "version": 3
   },
   "file_extension": ".py",
   "mimetype": "text/x-python",
   "name": "python",
   "nbconvert_exporter": "python",
   "pygments_lexer": "ipython3",
   "version": "3.6.3"
  }
 },
 "nbformat": 4,
 "nbformat_minor": 2
}
